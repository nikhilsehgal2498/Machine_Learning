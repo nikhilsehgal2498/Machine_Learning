{
 "cells": [
  {
   "cell_type": "code",
   "execution_count": 1,
   "id": "a9ffa4ad",
   "metadata": {},
   "outputs": [],
   "source": [
    "# Regular EDA (exploratory data analysis) and plotting libraries\n",
    "import numpy as np\n",
    "import pandas as pd\n",
    "import matplotlib.pyplot as py\n",
    "import seaborn as sns\n",
    "\n",
    "# Models from Scikit-Learn\n",
    "from sklearn.linear_model import LogisticRegression\n",
    "from sklearn.neighbors import KNeighborsClassifier\n",
    "from sklearn.ensemble import RandomForestClassifier\n",
    "from sklearn.svm import SVC\n",
    "from sklearn.tree import DecisionTreeClassifier\n",
    "from sklearn.naive_bayes import GaussianNB\n",
    "\n",
    "# Model Evaluations\n",
    "from sklearn.model_selection import train_test_split, cross_val_score\n",
    "from sklearn.model_selection import RandomizedSearchCV, GridSearchCV\n",
    "from sklearn.metrics import confusion_matrix, classification_report,accuracy_score\n",
    "from sklearn.metrics import precision_score, recall_score\n",
    "from sklearn.metrics import roc_curve,roc_auc_score,auc\n",
    "\n",
    "import warnings\n",
    "warnings.filterwarnings('ignore')"
   ]
  },
  {
   "cell_type": "code",
   "execution_count": 2,
   "id": "3f937c79",
   "metadata": {},
   "outputs": [],
   "source": [
    "pd.set_option('display.max_columns', None)"
   ]
  },
  {
   "cell_type": "code",
   "execution_count": 3,
   "id": "f16d9701",
   "metadata": {},
   "outputs": [
    {
     "data": {
      "text/html": [
       "<div>\n",
       "<style scoped>\n",
       "    .dataframe tbody tr th:only-of-type {\n",
       "        vertical-align: middle;\n",
       "    }\n",
       "\n",
       "    .dataframe tbody tr th {\n",
       "        vertical-align: top;\n",
       "    }\n",
       "\n",
       "    .dataframe thead th {\n",
       "        text-align: right;\n",
       "    }\n",
       "</style>\n",
       "<table border=\"1\" class=\"dataframe\">\n",
       "  <thead>\n",
       "    <tr style=\"text-align: right;\">\n",
       "      <th></th>\n",
       "      <th>months_as_customer</th>\n",
       "      <th>age</th>\n",
       "      <th>policy_number</th>\n",
       "      <th>policy_bind_date</th>\n",
       "      <th>policy_state</th>\n",
       "      <th>policy_csl</th>\n",
       "      <th>policy_deductable</th>\n",
       "      <th>policy_annual_premium</th>\n",
       "      <th>umbrella_limit</th>\n",
       "      <th>insured_zip</th>\n",
       "      <th>insured_sex</th>\n",
       "      <th>insured_education_level</th>\n",
       "      <th>insured_occupation</th>\n",
       "      <th>insured_hobbies</th>\n",
       "      <th>insured_relationship</th>\n",
       "      <th>capital-gains</th>\n",
       "      <th>capital-loss</th>\n",
       "      <th>incident_date</th>\n",
       "      <th>incident_type</th>\n",
       "      <th>collision_type</th>\n",
       "      <th>incident_severity</th>\n",
       "      <th>authorities_contacted</th>\n",
       "      <th>incident_state</th>\n",
       "      <th>incident_city</th>\n",
       "      <th>incident_location</th>\n",
       "      <th>incident_hour_of_the_day</th>\n",
       "      <th>number_of_vehicles_involved</th>\n",
       "      <th>property_damage</th>\n",
       "      <th>bodily_injuries</th>\n",
       "      <th>witnesses</th>\n",
       "      <th>police_report_available</th>\n",
       "      <th>total_claim_amount</th>\n",
       "      <th>injury_claim</th>\n",
       "      <th>property_claim</th>\n",
       "      <th>vehicle_claim</th>\n",
       "      <th>auto_make</th>\n",
       "      <th>auto_model</th>\n",
       "      <th>auto_year</th>\n",
       "      <th>fraud_reported</th>\n",
       "      <th>_c39</th>\n",
       "    </tr>\n",
       "  </thead>\n",
       "  <tbody>\n",
       "    <tr>\n",
       "      <th>0</th>\n",
       "      <td>328</td>\n",
       "      <td>48</td>\n",
       "      <td>521585</td>\n",
       "      <td>17-10-2014</td>\n",
       "      <td>OH</td>\n",
       "      <td>250/500</td>\n",
       "      <td>1000</td>\n",
       "      <td>1406.91</td>\n",
       "      <td>0</td>\n",
       "      <td>466132</td>\n",
       "      <td>MALE</td>\n",
       "      <td>MD</td>\n",
       "      <td>craft-repair</td>\n",
       "      <td>sleeping</td>\n",
       "      <td>husband</td>\n",
       "      <td>53300</td>\n",
       "      <td>0</td>\n",
       "      <td>25-01-2015</td>\n",
       "      <td>Single Vehicle Collision</td>\n",
       "      <td>Side Collision</td>\n",
       "      <td>Major Damage</td>\n",
       "      <td>Police</td>\n",
       "      <td>SC</td>\n",
       "      <td>Columbus</td>\n",
       "      <td>9935 4th Drive</td>\n",
       "      <td>5</td>\n",
       "      <td>1</td>\n",
       "      <td>YES</td>\n",
       "      <td>1</td>\n",
       "      <td>2</td>\n",
       "      <td>YES</td>\n",
       "      <td>71610</td>\n",
       "      <td>6510</td>\n",
       "      <td>13020</td>\n",
       "      <td>52080</td>\n",
       "      <td>Saab</td>\n",
       "      <td>92x</td>\n",
       "      <td>2004</td>\n",
       "      <td>Y</td>\n",
       "      <td>NaN</td>\n",
       "    </tr>\n",
       "    <tr>\n",
       "      <th>1</th>\n",
       "      <td>228</td>\n",
       "      <td>42</td>\n",
       "      <td>342868</td>\n",
       "      <td>27-06-2006</td>\n",
       "      <td>IN</td>\n",
       "      <td>250/500</td>\n",
       "      <td>2000</td>\n",
       "      <td>1197.22</td>\n",
       "      <td>5000000</td>\n",
       "      <td>468176</td>\n",
       "      <td>MALE</td>\n",
       "      <td>MD</td>\n",
       "      <td>machine-op-inspct</td>\n",
       "      <td>reading</td>\n",
       "      <td>other-relative</td>\n",
       "      <td>0</td>\n",
       "      <td>0</td>\n",
       "      <td>21-01-2015</td>\n",
       "      <td>Vehicle Theft</td>\n",
       "      <td>?</td>\n",
       "      <td>Minor Damage</td>\n",
       "      <td>Police</td>\n",
       "      <td>VA</td>\n",
       "      <td>Riverwood</td>\n",
       "      <td>6608 MLK Hwy</td>\n",
       "      <td>8</td>\n",
       "      <td>1</td>\n",
       "      <td>?</td>\n",
       "      <td>0</td>\n",
       "      <td>0</td>\n",
       "      <td>?</td>\n",
       "      <td>5070</td>\n",
       "      <td>780</td>\n",
       "      <td>780</td>\n",
       "      <td>3510</td>\n",
       "      <td>Mercedes</td>\n",
       "      <td>E400</td>\n",
       "      <td>2007</td>\n",
       "      <td>Y</td>\n",
       "      <td>NaN</td>\n",
       "    </tr>\n",
       "    <tr>\n",
       "      <th>2</th>\n",
       "      <td>134</td>\n",
       "      <td>29</td>\n",
       "      <td>687698</td>\n",
       "      <td>06-09-2000</td>\n",
       "      <td>OH</td>\n",
       "      <td>100/300</td>\n",
       "      <td>2000</td>\n",
       "      <td>1413.14</td>\n",
       "      <td>5000000</td>\n",
       "      <td>430632</td>\n",
       "      <td>FEMALE</td>\n",
       "      <td>PhD</td>\n",
       "      <td>sales</td>\n",
       "      <td>board-games</td>\n",
       "      <td>own-child</td>\n",
       "      <td>35100</td>\n",
       "      <td>0</td>\n",
       "      <td>22-02-2015</td>\n",
       "      <td>Multi-vehicle Collision</td>\n",
       "      <td>Rear Collision</td>\n",
       "      <td>Minor Damage</td>\n",
       "      <td>Police</td>\n",
       "      <td>NY</td>\n",
       "      <td>Columbus</td>\n",
       "      <td>7121 Francis Lane</td>\n",
       "      <td>7</td>\n",
       "      <td>3</td>\n",
       "      <td>NO</td>\n",
       "      <td>2</td>\n",
       "      <td>3</td>\n",
       "      <td>NO</td>\n",
       "      <td>34650</td>\n",
       "      <td>7700</td>\n",
       "      <td>3850</td>\n",
       "      <td>23100</td>\n",
       "      <td>Dodge</td>\n",
       "      <td>RAM</td>\n",
       "      <td>2007</td>\n",
       "      <td>N</td>\n",
       "      <td>NaN</td>\n",
       "    </tr>\n",
       "    <tr>\n",
       "      <th>3</th>\n",
       "      <td>256</td>\n",
       "      <td>41</td>\n",
       "      <td>227811</td>\n",
       "      <td>25-05-1990</td>\n",
       "      <td>IL</td>\n",
       "      <td>250/500</td>\n",
       "      <td>2000</td>\n",
       "      <td>1415.74</td>\n",
       "      <td>6000000</td>\n",
       "      <td>608117</td>\n",
       "      <td>FEMALE</td>\n",
       "      <td>PhD</td>\n",
       "      <td>armed-forces</td>\n",
       "      <td>board-games</td>\n",
       "      <td>unmarried</td>\n",
       "      <td>48900</td>\n",
       "      <td>-62400</td>\n",
       "      <td>10-01-2015</td>\n",
       "      <td>Single Vehicle Collision</td>\n",
       "      <td>Front Collision</td>\n",
       "      <td>Major Damage</td>\n",
       "      <td>Police</td>\n",
       "      <td>OH</td>\n",
       "      <td>Arlington</td>\n",
       "      <td>6956 Maple Drive</td>\n",
       "      <td>5</td>\n",
       "      <td>1</td>\n",
       "      <td>?</td>\n",
       "      <td>1</td>\n",
       "      <td>2</td>\n",
       "      <td>NO</td>\n",
       "      <td>63400</td>\n",
       "      <td>6340</td>\n",
       "      <td>6340</td>\n",
       "      <td>50720</td>\n",
       "      <td>Chevrolet</td>\n",
       "      <td>Tahoe</td>\n",
       "      <td>2014</td>\n",
       "      <td>Y</td>\n",
       "      <td>NaN</td>\n",
       "    </tr>\n",
       "    <tr>\n",
       "      <th>4</th>\n",
       "      <td>228</td>\n",
       "      <td>44</td>\n",
       "      <td>367455</td>\n",
       "      <td>06-06-2014</td>\n",
       "      <td>IL</td>\n",
       "      <td>500/1000</td>\n",
       "      <td>1000</td>\n",
       "      <td>1583.91</td>\n",
       "      <td>6000000</td>\n",
       "      <td>610706</td>\n",
       "      <td>MALE</td>\n",
       "      <td>Associate</td>\n",
       "      <td>sales</td>\n",
       "      <td>board-games</td>\n",
       "      <td>unmarried</td>\n",
       "      <td>66000</td>\n",
       "      <td>-46000</td>\n",
       "      <td>17-02-2015</td>\n",
       "      <td>Vehicle Theft</td>\n",
       "      <td>?</td>\n",
       "      <td>Minor Damage</td>\n",
       "      <td>None</td>\n",
       "      <td>NY</td>\n",
       "      <td>Arlington</td>\n",
       "      <td>3041 3rd Ave</td>\n",
       "      <td>20</td>\n",
       "      <td>1</td>\n",
       "      <td>NO</td>\n",
       "      <td>0</td>\n",
       "      <td>1</td>\n",
       "      <td>NO</td>\n",
       "      <td>6500</td>\n",
       "      <td>1300</td>\n",
       "      <td>650</td>\n",
       "      <td>4550</td>\n",
       "      <td>Accura</td>\n",
       "      <td>RSX</td>\n",
       "      <td>2009</td>\n",
       "      <td>N</td>\n",
       "      <td>NaN</td>\n",
       "    </tr>\n",
       "  </tbody>\n",
       "</table>\n",
       "</div>"
      ],
      "text/plain": [
       "   months_as_customer  age  policy_number policy_bind_date policy_state  \\\n",
       "0                 328   48         521585       17-10-2014           OH   \n",
       "1                 228   42         342868       27-06-2006           IN   \n",
       "2                 134   29         687698       06-09-2000           OH   \n",
       "3                 256   41         227811       25-05-1990           IL   \n",
       "4                 228   44         367455       06-06-2014           IL   \n",
       "\n",
       "  policy_csl  policy_deductable  policy_annual_premium  umbrella_limit  \\\n",
       "0    250/500               1000                1406.91               0   \n",
       "1    250/500               2000                1197.22         5000000   \n",
       "2    100/300               2000                1413.14         5000000   \n",
       "3    250/500               2000                1415.74         6000000   \n",
       "4   500/1000               1000                1583.91         6000000   \n",
       "\n",
       "   insured_zip insured_sex insured_education_level insured_occupation  \\\n",
       "0       466132        MALE                      MD       craft-repair   \n",
       "1       468176        MALE                      MD  machine-op-inspct   \n",
       "2       430632      FEMALE                     PhD              sales   \n",
       "3       608117      FEMALE                     PhD       armed-forces   \n",
       "4       610706        MALE               Associate              sales   \n",
       "\n",
       "  insured_hobbies insured_relationship  capital-gains  capital-loss  \\\n",
       "0        sleeping              husband          53300             0   \n",
       "1         reading       other-relative              0             0   \n",
       "2     board-games            own-child          35100             0   \n",
       "3     board-games            unmarried          48900        -62400   \n",
       "4     board-games            unmarried          66000        -46000   \n",
       "\n",
       "  incident_date             incident_type   collision_type incident_severity  \\\n",
       "0    25-01-2015  Single Vehicle Collision   Side Collision      Major Damage   \n",
       "1    21-01-2015             Vehicle Theft                ?      Minor Damage   \n",
       "2    22-02-2015   Multi-vehicle Collision   Rear Collision      Minor Damage   \n",
       "3    10-01-2015  Single Vehicle Collision  Front Collision      Major Damage   \n",
       "4    17-02-2015             Vehicle Theft                ?      Minor Damage   \n",
       "\n",
       "  authorities_contacted incident_state incident_city  incident_location  \\\n",
       "0                Police             SC      Columbus     9935 4th Drive   \n",
       "1                Police             VA     Riverwood       6608 MLK Hwy   \n",
       "2                Police             NY      Columbus  7121 Francis Lane   \n",
       "3                Police             OH     Arlington   6956 Maple Drive   \n",
       "4                  None             NY     Arlington       3041 3rd Ave   \n",
       "\n",
       "   incident_hour_of_the_day  number_of_vehicles_involved property_damage  \\\n",
       "0                         5                            1             YES   \n",
       "1                         8                            1               ?   \n",
       "2                         7                            3              NO   \n",
       "3                         5                            1               ?   \n",
       "4                        20                            1              NO   \n",
       "\n",
       "   bodily_injuries  witnesses police_report_available  total_claim_amount  \\\n",
       "0                1          2                     YES               71610   \n",
       "1                0          0                       ?                5070   \n",
       "2                2          3                      NO               34650   \n",
       "3                1          2                      NO               63400   \n",
       "4                0          1                      NO                6500   \n",
       "\n",
       "   injury_claim  property_claim  vehicle_claim  auto_make auto_model  \\\n",
       "0          6510           13020          52080       Saab        92x   \n",
       "1           780             780           3510   Mercedes       E400   \n",
       "2          7700            3850          23100      Dodge        RAM   \n",
       "3          6340            6340          50720  Chevrolet      Tahoe   \n",
       "4          1300             650           4550     Accura        RSX   \n",
       "\n",
       "   auto_year fraud_reported  _c39  \n",
       "0       2004              Y   NaN  \n",
       "1       2007              Y   NaN  \n",
       "2       2007              N   NaN  \n",
       "3       2014              Y   NaN  \n",
       "4       2009              N   NaN  "
      ]
     },
     "execution_count": 3,
     "metadata": {},
     "output_type": "execute_result"
    }
   ],
   "source": [
    "df = pd.read_csv(r\"D:\\insurance_claims_data.csv\")\n",
    "df.head()"
   ]
  },
  {
   "cell_type": "code",
   "execution_count": 4,
   "id": "a1f9568f",
   "metadata": {},
   "outputs": [
    {
     "data": {
      "text/plain": [
       "(1000, 40)"
      ]
     },
     "execution_count": 4,
     "metadata": {},
     "output_type": "execute_result"
    }
   ],
   "source": [
    "df.shape"
   ]
  },
  {
   "cell_type": "code",
   "execution_count": 5,
   "id": "316b34c3",
   "metadata": {},
   "outputs": [
    {
     "data": {
      "text/plain": [
       "months_as_customer                0\n",
       "age                               0\n",
       "policy_number                     0\n",
       "policy_bind_date                  0\n",
       "policy_state                      0\n",
       "policy_csl                        0\n",
       "policy_deductable                 0\n",
       "policy_annual_premium             0\n",
       "umbrella_limit                    0\n",
       "insured_zip                       0\n",
       "insured_sex                       0\n",
       "insured_education_level           0\n",
       "insured_occupation                0\n",
       "insured_hobbies                   0\n",
       "insured_relationship              0\n",
       "capital-gains                     0\n",
       "capital-loss                      0\n",
       "incident_date                     0\n",
       "incident_type                     0\n",
       "collision_type                    0\n",
       "incident_severity                 0\n",
       "authorities_contacted             0\n",
       "incident_state                    0\n",
       "incident_city                     0\n",
       "incident_location                 0\n",
       "incident_hour_of_the_day          0\n",
       "number_of_vehicles_involved       0\n",
       "property_damage                   0\n",
       "bodily_injuries                   0\n",
       "witnesses                         0\n",
       "police_report_available           0\n",
       "total_claim_amount                0\n",
       "injury_claim                      0\n",
       "property_claim                    0\n",
       "vehicle_claim                     0\n",
       "auto_make                         0\n",
       "auto_model                        0\n",
       "auto_year                         0\n",
       "fraud_reported                    0\n",
       "_c39                           1000\n",
       "dtype: int64"
      ]
     },
     "execution_count": 5,
     "metadata": {},
     "output_type": "execute_result"
    }
   ],
   "source": [
    "df.isnull().sum()"
   ]
  },
  {
   "cell_type": "code",
   "execution_count": 6,
   "id": "f0ad4d13",
   "metadata": {},
   "outputs": [],
   "source": [
    "df.drop('_c39', axis=1, inplace = True)"
   ]
  },
  {
   "cell_type": "code",
   "execution_count": 7,
   "id": "821294ae",
   "metadata": {},
   "outputs": [
    {
     "data": {
      "text/html": [
       "<div>\n",
       "<style scoped>\n",
       "    .dataframe tbody tr th:only-of-type {\n",
       "        vertical-align: middle;\n",
       "    }\n",
       "\n",
       "    .dataframe tbody tr th {\n",
       "        vertical-align: top;\n",
       "    }\n",
       "\n",
       "    .dataframe thead th {\n",
       "        text-align: right;\n",
       "    }\n",
       "</style>\n",
       "<table border=\"1\" class=\"dataframe\">\n",
       "  <thead>\n",
       "    <tr style=\"text-align: right;\">\n",
       "      <th></th>\n",
       "      <th>months_as_customer</th>\n",
       "      <th>age</th>\n",
       "      <th>policy_number</th>\n",
       "      <th>policy_bind_date</th>\n",
       "      <th>policy_state</th>\n",
       "      <th>policy_csl</th>\n",
       "      <th>policy_deductable</th>\n",
       "      <th>policy_annual_premium</th>\n",
       "      <th>umbrella_limit</th>\n",
       "      <th>insured_zip</th>\n",
       "      <th>insured_sex</th>\n",
       "      <th>insured_education_level</th>\n",
       "      <th>insured_occupation</th>\n",
       "      <th>insured_hobbies</th>\n",
       "      <th>insured_relationship</th>\n",
       "      <th>capital-gains</th>\n",
       "      <th>capital-loss</th>\n",
       "      <th>incident_date</th>\n",
       "      <th>incident_type</th>\n",
       "      <th>collision_type</th>\n",
       "      <th>incident_severity</th>\n",
       "      <th>authorities_contacted</th>\n",
       "      <th>incident_state</th>\n",
       "      <th>incident_city</th>\n",
       "      <th>incident_location</th>\n",
       "      <th>incident_hour_of_the_day</th>\n",
       "      <th>number_of_vehicles_involved</th>\n",
       "      <th>property_damage</th>\n",
       "      <th>bodily_injuries</th>\n",
       "      <th>witnesses</th>\n",
       "      <th>police_report_available</th>\n",
       "      <th>total_claim_amount</th>\n",
       "      <th>injury_claim</th>\n",
       "      <th>property_claim</th>\n",
       "      <th>vehicle_claim</th>\n",
       "      <th>auto_make</th>\n",
       "      <th>auto_model</th>\n",
       "      <th>auto_year</th>\n",
       "      <th>fraud_reported</th>\n",
       "    </tr>\n",
       "  </thead>\n",
       "  <tbody>\n",
       "    <tr>\n",
       "      <th>0</th>\n",
       "      <td>328</td>\n",
       "      <td>48</td>\n",
       "      <td>521585</td>\n",
       "      <td>17-10-2014</td>\n",
       "      <td>OH</td>\n",
       "      <td>250/500</td>\n",
       "      <td>1000</td>\n",
       "      <td>1406.91</td>\n",
       "      <td>0</td>\n",
       "      <td>466132</td>\n",
       "      <td>MALE</td>\n",
       "      <td>MD</td>\n",
       "      <td>craft-repair</td>\n",
       "      <td>sleeping</td>\n",
       "      <td>husband</td>\n",
       "      <td>53300</td>\n",
       "      <td>0</td>\n",
       "      <td>25-01-2015</td>\n",
       "      <td>Single Vehicle Collision</td>\n",
       "      <td>Side Collision</td>\n",
       "      <td>Major Damage</td>\n",
       "      <td>Police</td>\n",
       "      <td>SC</td>\n",
       "      <td>Columbus</td>\n",
       "      <td>9935 4th Drive</td>\n",
       "      <td>5</td>\n",
       "      <td>1</td>\n",
       "      <td>YES</td>\n",
       "      <td>1</td>\n",
       "      <td>2</td>\n",
       "      <td>YES</td>\n",
       "      <td>71610</td>\n",
       "      <td>6510</td>\n",
       "      <td>13020</td>\n",
       "      <td>52080</td>\n",
       "      <td>Saab</td>\n",
       "      <td>92x</td>\n",
       "      <td>2004</td>\n",
       "      <td>Y</td>\n",
       "    </tr>\n",
       "    <tr>\n",
       "      <th>1</th>\n",
       "      <td>228</td>\n",
       "      <td>42</td>\n",
       "      <td>342868</td>\n",
       "      <td>27-06-2006</td>\n",
       "      <td>IN</td>\n",
       "      <td>250/500</td>\n",
       "      <td>2000</td>\n",
       "      <td>1197.22</td>\n",
       "      <td>5000000</td>\n",
       "      <td>468176</td>\n",
       "      <td>MALE</td>\n",
       "      <td>MD</td>\n",
       "      <td>machine-op-inspct</td>\n",
       "      <td>reading</td>\n",
       "      <td>other-relative</td>\n",
       "      <td>0</td>\n",
       "      <td>0</td>\n",
       "      <td>21-01-2015</td>\n",
       "      <td>Vehicle Theft</td>\n",
       "      <td>?</td>\n",
       "      <td>Minor Damage</td>\n",
       "      <td>Police</td>\n",
       "      <td>VA</td>\n",
       "      <td>Riverwood</td>\n",
       "      <td>6608 MLK Hwy</td>\n",
       "      <td>8</td>\n",
       "      <td>1</td>\n",
       "      <td>?</td>\n",
       "      <td>0</td>\n",
       "      <td>0</td>\n",
       "      <td>?</td>\n",
       "      <td>5070</td>\n",
       "      <td>780</td>\n",
       "      <td>780</td>\n",
       "      <td>3510</td>\n",
       "      <td>Mercedes</td>\n",
       "      <td>E400</td>\n",
       "      <td>2007</td>\n",
       "      <td>Y</td>\n",
       "    </tr>\n",
       "    <tr>\n",
       "      <th>2</th>\n",
       "      <td>134</td>\n",
       "      <td>29</td>\n",
       "      <td>687698</td>\n",
       "      <td>06-09-2000</td>\n",
       "      <td>OH</td>\n",
       "      <td>100/300</td>\n",
       "      <td>2000</td>\n",
       "      <td>1413.14</td>\n",
       "      <td>5000000</td>\n",
       "      <td>430632</td>\n",
       "      <td>FEMALE</td>\n",
       "      <td>PhD</td>\n",
       "      <td>sales</td>\n",
       "      <td>board-games</td>\n",
       "      <td>own-child</td>\n",
       "      <td>35100</td>\n",
       "      <td>0</td>\n",
       "      <td>22-02-2015</td>\n",
       "      <td>Multi-vehicle Collision</td>\n",
       "      <td>Rear Collision</td>\n",
       "      <td>Minor Damage</td>\n",
       "      <td>Police</td>\n",
       "      <td>NY</td>\n",
       "      <td>Columbus</td>\n",
       "      <td>7121 Francis Lane</td>\n",
       "      <td>7</td>\n",
       "      <td>3</td>\n",
       "      <td>NO</td>\n",
       "      <td>2</td>\n",
       "      <td>3</td>\n",
       "      <td>NO</td>\n",
       "      <td>34650</td>\n",
       "      <td>7700</td>\n",
       "      <td>3850</td>\n",
       "      <td>23100</td>\n",
       "      <td>Dodge</td>\n",
       "      <td>RAM</td>\n",
       "      <td>2007</td>\n",
       "      <td>N</td>\n",
       "    </tr>\n",
       "    <tr>\n",
       "      <th>3</th>\n",
       "      <td>256</td>\n",
       "      <td>41</td>\n",
       "      <td>227811</td>\n",
       "      <td>25-05-1990</td>\n",
       "      <td>IL</td>\n",
       "      <td>250/500</td>\n",
       "      <td>2000</td>\n",
       "      <td>1415.74</td>\n",
       "      <td>6000000</td>\n",
       "      <td>608117</td>\n",
       "      <td>FEMALE</td>\n",
       "      <td>PhD</td>\n",
       "      <td>armed-forces</td>\n",
       "      <td>board-games</td>\n",
       "      <td>unmarried</td>\n",
       "      <td>48900</td>\n",
       "      <td>-62400</td>\n",
       "      <td>10-01-2015</td>\n",
       "      <td>Single Vehicle Collision</td>\n",
       "      <td>Front Collision</td>\n",
       "      <td>Major Damage</td>\n",
       "      <td>Police</td>\n",
       "      <td>OH</td>\n",
       "      <td>Arlington</td>\n",
       "      <td>6956 Maple Drive</td>\n",
       "      <td>5</td>\n",
       "      <td>1</td>\n",
       "      <td>?</td>\n",
       "      <td>1</td>\n",
       "      <td>2</td>\n",
       "      <td>NO</td>\n",
       "      <td>63400</td>\n",
       "      <td>6340</td>\n",
       "      <td>6340</td>\n",
       "      <td>50720</td>\n",
       "      <td>Chevrolet</td>\n",
       "      <td>Tahoe</td>\n",
       "      <td>2014</td>\n",
       "      <td>Y</td>\n",
       "    </tr>\n",
       "    <tr>\n",
       "      <th>4</th>\n",
       "      <td>228</td>\n",
       "      <td>44</td>\n",
       "      <td>367455</td>\n",
       "      <td>06-06-2014</td>\n",
       "      <td>IL</td>\n",
       "      <td>500/1000</td>\n",
       "      <td>1000</td>\n",
       "      <td>1583.91</td>\n",
       "      <td>6000000</td>\n",
       "      <td>610706</td>\n",
       "      <td>MALE</td>\n",
       "      <td>Associate</td>\n",
       "      <td>sales</td>\n",
       "      <td>board-games</td>\n",
       "      <td>unmarried</td>\n",
       "      <td>66000</td>\n",
       "      <td>-46000</td>\n",
       "      <td>17-02-2015</td>\n",
       "      <td>Vehicle Theft</td>\n",
       "      <td>?</td>\n",
       "      <td>Minor Damage</td>\n",
       "      <td>None</td>\n",
       "      <td>NY</td>\n",
       "      <td>Arlington</td>\n",
       "      <td>3041 3rd Ave</td>\n",
       "      <td>20</td>\n",
       "      <td>1</td>\n",
       "      <td>NO</td>\n",
       "      <td>0</td>\n",
       "      <td>1</td>\n",
       "      <td>NO</td>\n",
       "      <td>6500</td>\n",
       "      <td>1300</td>\n",
       "      <td>650</td>\n",
       "      <td>4550</td>\n",
       "      <td>Accura</td>\n",
       "      <td>RSX</td>\n",
       "      <td>2009</td>\n",
       "      <td>N</td>\n",
       "    </tr>\n",
       "  </tbody>\n",
       "</table>\n",
       "</div>"
      ],
      "text/plain": [
       "   months_as_customer  age  policy_number policy_bind_date policy_state  \\\n",
       "0                 328   48         521585       17-10-2014           OH   \n",
       "1                 228   42         342868       27-06-2006           IN   \n",
       "2                 134   29         687698       06-09-2000           OH   \n",
       "3                 256   41         227811       25-05-1990           IL   \n",
       "4                 228   44         367455       06-06-2014           IL   \n",
       "\n",
       "  policy_csl  policy_deductable  policy_annual_premium  umbrella_limit  \\\n",
       "0    250/500               1000                1406.91               0   \n",
       "1    250/500               2000                1197.22         5000000   \n",
       "2    100/300               2000                1413.14         5000000   \n",
       "3    250/500               2000                1415.74         6000000   \n",
       "4   500/1000               1000                1583.91         6000000   \n",
       "\n",
       "   insured_zip insured_sex insured_education_level insured_occupation  \\\n",
       "0       466132        MALE                      MD       craft-repair   \n",
       "1       468176        MALE                      MD  machine-op-inspct   \n",
       "2       430632      FEMALE                     PhD              sales   \n",
       "3       608117      FEMALE                     PhD       armed-forces   \n",
       "4       610706        MALE               Associate              sales   \n",
       "\n",
       "  insured_hobbies insured_relationship  capital-gains  capital-loss  \\\n",
       "0        sleeping              husband          53300             0   \n",
       "1         reading       other-relative              0             0   \n",
       "2     board-games            own-child          35100             0   \n",
       "3     board-games            unmarried          48900        -62400   \n",
       "4     board-games            unmarried          66000        -46000   \n",
       "\n",
       "  incident_date             incident_type   collision_type incident_severity  \\\n",
       "0    25-01-2015  Single Vehicle Collision   Side Collision      Major Damage   \n",
       "1    21-01-2015             Vehicle Theft                ?      Minor Damage   \n",
       "2    22-02-2015   Multi-vehicle Collision   Rear Collision      Minor Damage   \n",
       "3    10-01-2015  Single Vehicle Collision  Front Collision      Major Damage   \n",
       "4    17-02-2015             Vehicle Theft                ?      Minor Damage   \n",
       "\n",
       "  authorities_contacted incident_state incident_city  incident_location  \\\n",
       "0                Police             SC      Columbus     9935 4th Drive   \n",
       "1                Police             VA     Riverwood       6608 MLK Hwy   \n",
       "2                Police             NY      Columbus  7121 Francis Lane   \n",
       "3                Police             OH     Arlington   6956 Maple Drive   \n",
       "4                  None             NY     Arlington       3041 3rd Ave   \n",
       "\n",
       "   incident_hour_of_the_day  number_of_vehicles_involved property_damage  \\\n",
       "0                         5                            1             YES   \n",
       "1                         8                            1               ?   \n",
       "2                         7                            3              NO   \n",
       "3                         5                            1               ?   \n",
       "4                        20                            1              NO   \n",
       "\n",
       "   bodily_injuries  witnesses police_report_available  total_claim_amount  \\\n",
       "0                1          2                     YES               71610   \n",
       "1                0          0                       ?                5070   \n",
       "2                2          3                      NO               34650   \n",
       "3                1          2                      NO               63400   \n",
       "4                0          1                      NO                6500   \n",
       "\n",
       "   injury_claim  property_claim  vehicle_claim  auto_make auto_model  \\\n",
       "0          6510           13020          52080       Saab        92x   \n",
       "1           780             780           3510   Mercedes       E400   \n",
       "2          7700            3850          23100      Dodge        RAM   \n",
       "3          6340            6340          50720  Chevrolet      Tahoe   \n",
       "4          1300             650           4550     Accura        RSX   \n",
       "\n",
       "   auto_year fraud_reported  \n",
       "0       2004              Y  \n",
       "1       2007              Y  \n",
       "2       2007              N  \n",
       "3       2014              Y  \n",
       "4       2009              N  "
      ]
     },
     "execution_count": 7,
     "metadata": {},
     "output_type": "execute_result"
    }
   ],
   "source": [
    "df.head()"
   ]
  },
  {
   "cell_type": "code",
   "execution_count": 8,
   "id": "aa9ec7f5",
   "metadata": {},
   "outputs": [
    {
     "data": {
      "text/plain": [
       "months_as_customer               int64\n",
       "age                              int64\n",
       "policy_number                    int64\n",
       "policy_bind_date                object\n",
       "policy_state                    object\n",
       "policy_csl                      object\n",
       "policy_deductable                int64\n",
       "policy_annual_premium          float64\n",
       "umbrella_limit                   int64\n",
       "insured_zip                      int64\n",
       "insured_sex                     object\n",
       "insured_education_level         object\n",
       "insured_occupation              object\n",
       "insured_hobbies                 object\n",
       "insured_relationship            object\n",
       "capital-gains                    int64\n",
       "capital-loss                     int64\n",
       "incident_date                   object\n",
       "incident_type                   object\n",
       "collision_type                  object\n",
       "incident_severity               object\n",
       "authorities_contacted           object\n",
       "incident_state                  object\n",
       "incident_city                   object\n",
       "incident_location               object\n",
       "incident_hour_of_the_day         int64\n",
       "number_of_vehicles_involved      int64\n",
       "property_damage                 object\n",
       "bodily_injuries                  int64\n",
       "witnesses                        int64\n",
       "police_report_available         object\n",
       "total_claim_amount               int64\n",
       "injury_claim                     int64\n",
       "property_claim                   int64\n",
       "vehicle_claim                    int64\n",
       "auto_make                       object\n",
       "auto_model                      object\n",
       "auto_year                        int64\n",
       "fraud_reported                  object\n",
       "dtype: object"
      ]
     },
     "execution_count": 8,
     "metadata": {},
     "output_type": "execute_result"
    }
   ],
   "source": [
    "df.dtypes"
   ]
  },
  {
   "cell_type": "code",
   "execution_count": 9,
   "id": "1931702c",
   "metadata": {},
   "outputs": [
    {
     "data": {
      "text/plain": [
       "0"
      ]
     },
     "execution_count": 9,
     "metadata": {},
     "output_type": "execute_result"
    }
   ],
   "source": [
    "df.duplicated().sum()"
   ]
  },
  {
   "cell_type": "code",
   "execution_count": 10,
   "id": "da5c73d9",
   "metadata": {},
   "outputs": [
    {
     "name": "stdout",
     "output_type": "stream",
     "text": [
      "Unique values in months_as_customer : 391\n",
      "Unique values in age : 46\n",
      "Unique values in policy_number : 1000\n",
      "Unique values in policy_bind_date : 951\n",
      "Unique values in policy_state : 3\n",
      "Unique values in policy_csl : 3\n",
      "Unique values in policy_deductable : 3\n",
      "Unique values in policy_annual_premium : 991\n",
      "Unique values in umbrella_limit : 11\n",
      "Unique values in insured_zip : 995\n",
      "Unique values in insured_sex : 2\n",
      "Unique values in insured_education_level : 7\n",
      "Unique values in insured_occupation : 14\n",
      "Unique values in insured_hobbies : 20\n",
      "Unique values in insured_relationship : 6\n",
      "Unique values in capital-gains : 338\n",
      "Unique values in capital-loss : 354\n",
      "Unique values in incident_date : 60\n",
      "Unique values in incident_type : 4\n",
      "Unique values in collision_type : 4\n",
      "Unique values in incident_severity : 4\n",
      "Unique values in authorities_contacted : 5\n",
      "Unique values in incident_state : 7\n",
      "Unique values in incident_city : 7\n",
      "Unique values in incident_location : 1000\n",
      "Unique values in incident_hour_of_the_day : 24\n",
      "Unique values in number_of_vehicles_involved : 4\n",
      "Unique values in property_damage : 3\n",
      "Unique values in bodily_injuries : 3\n",
      "Unique values in witnesses : 4\n",
      "Unique values in police_report_available : 3\n",
      "Unique values in total_claim_amount : 763\n",
      "Unique values in injury_claim : 638\n",
      "Unique values in property_claim : 626\n",
      "Unique values in vehicle_claim : 726\n",
      "Unique values in auto_make : 14\n",
      "Unique values in auto_model : 39\n",
      "Unique values in auto_year : 21\n",
      "Unique values in fraud_reported : 2\n"
     ]
    }
   ],
   "source": [
    "#number of unique value in each features\n",
    "\n",
    "for col in df.columns.values:\n",
    "    print(f\"Unique values in {col} : {df[col].nunique()}\")"
   ]
  },
  {
   "cell_type": "code",
   "execution_count": 11,
   "id": "479f3776",
   "metadata": {},
   "outputs": [
    {
     "data": {
      "text/plain": [
       "Rear Collision     292\n",
       "Side Collision     276\n",
       "Front Collision    254\n",
       "?                  178\n",
       "Name: collision_type, dtype: int64"
      ]
     },
     "execution_count": 11,
     "metadata": {},
     "output_type": "execute_result"
    }
   ],
   "source": [
    "df['collision_type'].value_counts()"
   ]
  },
  {
   "cell_type": "code",
   "execution_count": 12,
   "id": "e906b28d",
   "metadata": {},
   "outputs": [
    {
     "name": "stdout",
     "output_type": "stream",
     "text": [
      "? in months_as_customer : 0\n",
      "? in age : 0\n",
      "? in policy_number : 0\n",
      "? in policy_bind_date : 0\n",
      "? in policy_state : 0\n",
      "? in policy_csl : 0\n",
      "? in policy_deductable : 0\n",
      "? in policy_annual_premium : 0\n",
      "? in umbrella_limit : 0\n",
      "? in insured_zip : 0\n",
      "? in insured_sex : 0\n",
      "? in insured_education_level : 0\n",
      "? in insured_occupation : 0\n",
      "? in insured_hobbies : 0\n",
      "? in insured_relationship : 0\n",
      "? in capital-gains : 0\n",
      "? in capital-loss : 0\n",
      "? in incident_date : 0\n",
      "? in incident_type : 0\n",
      "? in collision_type : 39\n",
      "? in incident_severity : 0\n",
      "? in authorities_contacted : 0\n",
      "? in incident_state : 0\n",
      "? in incident_city : 0\n",
      "? in incident_location : 0\n",
      "? in incident_hour_of_the_day : 0\n",
      "? in number_of_vehicles_involved : 0\n",
      "? in property_damage : 39\n",
      "? in bodily_injuries : 0\n",
      "? in witnesses : 0\n",
      "? in police_report_available : 39\n",
      "? in total_claim_amount : 0\n",
      "? in injury_claim : 0\n",
      "? in property_claim : 0\n",
      "? in vehicle_claim : 0\n",
      "? in auto_make : 0\n",
      "? in auto_model : 0\n",
      "? in auto_year : 0\n",
      "? in fraud_reported : 0\n"
     ]
    }
   ],
   "source": [
    "for col in df:\n",
    "    print(f\"? in {col} : {df[(df[col] == '?')].any().sum()}\")"
   ]
  },
  {
   "cell_type": "code",
   "execution_count": 13,
   "id": "ade05cc1",
   "metadata": {},
   "outputs": [],
   "source": [
    "df.rneplace('?', p.NaN, inplace = True)"
   ]
  },
  {
   "cell_type": "code",
   "execution_count": 14,
   "id": "d21d690a",
   "metadata": {},
   "outputs": [
    {
     "data": {
      "text/plain": [
       "months_as_customer               0\n",
       "age                              0\n",
       "policy_number                    0\n",
       "policy_bind_date                 0\n",
       "policy_state                     0\n",
       "policy_csl                       0\n",
       "policy_deductable                0\n",
       "policy_annual_premium            0\n",
       "umbrella_limit                   0\n",
       "insured_zip                      0\n",
       "insured_sex                      0\n",
       "insured_education_level          0\n",
       "insured_occupation               0\n",
       "insured_hobbies                  0\n",
       "insured_relationship             0\n",
       "capital-gains                    0\n",
       "capital-loss                     0\n",
       "incident_date                    0\n",
       "incident_type                    0\n",
       "collision_type                 178\n",
       "incident_severity                0\n",
       "authorities_contacted            0\n",
       "incident_state                   0\n",
       "incident_city                    0\n",
       "incident_location                0\n",
       "incident_hour_of_the_day         0\n",
       "number_of_vehicles_involved      0\n",
       "property_damage                360\n",
       "bodily_injuries                  0\n",
       "witnesses                        0\n",
       "police_report_available        343\n",
       "total_claim_amount               0\n",
       "injury_claim                     0\n",
       "property_claim                   0\n",
       "vehicle_claim                    0\n",
       "auto_make                        0\n",
       "auto_model                       0\n",
       "auto_year                        0\n",
       "fraud_reported                   0\n",
       "dtype: int64"
      ]
     },
     "execution_count": 14,
     "metadata": {},
     "output_type": "execute_result"
    }
   ],
   "source": [
    "df.isnull().sum()"
   ]
  },
  {
   "cell_type": "code",
   "execution_count": 15,
   "id": "959dbf30",
   "metadata": {},
   "outputs": [
    {
     "data": {
      "text/plain": [
       "<AxesSubplot:>"
      ]
     },
     "execution_count": 15,
     "metadata": {},
     "output_type": "execute_result"
    },
    {
     "data": {
      "image/png": "[encoded data removed]",
      "text/plain": [
       "<Figure size 720x360 with 2 Axes>"
      ]
     },
     "metadata": {
      "needs_background": "light"
     },
     "output_type": "display_data"
    }
   ],
   "source": [
    "py.figure(figsize = (10,5))\n",
    "sns.heatmap(df.isnull())"
   ]
  },
  {
   "cell_type": "code",
   "execution_count": 16,
   "id": "f4914297",
   "metadata": {},
   "outputs": [
    {
     "data": {
      "text/plain": [
       "N    0.753\n",
       "Y    0.247\n",
       "Name: fraud_reported, dtype: float64"
      ]
     },
     "execution_count": 16,
     "metadata": {},
     "output_type": "execute_result"
    }
   ],
   "source": [
    "df['fraud_reported'].value_counts(normalize = True)"
   ]
  },
  {
   "cell_type": "code",
   "execution_count": 17,
   "id": "4a5a8b8e",
   "metadata": {},
   "outputs": [
    {
     "data": {
      "text/plain": [
       "<AxesSubplot:xlabel='fraud_reported', ylabel='count'>"
      ]
     },
     "execution_count": 17,
     "metadata": {},
     "output_type": "execute_result"
    },
    {
     "data": {
      "image/png": "[encoded data removed]",
      "text/plain": [
       "<Figure size 432x288 with 1 Axes>"
      ]
     },
     "metadata": {
      "needs_background": "light"
     },
     "output_type": "display_data"
    }
   ],
   "source": [
    "sns.countplot(x='fraud_reported', data= df, hue='fraud_reported')"
   ]
  },
  {
   "cell_type": "code",
   "execution_count": 18,
   "id": "404f776e",
   "metadata": {},
   "outputs": [
    {
     "data": {
      "text/plain": [
       "<AxesSubplot:xlabel='age', ylabel='count'>"
      ]
     },
     "execution_count": 18,
     "metadata": {},
     "output_type": "execute_result"
    },
    {
     "data": {
      "image/png": "[encoded data removed]",
      "text/plain": [
       "<Figure size 864x432 with 1 Axes>"
      ]
     },
     "metadata": {
      "needs_background": "light"
     },
     "output_type": "display_data"
    }
   ],
   "source": [
    "py.figure(figsize = (12,6))\n",
    "sns.countplot(x = 'age', data=df)"
   ]
  },
  {
   "cell_type": "code",
   "execution_count": 19,
   "id": "0edab822",
   "metadata": {},
   "outputs": [
    {
     "data": {
      "text/plain": [
       "<seaborn.axisgrid.FacetGrid at 0x1c7e92c1160>"
      ]
     },
     "execution_count": 19,
     "metadata": {},
     "output_type": "execute_result"
    },
    {
     "data": {
      "image/png": "[encoded data removed]",
      "text/plain": [
       "<Figure size 720x360 with 1 Axes>"
      ]
     },
     "metadata": {
      "needs_background": "light"
     },
     "output_type": "display_data"
    }
   ],
   "source": [
    "sns.catplot('policy_state', data = df, kind='count', aspect=2)"
   ]
  },
  {
   "cell_type": "code",
   "execution_count": 20,
   "id": "9cd8f688",
   "metadata": {},
   "outputs": [],
   "source": [
    "cat_values = df.dtypes[df.dtypes == 'object'].index"
   ]
  },
  {
   "cell_type": "code",
   "execution_count": 21,
   "id": "7c917204",
   "metadata": {},
   "outputs": [
    {
     "name": "stdout",
     "output_type": "stream",
     "text": [
      "policy_bind_date\n",
      "policy_state\n",
      "policy_csl\n",
      "insured_sex\n",
      "insured_education_level\n",
      "insured_occupation\n",
      "insured_hobbies\n",
      "insured_relationship\n",
      "incident_date\n",
      "incident_type\n",
      "collision_type\n",
      "incident_severity\n",
      "authorities_contacted\n",
      "incident_state\n",
      "incident_city\n",
      "incident_location\n",
      "property_damage\n",
      "police_report_available\n",
      "auto_make\n",
      "auto_model\n",
      "fraud_reported\n"
     ]
    }
   ],
   "source": [
    "for i in cat_values:\n",
    "    print(i)"
   ]
  },
  {
   "cell_type": "code",
   "execution_count": 22,
   "id": "12026df3",
   "metadata": {},
   "outputs": [
    {
     "data": {
      "image/png": "[encoded data removed]",
      "text/plain": [
       "<Figure size 1080x360 with 1 Axes>"
      ]
     },
     "metadata": {
      "needs_background": "light"
     },
     "output_type": "display_data"
    },
    {
     "data": {
      "image/png": "[encoded data removed]",
      "text/plain": [
       "<Figure size 1080x360 with 1 Axes>"
      ]
     },
     "metadata": {
      "needs_background": "light"
     },
     "output_type": "display_data"
    },
    {
     "data": {
      "image/png": "[encoded data removed]",
      "text/plain": [
       "<Figure size 1080x360 with 1 Axes>"
      ]
     },
     "metadata": {
      "needs_background": "light"
     },
     "output_type": "display_data"
    },
    {
     "data": {
      "image/png": "[encoded data removed]",
      "text/plain": [
       "<Figure size 1080x360 with 1 Axes>"
      ]
     },
     "metadata": {
      "needs_background": "light"
     },
     "output_type": "display_data"
    },
    {
     "data": {
      "image/png": "[encoded data removed]",
      "text/plain": [
       "<Figure size 1080x360 with 1 Axes>"
      ]
     },
     "metadata": {
      "needs_background": "light"
     },
     "output_type": "display_data"
    },
    {
     "data": {
      "image/png": "[encoded data removed]",
      "text/plain": [
       "<Figure size 1080x360 with 1 Axes>"
      ]
     },
     "metadata": {
      "needs_background": "light"
     },
     "output_type": "display_data"
    },
    {
     "data": {
      "image/png": "[encoded data removed]",
      "text/plain": [
       "<Figure size 1080x360 with 1 Axes>"
      ]
     },
     "metadata": {
      "needs_background": "light"
     },
     "output_type": "display_data"
    },
    {
     "data": {
      "image/png": "[encoded data removed]",
      "text/plain": [
       "<Figure size 1080x360 with 1 Axes>"
      ]
     },
     "metadata": {
      "needs_background": "light"
     },
     "output_type": "display_data"
    },
    {
     "data": {
      "image/png": "[encoded data removed]",
      "text/plain": [
       "<Figure size 1080x360 with 1 Axes>"
      ]
     },
     "metadata": {
      "needs_background": "light"
     },
     "output_type": "display_data"
    },
    {
     "data": {
      "image/png": "[encoded data removed]",
      "text/plain": [
       "<Figure size 1080x360 with 1 Axes>"
      ]
     },
     "metadata": {
      "needs_background": "light"
     },
     "output_type": "display_data"
    },
    {
     "data": {
      "image/png": "[encoded data removed]",
      "text/plain": [
       "<Figure size 1080x360 with 1 Axes>"
      ]
     },
     "metadata": {
      "needs_background": "light"
     },
     "output_type": "display_data"
    },
    {
     "data": {
      "image/png": "[encoded data removed]",
      "text/plain": [
       "<Figure size 1080x360 with 1 Axes>"
      ]
     },
     "metadata": {
      "needs_background": "light"
     },
     "output_type": "display_data"
    },
    {
     "data": {
      "image/png": "[encoded data removed]",
      "text/plain": [
       "<Figure size 1080x360 with 1 Axes>"
      ]
     },
     "metadata": {
      "needs_background": "light"
     },
     "output_type": "display_data"
    },
    {
     "data": {
      "image/png": "[encoded data removed]",
      "text/plain": [
       "<Figure size 1080x360 with 1 Axes>"
      ]
     },
     "metadata": {
      "needs_background": "light"
     },
     "output_type": "display_data"
    },
    {
     "data": {
      "image/png": "[encoded data removed]",
      "text/plain": [
       "<Figure size 1080x360 with 1 Axes>"
      ]
     },
     "metadata": {
      "needs_background": "light"
     },
     "output_type": "display_data"
    },
    {
     "data": {
      "image/png": "[encoded data removed]",
      "text/plain": [
       "<Figure size 1080x360 with 1 Axes>"
      ]
     },
     "metadata": {
      "needs_background": "light"
     },
     "output_type": "display_data"
    },
    {
     "data": {
      "image/png": "[encoded data removed]",
      "text/plain": [
       "<Figure size 1080x360 with 1 Axes>"
      ]
     },
     "metadata": {
      "needs_background": "light"
     },
     "output_type": "display_data"
    },
    {
     "data": {
      "image/png": "[encoded data removed]",
      "text/plain": [
       "<Figure size 1080x360 with 1 Axes>"
      ]
     },
     "metadata": {
      "needs_background": "light"
     },
     "output_type": "display_data"
    },
    {
     "data": {
      "image/png": "[encoded data removed]",
      "text/plain": [
       "<Figure size 1080x360 with 1 Axes>"
      ]
     },
     "metadata": {
      "needs_background": "light"
     },
     "output_type": "display_data"
    },
    {
     "data": {
      "image/png": "[encoded data removed]",
      "text/plain": [
       "<Figure size 1080x360 with 1 Axes>"
      ]
     },
     "metadata": {
      "needs_background": "light"
     },
     "output_type": "display_data"
    },
    {
     "data": {
      "image/png": "[encoded data removed]",
      "text/plain": [
       "<Figure size 1080x360 with 1 Axes>"
      ]
     },
     "metadata": {
      "needs_background": "light"
     },
     "output_type": "display_data"
    }
   ],
   "source": [
    "for i in cat_values:\n",
    "    sns.catplot(i, data=df, kind = 'count', aspect=3, height=5)"
   ]
  },
  {
   "cell_type": "code",
   "execution_count": null,
   "id": "476e33a2",
   "metadata": {},
   "outputs": [],
   "source": []
  },
  {
   "cell_type": "code",
   "execution_count": 23,
   "id": "6db9f6ca",
   "metadata": {},
   "outputs": [
    {
     "data": {
      "text/plain": [
       "months_as_customer                AxesSubplot(0.125,0.772143;0.168478x0.107857)\n",
       "age                            AxesSubplot(0.327174,0.772143;0.168478x0.107857)\n",
       "policy_number                  AxesSubplot(0.529348,0.772143;0.168478x0.107857)\n",
       "policy_deductable              AxesSubplot(0.731522,0.772143;0.168478x0.107857)\n",
       "policy_annual_premium             AxesSubplot(0.125,0.642714;0.168478x0.107857)\n",
       "umbrella_limit                 AxesSubplot(0.327174,0.642714;0.168478x0.107857)\n",
       "insured_zip                    AxesSubplot(0.529348,0.642714;0.168478x0.107857)\n",
       "capital-gains                  AxesSubplot(0.731522,0.642714;0.168478x0.107857)\n",
       "capital-loss                      AxesSubplot(0.125,0.513286;0.168478x0.107857)\n",
       "incident_hour_of_the_day       AxesSubplot(0.327174,0.513286;0.168478x0.107857)\n",
       "number_of_vehicles_involved    AxesSubplot(0.529348,0.513286;0.168478x0.107857)\n",
       "bodily_injuries                AxesSubplot(0.731522,0.513286;0.168478x0.107857)\n",
       "witnesses                         AxesSubplot(0.125,0.383857;0.168478x0.107857)\n",
       "total_claim_amount             AxesSubplot(0.327174,0.383857;0.168478x0.107857)\n",
       "injury_claim                   AxesSubplot(0.529348,0.383857;0.168478x0.107857)\n",
       "property_claim                 AxesSubplot(0.731522,0.383857;0.168478x0.107857)\n",
       "vehicle_claim                     AxesSubplot(0.125,0.254429;0.168478x0.107857)\n",
       "auto_year                      AxesSubplot(0.327174,0.254429;0.168478x0.107857)\n",
       "dtype: object"
      ]
     },
     "execution_count": 23,
     "metadata": {},
     "output_type": "execute_result"
    },
    {
     "data": {
      "image/png": "[encoded data removed]",
      "text/plain": [
       "<Figure size 1440x1440 with 24 Axes>"
      ]
     },
     "metadata": {
      "needs_background": "light"
     },
     "output_type": "display_data"
    }
   ],
   "source": [
    "# Plotting the boxplot in order to check few statistical values and outliers\n",
    "\n",
    "df.plot(kind = 'box', subplots = True, layout = (6,4), figsize = (20,20), notch = True)"
   ]
  },
  {
   "cell_type": "code",
   "execution_count": 24,
   "id": "1a316532",
   "metadata": {},
   "outputs": [],
   "source": [
    "# for loop to plot graphs between fraud_reported and different numerical features of the dataset...."
   ]
  },
  {
   "cell_type": "code",
   "execution_count": 25,
   "id": "1a4e5275",
   "metadata": {},
   "outputs": [],
   "source": [
    "num_col = df.dtypes[df.dtypes != 'object']"
   ]
  },
  {
   "cell_type": "code",
   "execution_count": 26,
   "id": "a67c93a2",
   "metadata": {},
   "outputs": [
    {
     "name": "stdout",
     "output_type": "stream",
     "text": [
      "months_as_customer\n",
      "age\n",
      "policy_number\n",
      "policy_deductable\n",
      "policy_annual_premium\n",
      "umbrella_limit\n",
      "insured_zip\n",
      "capital-gains\n",
      "capital-loss\n",
      "incident_hour_of_the_day\n",
      "number_of_vehicles_involved\n",
      "bodily_injuries\n",
      "witnesses\n",
      "total_claim_amount\n",
      "injury_claim\n",
      "property_claim\n",
      "vehicle_claim\n",
      "auto_year\n"
     ]
    }
   ],
   "source": [
    "for col in num_col.index.values:\n",
    "    print(col)"
   ]
  },
  {
   "cell_type": "code",
   "execution_count": 27,
   "id": "8b163e1f",
   "metadata": {},
   "outputs": [
    {
     "data": {
      "image/png": "[encoded data removed]",
      "text/plain": [
       "<Figure size 651.25x288 with 1 Axes>"
      ]
     },
     "metadata": {
      "needs_background": "light"
     },
     "output_type": "display_data"
    },
    {
     "data": {
      "image/png": "[encoded data removed]",
      "text/plain": [
       "<Figure size 651.25x288 with 1 Axes>"
      ]
     },
     "metadata": {
      "needs_background": "light"
     },
     "output_type": "display_data"
    },
    {
     "data": {
      "image/png": "[encoded data removed]",
      "text/plain": [
       "<Figure size 651.25x288 with 1 Axes>"
      ]
     },
     "metadata": {
      "needs_background": "light"
     },
     "output_type": "display_data"
    },
    {
     "data": {
      "image/png": "[encoded data removed]",
      "text/plain": [
       "<Figure size 651.25x288 with 1 Axes>"
      ]
     },
     "metadata": {
      "needs_background": "light"
     },
     "output_type": "display_data"
    },
    {
     "data": {
      "image/png": "[encoded data removed]",
      "text/plain": [
       "<Figure size 651.25x288 with 1 Axes>"
      ]
     },
     "metadata": {
      "needs_background": "light"
     },
     "output_type": "display_data"
    },
    {
     "data": {
      "image/png": "[encoded data removed]",
      "text/plain": [
       "<Figure size 651.25x288 with 1 Axes>"
      ]
     },
     "metadata": {
      "needs_background": "light"
     },
     "output_type": "display_data"
    },
    {
     "data": {
      "image/png": "[encoded data removed]",
      "text/plain": [
       "<Figure size 651.25x288 with 1 Axes>"
      ]
     },
     "metadata": {
      "needs_background": "light"
     },
     "output_type": "display_data"
    },
    {
     "data": {
      "image/png": "[encoded data removed]",
      "text/plain": [
       "<Figure size 651.25x288 with 1 Axes>"
      ]
     },
     "metadata": {
      "needs_background": "light"
     },
     "output_type": "display_data"
    },
    {
     "data": {
      "image/png": "[encoded data removed]",
      "text/plain": [
       "<Figure size 651.25x288 with 1 Axes>"
      ]
     },
     "metadata": {
      "needs_background": "light"
     },
     "output_type": "display_data"
    },
    {
     "data": {
      "image/png": "[encoded data removed]",
      "text/plain": [
       "<Figure size 651.25x288 with 1 Axes>"
      ]
     },
     "metadata": {
      "needs_background": "light"
     },
     "output_type": "display_data"
    },
    {
     "data": {
      "image/png": "[encoded data removed]",
      "text/plain": [
       "<Figure size 651.25x288 with 1 Axes>"
      ]
     },
     "metadata": {
      "needs_background": "light"
     },
     "output_type": "display_data"
    },
    {
     "data": {
      "image/png": "[encoded data removed]",
      "text/plain": [
       "<Figure size 651.25x288 with 1 Axes>"
      ]
     },
     "metadata": {
      "needs_background": "light"
     },
     "output_type": "display_data"
    },
    {
     "data": {
      "image/png": "[encoded data removed]",
      "text/plain": [
       "<Figure size 651.25x288 with 1 Axes>"
      ]
     },
     "metadata": {
      "needs_background": "light"
     },
     "output_type": "display_data"
    },
    {
     "data": {
      "image/png": "[encoded data removed]",
      "text/plain": [
       "<Figure size 651.25x288 with 1 Axes>"
      ]
     },
     "metadata": {
      "needs_background": "light"
     },
     "output_type": "display_data"
    },
    {
     "data": {
      "image/png": "[encoded data removed]",
      "text/plain": [
       "<Figure size 651.25x288 with 1 Axes>"
      ]
     },
     "metadata": {
      "needs_background": "light"
     },
     "output_type": "display_data"
    },
    {
     "data": {
      "image/png": "[encoded data removed]",
      "text/plain": [
       "<Figure size 651.25x288 with 1 Axes>"
      ]
     },
     "metadata": {
      "needs_background": "light"
     },
     "output_type": "display_data"
    },
    {
     "data": {
      "image/png": "[encoded data removed]",
      "text/plain": [
       "<Figure size 651.25x288 with 1 Axes>"
      ]
     },
     "metadata": {
      "needs_background": "light"
     },
     "output_type": "display_data"
    },
    {
     "data": {
      "image/png": "[encoded data removed]",
      "text/plain": [
       "<Figure size 651.25x288 with 1 Axes>"
      ]
     },
     "metadata": {
      "needs_background": "light"
     },
     "output_type": "display_data"
    }
   ],
   "source": [
    "for col in num_col.index:\n",
    "    sns.catplot( y= col,\n",
    "                x='fraud_reported',\n",
    "                data=df,aspect=2, height=4,\n",
    "                hue='insured_sex',\n",
    "               kind='bar'\n",
    "    )"
   ]
  },
  {
   "cell_type": "code",
   "execution_count": 28,
   "id": "3bc615e1",
   "metadata": {},
   "outputs": [
    {
     "data": {
      "text/plain": [
       "<Figure size 720x432 with 0 Axes>"
      ]
     },
     "execution_count": 28,
     "metadata": {},
     "output_type": "execute_result"
    },
    {
     "data": {
      "image/png": "[encoded data removed]",
      "text/plain": [
       "<Figure size 432x288 with 1 Axes>"
      ]
     },
     "metadata": {
      "needs_background": "light"
     },
     "output_type": "display_data"
    },
    {
     "data": {
      "text/plain": [
       "<Figure size 720x432 with 0 Axes>"
      ]
     },
     "metadata": {},
     "output_type": "display_data"
    }
   ],
   "source": [
    "pd.crosstab(df['incident_severity'], df['fraud_reported']).plot(kind = 'bar')\n",
    "py.figure(figsize = (10,6))\n",
    "\n",
    "# As we can observe that incidents involving minor damage have higher cases of fraud report."
   ]
  },
  {
   "cell_type": "code",
   "execution_count": 29,
   "id": "06a55b6b",
   "metadata": {},
   "outputs": [
    {
     "data": {
      "text/plain": [
       "<Figure size 720x432 with 0 Axes>"
      ]
     },
     "execution_count": 29,
     "metadata": {},
     "output_type": "execute_result"
    },
    {
     "data": {
      "image/png": "[encoded data removed]",
      "text/plain": [
       "<Figure size 432x288 with 1 Axes>"
      ]
     },
     "metadata": {
      "needs_background": "light"
     },
     "output_type": "display_data"
    },
    {
     "data": {
      "text/plain": [
       "<Figure size 720x432 with 0 Axes>"
      ]
     },
     "metadata": {},
     "output_type": "display_data"
    }
   ],
   "source": [
    "#Let's analyze fraud reporting gender wise\n",
    "\n",
    "pd.crosstab(df['insured_sex'], df['fraud_reported']).plot(kind = 'bar')\n",
    "py.figure(figsize = (10,6))"
   ]
  },
  {
   "cell_type": "code",
   "execution_count": 30,
   "id": "8c17ace9",
   "metadata": {},
   "outputs": [
    {
     "data": {
      "text/plain": [
       "<AxesSubplot:xlabel='age'>"
      ]
     },
     "execution_count": 30,
     "metadata": {},
     "output_type": "execute_result"
    },
    {
     "data": {
      "image/png": "[encoded data removed]",
      "text/plain": [
       "<Figure size 720x432 with 1 Axes>"
      ]
     },
     "metadata": {
      "needs_background": "light"
     },
     "output_type": "display_data"
    }
   ],
   "source": [
    "pd.crosstab(df['age'], df['fraud_reported']).plot(kind='bar', figsize=(10,6))"
   ]
  },
  {
   "cell_type": "code",
   "execution_count": 31,
   "id": "ef4ca2d0",
   "metadata": {
    "scrolled": true
   },
   "outputs": [
    {
     "data": {
      "text/html": [
       "<div>\n",
       "<style scoped>\n",
       "    .dataframe tbody tr th:only-of-type {\n",
       "        vertical-align: middle;\n",
       "    }\n",
       "\n",
       "    .dataframe tbody tr th {\n",
       "        vertical-align: top;\n",
       "    }\n",
       "\n",
       "    .dataframe thead th {\n",
       "        text-align: right;\n",
       "    }\n",
       "</style>\n",
       "<table border=\"1\" class=\"dataframe\">\n",
       "  <thead>\n",
       "    <tr style=\"text-align: right;\">\n",
       "      <th></th>\n",
       "      <th>months_as_customer</th>\n",
       "      <th>age</th>\n",
       "      <th>policy_number</th>\n",
       "      <th>policy_bind_date</th>\n",
       "      <th>policy_state</th>\n",
       "      <th>policy_csl</th>\n",
       "      <th>policy_deductable</th>\n",
       "      <th>policy_annual_premium</th>\n",
       "      <th>umbrella_limit</th>\n",
       "      <th>insured_zip</th>\n",
       "      <th>insured_sex</th>\n",
       "      <th>insured_education_level</th>\n",
       "      <th>insured_occupation</th>\n",
       "      <th>insured_hobbies</th>\n",
       "      <th>insured_relationship</th>\n",
       "      <th>capital-gains</th>\n",
       "      <th>capital-loss</th>\n",
       "      <th>incident_date</th>\n",
       "      <th>incident_type</th>\n",
       "      <th>collision_type</th>\n",
       "      <th>incident_severity</th>\n",
       "      <th>authorities_contacted</th>\n",
       "      <th>incident_state</th>\n",
       "      <th>incident_city</th>\n",
       "      <th>incident_location</th>\n",
       "      <th>incident_hour_of_the_day</th>\n",
       "      <th>number_of_vehicles_involved</th>\n",
       "      <th>property_damage</th>\n",
       "      <th>bodily_injuries</th>\n",
       "      <th>witnesses</th>\n",
       "      <th>police_report_available</th>\n",
       "      <th>total_claim_amount</th>\n",
       "      <th>injury_claim</th>\n",
       "      <th>property_claim</th>\n",
       "      <th>vehicle_claim</th>\n",
       "      <th>auto_make</th>\n",
       "      <th>auto_model</th>\n",
       "      <th>auto_year</th>\n",
       "      <th>fraud_reported</th>\n",
       "    </tr>\n",
       "  </thead>\n",
       "  <tbody>\n",
       "    <tr>\n",
       "      <th>0</th>\n",
       "      <td>328</td>\n",
       "      <td>48</td>\n",
       "      <td>521585</td>\n",
       "      <td>17-10-2014</td>\n",
       "      <td>OH</td>\n",
       "      <td>250/500</td>\n",
       "      <td>1000</td>\n",
       "      <td>1406.91</td>\n",
       "      <td>0</td>\n",
       "      <td>466132</td>\n",
       "      <td>MALE</td>\n",
       "      <td>MD</td>\n",
       "      <td>craft-repair</td>\n",
       "      <td>sleeping</td>\n",
       "      <td>husband</td>\n",
       "      <td>53300</td>\n",
       "      <td>0</td>\n",
       "      <td>25-01-2015</td>\n",
       "      <td>Single Vehicle Collision</td>\n",
       "      <td>Side Collision</td>\n",
       "      <td>Major Damage</td>\n",
       "      <td>Police</td>\n",
       "      <td>SC</td>\n",
       "      <td>Columbus</td>\n",
       "      <td>9935 4th Drive</td>\n",
       "      <td>5</td>\n",
       "      <td>1</td>\n",
       "      <td>YES</td>\n",
       "      <td>1</td>\n",
       "      <td>2</td>\n",
       "      <td>YES</td>\n",
       "      <td>71610</td>\n",
       "      <td>6510</td>\n",
       "      <td>13020</td>\n",
       "      <td>52080</td>\n",
       "      <td>Saab</td>\n",
       "      <td>92x</td>\n",
       "      <td>2004</td>\n",
       "      <td>Y</td>\n",
       "    </tr>\n",
       "    <tr>\n",
       "      <th>1</th>\n",
       "      <td>228</td>\n",
       "      <td>42</td>\n",
       "      <td>342868</td>\n",
       "      <td>27-06-2006</td>\n",
       "      <td>IN</td>\n",
       "      <td>250/500</td>\n",
       "      <td>2000</td>\n",
       "      <td>1197.22</td>\n",
       "      <td>5000000</td>\n",
       "      <td>468176</td>\n",
       "      <td>MALE</td>\n",
       "      <td>MD</td>\n",
       "      <td>machine-op-inspct</td>\n",
       "      <td>reading</td>\n",
       "      <td>other-relative</td>\n",
       "      <td>0</td>\n",
       "      <td>0</td>\n",
       "      <td>21-01-2015</td>\n",
       "      <td>Vehicle Theft</td>\n",
       "      <td>NaN</td>\n",
       "      <td>Minor Damage</td>\n",
       "      <td>Police</td>\n",
       "      <td>VA</td>\n",
       "      <td>Riverwood</td>\n",
       "      <td>6608 MLK Hwy</td>\n",
       "      <td>8</td>\n",
       "      <td>1</td>\n",
       "      <td>NaN</td>\n",
       "      <td>0</td>\n",
       "      <td>0</td>\n",
       "      <td>NaN</td>\n",
       "      <td>5070</td>\n",
       "      <td>780</td>\n",
       "      <td>780</td>\n",
       "      <td>3510</td>\n",
       "      <td>Mercedes</td>\n",
       "      <td>E400</td>\n",
       "      <td>2007</td>\n",
       "      <td>Y</td>\n",
       "    </tr>\n",
       "  </tbody>\n",
       "</table>\n",
       "</div>"
      ],
      "text/plain": [
       "   months_as_customer  age  policy_number policy_bind_date policy_state  \\\n",
       "0                 328   48         521585       17-10-2014           OH   \n",
       "1                 228   42         342868       27-06-2006           IN   \n",
       "\n",
       "  policy_csl  policy_deductable  policy_annual_premium  umbrella_limit  \\\n",
       "0    250/500               1000                1406.91               0   \n",
       "1    250/500               2000                1197.22         5000000   \n",
       "\n",
       "   insured_zip insured_sex insured_education_level insured_occupation  \\\n",
       "0       466132        MALE                      MD       craft-repair   \n",
       "1       468176        MALE                      MD  machine-op-inspct   \n",
       "\n",
       "  insured_hobbies insured_relationship  capital-gains  capital-loss  \\\n",
       "0        sleeping              husband          53300             0   \n",
       "1         reading       other-relative              0             0   \n",
       "\n",
       "  incident_date             incident_type  collision_type incident_severity  \\\n",
       "0    25-01-2015  Single Vehicle Collision  Side Collision      Major Damage   \n",
       "1    21-01-2015             Vehicle Theft             NaN      Minor Damage   \n",
       "\n",
       "  authorities_contacted incident_state incident_city incident_location  \\\n",
       "0                Police             SC      Columbus    9935 4th Drive   \n",
       "1                Police             VA     Riverwood      6608 MLK Hwy   \n",
       "\n",
       "   incident_hour_of_the_day  number_of_vehicles_involved property_damage  \\\n",
       "0                         5                            1             YES   \n",
       "1                         8                            1             NaN   \n",
       "\n",
       "   bodily_injuries  witnesses police_report_available  total_claim_amount  \\\n",
       "0                1          2                     YES               71610   \n",
       "1                0          0                     NaN                5070   \n",
       "\n",
       "   injury_claim  property_claim  vehicle_claim auto_make auto_model  \\\n",
       "0          6510           13020          52080      Saab        92x   \n",
       "1           780             780           3510  Mercedes       E400   \n",
       "\n",
       "   auto_year fraud_reported  \n",
       "0       2004              Y  \n",
       "1       2007              Y  "
      ]
     },
     "execution_count": 31,
     "metadata": {},
     "output_type": "execute_result"
    }
   ],
   "source": [
    "df.head(2)"
   ]
  },
  {
   "cell_type": "code",
   "execution_count": 32,
   "id": "131f05f5",
   "metadata": {},
   "outputs": [
    {
     "data": {
      "text/plain": [
       "(1000, 39)"
      ]
     },
     "execution_count": 32,
     "metadata": {},
     "output_type": "execute_result"
    }
   ],
   "source": [
    "df.shape"
   ]
  },
  {
   "cell_type": "code",
   "execution_count": 33,
   "id": "572b15a0",
   "metadata": {},
   "outputs": [],
   "source": [
    "del_cols = ['policy_bind_date','policy_number','policy_csl','incident_date','incident_location','insured_zip']\n",
    "\n",
    "df.drop(del_cols, axis=1, inplace=True)"
   ]
  },
  {
   "cell_type": "code",
   "execution_count": 34,
   "id": "e6842a89",
   "metadata": {},
   "outputs": [
    {
     "data": {
      "text/plain": [
       "(1000, 33)"
      ]
     },
     "execution_count": 34,
     "metadata": {},
     "output_type": "execute_result"
    }
   ],
   "source": [
    "df.shape"
   ]
  },
  {
   "cell_type": "code",
   "execution_count": 35,
   "id": "7791c226",
   "metadata": {},
   "outputs": [
    {
     "data": {
      "text/html": [
       "<div>\n",
       "<style scoped>\n",
       "    .dataframe tbody tr th:only-of-type {\n",
       "        vertical-align: middle;\n",
       "    }\n",
       "\n",
       "    .dataframe tbody tr th {\n",
       "        vertical-align: top;\n",
       "    }\n",
       "\n",
       "    .dataframe thead th {\n",
       "        text-align: right;\n",
       "    }\n",
       "</style>\n",
       "<table border=\"1\" class=\"dataframe\">\n",
       "  <thead>\n",
       "    <tr style=\"text-align: right;\">\n",
       "      <th></th>\n",
       "      <th>months_as_customer</th>\n",
       "      <th>age</th>\n",
       "      <th>policy_state</th>\n",
       "      <th>policy_deductable</th>\n",
       "      <th>policy_annual_premium</th>\n",
       "      <th>umbrella_limit</th>\n",
       "      <th>insured_sex</th>\n",
       "      <th>insured_education_level</th>\n",
       "      <th>insured_occupation</th>\n",
       "      <th>insured_hobbies</th>\n",
       "      <th>insured_relationship</th>\n",
       "      <th>capital-gains</th>\n",
       "      <th>capital-loss</th>\n",
       "      <th>incident_type</th>\n",
       "      <th>collision_type</th>\n",
       "      <th>incident_severity</th>\n",
       "      <th>authorities_contacted</th>\n",
       "      <th>incident_state</th>\n",
       "      <th>incident_city</th>\n",
       "      <th>incident_hour_of_the_day</th>\n",
       "      <th>number_of_vehicles_involved</th>\n",
       "      <th>property_damage</th>\n",
       "      <th>bodily_injuries</th>\n",
       "      <th>witnesses</th>\n",
       "      <th>police_report_available</th>\n",
       "      <th>total_claim_amount</th>\n",
       "      <th>injury_claim</th>\n",
       "      <th>property_claim</th>\n",
       "      <th>vehicle_claim</th>\n",
       "      <th>auto_make</th>\n",
       "      <th>auto_model</th>\n",
       "      <th>auto_year</th>\n",
       "      <th>fraud_reported</th>\n",
       "    </tr>\n",
       "  </thead>\n",
       "  <tbody>\n",
       "    <tr>\n",
       "      <th>0</th>\n",
       "      <td>328</td>\n",
       "      <td>48</td>\n",
       "      <td>2</td>\n",
       "      <td>1000</td>\n",
       "      <td>1406.91</td>\n",
       "      <td>0</td>\n",
       "      <td>1</td>\n",
       "      <td>4</td>\n",
       "      <td>2</td>\n",
       "      <td>17</td>\n",
       "      <td>0</td>\n",
       "      <td>53300</td>\n",
       "      <td>0</td>\n",
       "      <td>2</td>\n",
       "      <td>2</td>\n",
       "      <td>0</td>\n",
       "      <td>4</td>\n",
       "      <td>4</td>\n",
       "      <td>1</td>\n",
       "      <td>5</td>\n",
       "      <td>1</td>\n",
       "      <td>1</td>\n",
       "      <td>1</td>\n",
       "      <td>2</td>\n",
       "      <td>1</td>\n",
       "      <td>71610</td>\n",
       "      <td>6510</td>\n",
       "      <td>13020</td>\n",
       "      <td>52080</td>\n",
       "      <td>10</td>\n",
       "      <td>1</td>\n",
       "      <td>2004</td>\n",
       "      <td>1</td>\n",
       "    </tr>\n",
       "    <tr>\n",
       "      <th>1</th>\n",
       "      <td>228</td>\n",
       "      <td>42</td>\n",
       "      <td>1</td>\n",
       "      <td>2000</td>\n",
       "      <td>1197.22</td>\n",
       "      <td>5000000</td>\n",
       "      <td>1</td>\n",
       "      <td>4</td>\n",
       "      <td>6</td>\n",
       "      <td>15</td>\n",
       "      <td>2</td>\n",
       "      <td>0</td>\n",
       "      <td>0</td>\n",
       "      <td>3</td>\n",
       "      <td>3</td>\n",
       "      <td>1</td>\n",
       "      <td>4</td>\n",
       "      <td>5</td>\n",
       "      <td>5</td>\n",
       "      <td>8</td>\n",
       "      <td>1</td>\n",
       "      <td>2</td>\n",
       "      <td>0</td>\n",
       "      <td>0</td>\n",
       "      <td>2</td>\n",
       "      <td>5070</td>\n",
       "      <td>780</td>\n",
       "      <td>780</td>\n",
       "      <td>3510</td>\n",
       "      <td>8</td>\n",
       "      <td>12</td>\n",
       "      <td>2007</td>\n",
       "      <td>1</td>\n",
       "    </tr>\n",
       "    <tr>\n",
       "      <th>2</th>\n",
       "      <td>134</td>\n",
       "      <td>29</td>\n",
       "      <td>2</td>\n",
       "      <td>2000</td>\n",
       "      <td>1413.14</td>\n",
       "      <td>5000000</td>\n",
       "      <td>0</td>\n",
       "      <td>6</td>\n",
       "      <td>11</td>\n",
       "      <td>2</td>\n",
       "      <td>3</td>\n",
       "      <td>35100</td>\n",
       "      <td>0</td>\n",
       "      <td>0</td>\n",
       "      <td>1</td>\n",
       "      <td>1</td>\n",
       "      <td>4</td>\n",
       "      <td>1</td>\n",
       "      <td>1</td>\n",
       "      <td>7</td>\n",
       "      <td>3</td>\n",
       "      <td>0</td>\n",
       "      <td>2</td>\n",
       "      <td>3</td>\n",
       "      <td>0</td>\n",
       "      <td>34650</td>\n",
       "      <td>7700</td>\n",
       "      <td>3850</td>\n",
       "      <td>23100</td>\n",
       "      <td>4</td>\n",
       "      <td>30</td>\n",
       "      <td>2007</td>\n",
       "      <td>0</td>\n",
       "    </tr>\n",
       "    <tr>\n",
       "      <th>3</th>\n",
       "      <td>256</td>\n",
       "      <td>41</td>\n",
       "      <td>0</td>\n",
       "      <td>2000</td>\n",
       "      <td>1415.74</td>\n",
       "      <td>6000000</td>\n",
       "      <td>0</td>\n",
       "      <td>6</td>\n",
       "      <td>1</td>\n",
       "      <td>2</td>\n",
       "      <td>4</td>\n",
       "      <td>48900</td>\n",
       "      <td>-62400</td>\n",
       "      <td>2</td>\n",
       "      <td>0</td>\n",
       "      <td>0</td>\n",
       "      <td>4</td>\n",
       "      <td>2</td>\n",
       "      <td>0</td>\n",
       "      <td>5</td>\n",
       "      <td>1</td>\n",
       "      <td>2</td>\n",
       "      <td>1</td>\n",
       "      <td>2</td>\n",
       "      <td>0</td>\n",
       "      <td>63400</td>\n",
       "      <td>6340</td>\n",
       "      <td>6340</td>\n",
       "      <td>50720</td>\n",
       "      <td>3</td>\n",
       "      <td>34</td>\n",
       "      <td>2014</td>\n",
       "      <td>1</td>\n",
       "    </tr>\n",
       "  </tbody>\n",
       "</table>\n",
       "</div>"
      ],
      "text/plain": [
       "   months_as_customer  age  policy_state  policy_deductable  \\\n",
       "0                 328   48             2               1000   \n",
       "1                 228   42             1               2000   \n",
       "2                 134   29             2               2000   \n",
       "3                 256   41             0               2000   \n",
       "\n",
       "   policy_annual_premium  umbrella_limit  insured_sex  \\\n",
       "0                1406.91               0            1   \n",
       "1                1197.22         5000000            1   \n",
       "2                1413.14         5000000            0   \n",
       "3                1415.74         6000000            0   \n",
       "\n",
       "   insured_education_level  insured_occupation  insured_hobbies  \\\n",
       "0                        4                   2               17   \n",
       "1                        4                   6               15   \n",
       "2                        6                  11                2   \n",
       "3                        6                   1                2   \n",
       "\n",
       "   insured_relationship  capital-gains  capital-loss  incident_type  \\\n",
       "0                     0          53300             0              2   \n",
       "1                     2              0             0              3   \n",
       "2                     3          35100             0              0   \n",
       "3                     4          48900        -62400              2   \n",
       "\n",
       "   collision_type  incident_severity  authorities_contacted  incident_state  \\\n",
       "0               2                  0                      4               4   \n",
       "1               3                  1                      4               5   \n",
       "2               1                  1                      4               1   \n",
       "3               0                  0                      4               2   \n",
       "\n",
       "   incident_city  incident_hour_of_the_day  number_of_vehicles_involved  \\\n",
       "0              1                         5                            1   \n",
       "1              5                         8                            1   \n",
       "2              1                         7                            3   \n",
       "3              0                         5                            1   \n",
       "\n",
       "   property_damage  bodily_injuries  witnesses  police_report_available  \\\n",
       "0                1                1          2                        1   \n",
       "1                2                0          0                        2   \n",
       "2                0                2          3                        0   \n",
       "3                2                1          2                        0   \n",
       "\n",
       "   total_claim_amount  injury_claim  property_claim  vehicle_claim  auto_make  \\\n",
       "0               71610          6510           13020          52080         10   \n",
       "1                5070           780             780           3510          8   \n",
       "2               34650          7700            3850          23100          4   \n",
       "3               63400          6340            6340          50720          3   \n",
       "\n",
       "   auto_model  auto_year  fraud_reported  \n",
       "0           1       2004               1  \n",
       "1          12       2007               1  \n",
       "2          30       2007               0  \n",
       "3          34       2014               1  "
      ]
     },
     "execution_count": 35,
     "metadata": {},
     "output_type": "execute_result"
    }
   ],
   "source": [
    "from sklearn.preprocessing import LabelEncoder\n",
    "\n",
    "categ_values = df.dtypes[df.dtypes == 'object']\n",
    "\n",
    "le = LabelEncoder()\n",
    "\n",
    "for vals in categ_values.index.values:\n",
    "    df[vals] = le.fit_transform(df[vals].astype(str))\n",
    "    \n",
    "df.head(4)"
   ]
  },
  {
   "cell_type": "code",
   "execution_count": 36,
   "id": "c34159e6",
   "metadata": {},
   "outputs": [],
   "source": [
    "df.dropna(inplace=True)"
   ]
  },
  {
   "cell_type": "code",
   "execution_count": 37,
   "id": "9e3a71f0",
   "metadata": {},
   "outputs": [
    {
     "data": {
      "text/plain": [
       "(1000, 33)"
      ]
     },
     "execution_count": 37,
     "metadata": {},
     "output_type": "execute_result"
    }
   ],
   "source": [
    "df.shape"
   ]
  },
  {
   "cell_type": "code",
   "execution_count": 38,
   "id": "d7807281",
   "metadata": {},
   "outputs": [
    {
     "data": {
      "text/html": [
       "<div>\n",
       "<style scoped>\n",
       "    .dataframe tbody tr th:only-of-type {\n",
       "        vertical-align: middle;\n",
       "    }\n",
       "\n",
       "    .dataframe tbody tr th {\n",
       "        vertical-align: top;\n",
       "    }\n",
       "\n",
       "    .dataframe thead th {\n",
       "        text-align: right;\n",
       "    }\n",
       "</style>\n",
       "<table border=\"1\" class=\"dataframe\">\n",
       "  <thead>\n",
       "    <tr style=\"text-align: right;\">\n",
       "      <th></th>\n",
       "      <th>months_as_customer</th>\n",
       "      <th>age</th>\n",
       "      <th>policy_state</th>\n",
       "      <th>policy_deductable</th>\n",
       "      <th>policy_annual_premium</th>\n",
       "      <th>umbrella_limit</th>\n",
       "      <th>insured_sex</th>\n",
       "      <th>insured_education_level</th>\n",
       "      <th>insured_occupation</th>\n",
       "      <th>insured_hobbies</th>\n",
       "      <th>insured_relationship</th>\n",
       "      <th>capital-gains</th>\n",
       "      <th>capital-loss</th>\n",
       "      <th>incident_type</th>\n",
       "      <th>collision_type</th>\n",
       "      <th>incident_severity</th>\n",
       "      <th>authorities_contacted</th>\n",
       "      <th>incident_state</th>\n",
       "      <th>incident_city</th>\n",
       "      <th>incident_hour_of_the_day</th>\n",
       "      <th>number_of_vehicles_involved</th>\n",
       "      <th>property_damage</th>\n",
       "      <th>bodily_injuries</th>\n",
       "      <th>witnesses</th>\n",
       "      <th>police_report_available</th>\n",
       "      <th>total_claim_amount</th>\n",
       "      <th>injury_claim</th>\n",
       "      <th>property_claim</th>\n",
       "      <th>vehicle_claim</th>\n",
       "      <th>auto_make</th>\n",
       "      <th>auto_model</th>\n",
       "      <th>auto_year</th>\n",
       "      <th>fraud_reported</th>\n",
       "    </tr>\n",
       "  </thead>\n",
       "  <tbody>\n",
       "    <tr>\n",
       "      <th>months_as_customer</th>\n",
       "      <td>1.000000</td>\n",
       "      <td>0.922098</td>\n",
       "      <td>-0.000328</td>\n",
       "      <td>0.026807</td>\n",
       "      <td>0.005018</td>\n",
       "      <td>0.015498</td>\n",
       "      <td>0.060925</td>\n",
       "      <td>-0.000833</td>\n",
       "      <td>0.009814</td>\n",
       "      <td>-0.093661</td>\n",
       "      <td>0.069727</td>\n",
       "      <td>0.006399</td>\n",
       "      <td>0.020209</td>\n",
       "      <td>-0.017377</td>\n",
       "      <td>-0.082966</td>\n",
       "      <td>-0.059581</td>\n",
       "      <td>0.010021</td>\n",
       "      <td>0.005369</td>\n",
       "      <td>-0.000130</td>\n",
       "      <td>0.070639</td>\n",
       "      <td>0.014736</td>\n",
       "      <td>-0.004631</td>\n",
       "      <td>-0.010162</td>\n",
       "      <td>0.058383</td>\n",
       "      <td>-0.071746</td>\n",
       "      <td>0.062108</td>\n",
       "      <td>0.065329</td>\n",
       "      <td>0.034940</td>\n",
       "      <td>0.061013</td>\n",
       "      <td>0.047655</td>\n",
       "      <td>0.004202</td>\n",
       "      <td>-0.000292</td>\n",
       "      <td>0.020544</td>\n",
       "    </tr>\n",
       "    <tr>\n",
       "      <th>age</th>\n",
       "      <td>0.922098</td>\n",
       "      <td>1.000000</td>\n",
       "      <td>-0.014533</td>\n",
       "      <td>0.029188</td>\n",
       "      <td>0.014404</td>\n",
       "      <td>0.018126</td>\n",
       "      <td>0.073337</td>\n",
       "      <td>0.000969</td>\n",
       "      <td>0.017220</td>\n",
       "      <td>-0.081315</td>\n",
       "      <td>0.074832</td>\n",
       "      <td>-0.007075</td>\n",
       "      <td>0.007368</td>\n",
       "      <td>-0.025626</td>\n",
       "      <td>-0.086068</td>\n",
       "      <td>-0.058439</td>\n",
       "      <td>0.015417</td>\n",
       "      <td>0.005770</td>\n",
       "      <td>-0.002291</td>\n",
       "      <td>0.087161</td>\n",
       "      <td>0.022102</td>\n",
       "      <td>-0.002733</td>\n",
       "      <td>-0.015679</td>\n",
       "      <td>0.052359</td>\n",
       "      <td>-0.063040</td>\n",
       "      <td>0.069863</td>\n",
       "      <td>0.075522</td>\n",
       "      <td>0.060898</td>\n",
       "      <td>0.062588</td>\n",
       "      <td>0.030410</td>\n",
       "      <td>0.017343</td>\n",
       "      <td>0.001354</td>\n",
       "      <td>0.012143</td>\n",
       "    </tr>\n",
       "    <tr>\n",
       "      <th>policy_state</th>\n",
       "      <td>-0.000328</td>\n",
       "      <td>-0.014533</td>\n",
       "      <td>1.000000</td>\n",
       "      <td>0.010033</td>\n",
       "      <td>0.012455</td>\n",
       "      <td>-0.029580</td>\n",
       "      <td>-0.020481</td>\n",
       "      <td>-0.034327</td>\n",
       "      <td>-0.031215</td>\n",
       "      <td>-0.038689</td>\n",
       "      <td>-0.018506</td>\n",
       "      <td>0.074551</td>\n",
       "      <td>-0.030338</td>\n",
       "      <td>0.031848</td>\n",
       "      <td>0.037564</td>\n",
       "      <td>-0.026377</td>\n",
       "      <td>-0.016777</td>\n",
       "      <td>0.008723</td>\n",
       "      <td>-0.002077</td>\n",
       "      <td>0.029457</td>\n",
       "      <td>-0.042263</td>\n",
       "      <td>-0.030719</td>\n",
       "      <td>0.013384</td>\n",
       "      <td>0.022960</td>\n",
       "      <td>-0.024713</td>\n",
       "      <td>-0.006002</td>\n",
       "      <td>-0.046290</td>\n",
       "      <td>0.008406</td>\n",
       "      <td>0.001425</td>\n",
       "      <td>0.017124</td>\n",
       "      <td>-0.025253</td>\n",
       "      <td>0.002114</td>\n",
       "      <td>0.029432</td>\n",
       "    </tr>\n",
       "    <tr>\n",
       "      <th>policy_deductable</th>\n",
       "      <td>0.026807</td>\n",
       "      <td>0.029188</td>\n",
       "      <td>0.010033</td>\n",
       "      <td>1.000000</td>\n",
       "      <td>-0.003245</td>\n",
       "      <td>0.010870</td>\n",
       "      <td>-0.009733</td>\n",
       "      <td>0.015217</td>\n",
       "      <td>-0.046733</td>\n",
       "      <td>0.004061</td>\n",
       "      <td>-0.022945</td>\n",
       "      <td>0.035212</td>\n",
       "      <td>-0.023544</td>\n",
       "      <td>-0.038411</td>\n",
       "      <td>-0.041188</td>\n",
       "      <td>-0.015711</td>\n",
       "      <td>-0.000760</td>\n",
       "      <td>0.006517</td>\n",
       "      <td>-0.045117</td>\n",
       "      <td>0.060935</td>\n",
       "      <td>0.051214</td>\n",
       "      <td>-0.006837</td>\n",
       "      <td>-0.022765</td>\n",
       "      <td>0.066639</td>\n",
       "      <td>0.004936</td>\n",
       "      <td>0.022839</td>\n",
       "      <td>0.039107</td>\n",
       "      <td>0.064792</td>\n",
       "      <td>0.005269</td>\n",
       "      <td>-0.035379</td>\n",
       "      <td>-0.003268</td>\n",
       "      <td>0.026105</td>\n",
       "      <td>0.014817</td>\n",
       "    </tr>\n",
       "    <tr>\n",
       "      <th>policy_annual_premium</th>\n",
       "      <td>0.005018</td>\n",
       "      <td>0.014404</td>\n",
       "      <td>0.012455</td>\n",
       "      <td>-0.003245</td>\n",
       "      <td>1.000000</td>\n",
       "      <td>-0.006247</td>\n",
       "      <td>0.038853</td>\n",
       "      <td>-0.019715</td>\n",
       "      <td>0.035922</td>\n",
       "      <td>-0.018019</td>\n",
       "      <td>0.001925</td>\n",
       "      <td>-0.013738</td>\n",
       "      <td>0.023547</td>\n",
       "      <td>0.053603</td>\n",
       "      <td>0.013508</td>\n",
       "      <td>-0.011155</td>\n",
       "      <td>-0.055191</td>\n",
       "      <td>0.046434</td>\n",
       "      <td>0.048724</td>\n",
       "      <td>-0.001578</td>\n",
       "      <td>-0.045991</td>\n",
       "      <td>-0.052172</td>\n",
       "      <td>0.026780</td>\n",
       "      <td>0.002332</td>\n",
       "      <td>0.010332</td>\n",
       "      <td>0.009094</td>\n",
       "      <td>-0.017633</td>\n",
       "      <td>-0.011654</td>\n",
       "      <td>0.020246</td>\n",
       "      <td>0.000045</td>\n",
       "      <td>-0.031849</td>\n",
       "      <td>-0.049226</td>\n",
       "      <td>-0.014480</td>\n",
       "    </tr>\n",
       "    <tr>\n",
       "      <th>umbrella_limit</th>\n",
       "      <td>0.015498</td>\n",
       "      <td>0.018126</td>\n",
       "      <td>-0.029580</td>\n",
       "      <td>0.010870</td>\n",
       "      <td>-0.006247</td>\n",
       "      <td>1.000000</td>\n",
       "      <td>0.010688</td>\n",
       "      <td>-0.019357</td>\n",
       "      <td>0.023422</td>\n",
       "      <td>-0.037000</td>\n",
       "      <td>0.077495</td>\n",
       "      <td>-0.047268</td>\n",
       "      <td>-0.024056</td>\n",
       "      <td>0.015966</td>\n",
       "      <td>0.040219</td>\n",
       "      <td>0.009466</td>\n",
       "      <td>0.029044</td>\n",
       "      <td>-0.077492</td>\n",
       "      <td>0.013094</td>\n",
       "      <td>-0.023257</td>\n",
       "      <td>-0.021270</td>\n",
       "      <td>-0.015237</td>\n",
       "      <td>0.022743</td>\n",
       "      <td>-0.006738</td>\n",
       "      <td>0.034177</td>\n",
       "      <td>-0.040344</td>\n",
       "      <td>-0.045412</td>\n",
       "      <td>-0.023790</td>\n",
       "      <td>-0.038584</td>\n",
       "      <td>-0.004443</td>\n",
       "      <td>0.040256</td>\n",
       "      <td>0.009893</td>\n",
       "      <td>0.058622</td>\n",
       "    </tr>\n",
       "    <tr>\n",
       "      <th>insured_sex</th>\n",
       "      <td>0.060925</td>\n",
       "      <td>0.073337</td>\n",
       "      <td>-0.020481</td>\n",
       "      <td>-0.009733</td>\n",
       "      <td>0.038853</td>\n",
       "      <td>0.010688</td>\n",
       "      <td>1.000000</td>\n",
       "      <td>0.009002</td>\n",
       "      <td>-0.006160</td>\n",
       "      <td>-0.020317</td>\n",
       "      <td>0.002855</td>\n",
       "      <td>-0.020494</td>\n",
       "      <td>-0.021705</td>\n",
       "      <td>0.009952</td>\n",
       "      <td>0.003799</td>\n",
       "      <td>-0.028168</td>\n",
       "      <td>0.017914</td>\n",
       "      <td>-0.022379</td>\n",
       "      <td>0.014470</td>\n",
       "      <td>0.019290</td>\n",
       "      <td>0.018793</td>\n",
       "      <td>-0.012453</td>\n",
       "      <td>-0.020297</td>\n",
       "      <td>0.042463</td>\n",
       "      <td>-0.029056</td>\n",
       "      <td>-0.023727</td>\n",
       "      <td>0.000924</td>\n",
       "      <td>-0.014868</td>\n",
       "      <td>-0.029609</td>\n",
       "      <td>0.026457</td>\n",
       "      <td>-0.018421</td>\n",
       "      <td>-0.028247</td>\n",
       "      <td>0.030873</td>\n",
       "    </tr>\n",
       "    <tr>\n",
       "      <th>insured_education_level</th>\n",
       "      <td>-0.000833</td>\n",
       "      <td>0.000969</td>\n",
       "      <td>-0.034327</td>\n",
       "      <td>0.015217</td>\n",
       "      <td>-0.019715</td>\n",
       "      <td>-0.019357</td>\n",
       "      <td>0.009002</td>\n",
       "      <td>1.000000</td>\n",
       "      <td>-0.020298</td>\n",
       "      <td>0.021807</td>\n",
       "      <td>-0.023488</td>\n",
       "      <td>0.039912</td>\n",
       "      <td>0.041193</td>\n",
       "      <td>0.013704</td>\n",
       "      <td>-0.053458</td>\n",
       "      <td>-0.006420</td>\n",
       "      <td>-0.010838</td>\n",
       "      <td>-0.005903</td>\n",
       "      <td>-0.018636</td>\n",
       "      <td>-0.057061</td>\n",
       "      <td>-0.003768</td>\n",
       "      <td>-0.031510</td>\n",
       "      <td>-0.012072</td>\n",
       "      <td>0.019211</td>\n",
       "      <td>0.016119</td>\n",
       "      <td>0.074226</td>\n",
       "      <td>0.081880</td>\n",
       "      <td>0.055794</td>\n",
       "      <td>0.068348</td>\n",
       "      <td>0.055202</td>\n",
       "      <td>0.049445</td>\n",
       "      <td>0.043509</td>\n",
       "      <td>0.008808</td>\n",
       "    </tr>\n",
       "    <tr>\n",
       "      <th>insured_occupation</th>\n",
       "      <td>0.009814</td>\n",
       "      <td>0.017220</td>\n",
       "      <td>-0.031215</td>\n",
       "      <td>-0.046733</td>\n",
       "      <td>0.035922</td>\n",
       "      <td>0.023422</td>\n",
       "      <td>-0.006160</td>\n",
       "      <td>-0.020298</td>\n",
       "      <td>1.000000</td>\n",
       "      <td>-0.011077</td>\n",
       "      <td>-0.010171</td>\n",
       "      <td>-0.007824</td>\n",
       "      <td>-0.020171</td>\n",
       "      <td>0.003842</td>\n",
       "      <td>0.004076</td>\n",
       "      <td>0.004731</td>\n",
       "      <td>-0.007811</td>\n",
       "      <td>-0.022761</td>\n",
       "      <td>0.000390</td>\n",
       "      <td>-0.018435</td>\n",
       "      <td>-0.015368</td>\n",
       "      <td>-0.047800</td>\n",
       "      <td>-0.000236</td>\n",
       "      <td>-0.014794</td>\n",
       "      <td>-0.020739</td>\n",
       "      <td>0.003692</td>\n",
       "      <td>0.020211</td>\n",
       "      <td>0.003004</td>\n",
       "      <td>-0.000829</td>\n",
       "      <td>0.042621</td>\n",
       "      <td>0.020584</td>\n",
       "      <td>-0.006676</td>\n",
       "      <td>0.001564</td>\n",
       "    </tr>\n",
       "    <tr>\n",
       "      <th>insured_hobbies</th>\n",
       "      <td>-0.093661</td>\n",
       "      <td>-0.081315</td>\n",
       "      <td>-0.038689</td>\n",
       "      <td>0.004061</td>\n",
       "      <td>-0.018019</td>\n",
       "      <td>-0.037000</td>\n",
       "      <td>-0.020317</td>\n",
       "      <td>0.021807</td>\n",
       "      <td>-0.011077</td>\n",
       "      <td>1.000000</td>\n",
       "      <td>-0.096772</td>\n",
       "      <td>0.054338</td>\n",
       "      <td>-0.031811</td>\n",
       "      <td>0.007711</td>\n",
       "      <td>0.030389</td>\n",
       "      <td>-0.024688</td>\n",
       "      <td>-0.028104</td>\n",
       "      <td>0.085764</td>\n",
       "      <td>0.018542</td>\n",
       "      <td>0.019979</td>\n",
       "      <td>0.012586</td>\n",
       "      <td>-0.005929</td>\n",
       "      <td>0.031373</td>\n",
       "      <td>-0.033971</td>\n",
       "      <td>0.041940</td>\n",
       "      <td>-0.004488</td>\n",
       "      <td>0.028393</td>\n",
       "      <td>0.012535</td>\n",
       "      <td>-0.016814</td>\n",
       "      <td>0.001525</td>\n",
       "      <td>0.030948</td>\n",
       "      <td>-0.014495</td>\n",
       "      <td>-0.046838</td>\n",
       "    </tr>\n",
       "    <tr>\n",
       "      <th>insured_relationship</th>\n",
       "      <td>0.069727</td>\n",
       "      <td>0.074832</td>\n",
       "      <td>-0.018506</td>\n",
       "      <td>-0.022945</td>\n",
       "      <td>0.001925</td>\n",
       "      <td>0.077495</td>\n",
       "      <td>0.002855</td>\n",
       "      <td>-0.023488</td>\n",
       "      <td>-0.010171</td>\n",
       "      <td>-0.096772</td>\n",
       "      <td>1.000000</td>\n",
       "      <td>-0.019439</td>\n",
       "      <td>-0.064453</td>\n",
       "      <td>0.033834</td>\n",
       "      <td>0.003833</td>\n",
       "      <td>0.015498</td>\n",
       "      <td>-0.004070</td>\n",
       "      <td>-0.062331</td>\n",
       "      <td>-0.002288</td>\n",
       "      <td>0.004805</td>\n",
       "      <td>-0.047354</td>\n",
       "      <td>0.018420</td>\n",
       "      <td>-0.001214</td>\n",
       "      <td>0.002362</td>\n",
       "      <td>0.017965</td>\n",
       "      <td>0.002229</td>\n",
       "      <td>0.029014</td>\n",
       "      <td>0.007332</td>\n",
       "      <td>-0.006256</td>\n",
       "      <td>-0.027028</td>\n",
       "      <td>0.063671</td>\n",
       "      <td>-0.023345</td>\n",
       "      <td>0.021043</td>\n",
       "    </tr>\n",
       "    <tr>\n",
       "      <th>capital-gains</th>\n",
       "      <td>0.006399</td>\n",
       "      <td>-0.007075</td>\n",
       "      <td>0.074551</td>\n",
       "      <td>0.035212</td>\n",
       "      <td>-0.013738</td>\n",
       "      <td>-0.047268</td>\n",
       "      <td>-0.020494</td>\n",
       "      <td>0.039912</td>\n",
       "      <td>-0.007824</td>\n",
       "      <td>0.054338</td>\n",
       "      <td>-0.019439</td>\n",
       "      <td>1.000000</td>\n",
       "      <td>-0.046904</td>\n",
       "      <td>-0.045857</td>\n",
       "      <td>-0.028630</td>\n",
       "      <td>-0.013396</td>\n",
       "      <td>-0.044892</td>\n",
       "      <td>0.013833</td>\n",
       "      <td>-0.024989</td>\n",
       "      <td>-0.016406</td>\n",
       "      <td>0.061643</td>\n",
       "      <td>-0.047505</td>\n",
       "      <td>0.055829</td>\n",
       "      <td>-0.017651</td>\n",
       "      <td>0.002184</td>\n",
       "      <td>0.015980</td>\n",
       "      <td>0.025934</td>\n",
       "      <td>-0.000779</td>\n",
       "      <td>0.015836</td>\n",
       "      <td>0.052014</td>\n",
       "      <td>0.036569</td>\n",
       "      <td>0.031398</td>\n",
       "      <td>-0.019173</td>\n",
       "    </tr>\n",
       "    <tr>\n",
       "      <th>capital-loss</th>\n",
       "      <td>0.020209</td>\n",
       "      <td>0.007368</td>\n",
       "      <td>-0.030338</td>\n",
       "      <td>-0.023544</td>\n",
       "      <td>0.023547</td>\n",
       "      <td>-0.024056</td>\n",
       "      <td>-0.021705</td>\n",
       "      <td>0.041193</td>\n",
       "      <td>-0.020171</td>\n",
       "      <td>-0.031811</td>\n",
       "      <td>-0.064453</td>\n",
       "      <td>-0.046904</td>\n",
       "      <td>1.000000</td>\n",
       "      <td>0.026101</td>\n",
       "      <td>0.042681</td>\n",
       "      <td>-0.018647</td>\n",
       "      <td>0.025192</td>\n",
       "      <td>-0.048651</td>\n",
       "      <td>-0.038092</td>\n",
       "      <td>-0.025054</td>\n",
       "      <td>-0.014895</td>\n",
       "      <td>0.017803</td>\n",
       "      <td>-0.024418</td>\n",
       "      <td>-0.041330</td>\n",
       "      <td>-0.012753</td>\n",
       "      <td>-0.036060</td>\n",
       "      <td>-0.046060</td>\n",
       "      <td>-0.022863</td>\n",
       "      <td>-0.032665</td>\n",
       "      <td>-0.041658</td>\n",
       "      <td>-0.037288</td>\n",
       "      <td>-0.056615</td>\n",
       "      <td>-0.014863</td>\n",
       "    </tr>\n",
       "    <tr>\n",
       "      <th>incident_type</th>\n",
       "      <td>-0.017377</td>\n",
       "      <td>-0.025626</td>\n",
       "      <td>0.031848</td>\n",
       "      <td>-0.038411</td>\n",
       "      <td>0.053603</td>\n",
       "      <td>0.015966</td>\n",
       "      <td>0.009952</td>\n",
       "      <td>0.013704</td>\n",
       "      <td>0.003842</td>\n",
       "      <td>0.007711</td>\n",
       "      <td>0.033834</td>\n",
       "      <td>-0.045857</td>\n",
       "      <td>0.026101</td>\n",
       "      <td>1.000000</td>\n",
       "      <td>0.228535</td>\n",
       "      <td>0.159915</td>\n",
       "      <td>0.100450</td>\n",
       "      <td>0.037083</td>\n",
       "      <td>0.022117</td>\n",
       "      <td>-0.133387</td>\n",
       "      <td>-0.893274</td>\n",
       "      <td>0.000239</td>\n",
       "      <td>-0.009733</td>\n",
       "      <td>-0.007299</td>\n",
       "      <td>-0.020105</td>\n",
       "      <td>-0.276686</td>\n",
       "      <td>-0.226704</td>\n",
       "      <td>-0.221409</td>\n",
       "      <td>-0.271635</td>\n",
       "      <td>-0.032784</td>\n",
       "      <td>-0.034302</td>\n",
       "      <td>-0.053191</td>\n",
       "      <td>-0.050376</td>\n",
       "    </tr>\n",
       "    <tr>\n",
       "      <th>collision_type</th>\n",
       "      <td>-0.082966</td>\n",
       "      <td>-0.086068</td>\n",
       "      <td>0.037564</td>\n",
       "      <td>-0.041188</td>\n",
       "      <td>0.013508</td>\n",
       "      <td>0.040219</td>\n",
       "      <td>0.003799</td>\n",
       "      <td>-0.053458</td>\n",
       "      <td>0.004076</td>\n",
       "      <td>0.030389</td>\n",
       "      <td>0.003833</td>\n",
       "      <td>-0.028630</td>\n",
       "      <td>0.042681</td>\n",
       "      <td>0.228535</td>\n",
       "      <td>1.000000</td>\n",
       "      <td>0.288876</td>\n",
       "      <td>0.222909</td>\n",
       "      <td>0.068842</td>\n",
       "      <td>0.017670</td>\n",
       "      <td>-0.156016</td>\n",
       "      <td>-0.224926</td>\n",
       "      <td>-0.016350</td>\n",
       "      <td>-0.018590</td>\n",
       "      <td>-0.026694</td>\n",
       "      <td>-0.021881</td>\n",
       "      <td>-0.617448</td>\n",
       "      <td>-0.482057</td>\n",
       "      <td>-0.470653</td>\n",
       "      <td>-0.618329</td>\n",
       "      <td>0.014572</td>\n",
       "      <td>-0.004131</td>\n",
       "      <td>0.020316</td>\n",
       "      <td>-0.135725</td>\n",
       "    </tr>\n",
       "    <tr>\n",
       "      <th>incident_severity</th>\n",
       "      <td>-0.059581</td>\n",
       "      <td>-0.058439</td>\n",
       "      <td>-0.026377</td>\n",
       "      <td>-0.015711</td>\n",
       "      <td>-0.011155</td>\n",
       "      <td>0.009466</td>\n",
       "      <td>-0.028168</td>\n",
       "      <td>-0.006420</td>\n",
       "      <td>0.004731</td>\n",
       "      <td>-0.024688</td>\n",
       "      <td>0.015498</td>\n",
       "      <td>-0.013396</td>\n",
       "      <td>-0.018647</td>\n",
       "      <td>0.159915</td>\n",
       "      <td>0.288876</td>\n",
       "      <td>1.000000</td>\n",
       "      <td>0.164966</td>\n",
       "      <td>0.060019</td>\n",
       "      <td>-0.016541</td>\n",
       "      <td>-0.071946</td>\n",
       "      <td>-0.168719</td>\n",
       "      <td>-0.040856</td>\n",
       "      <td>-0.018870</td>\n",
       "      <td>-0.011127</td>\n",
       "      <td>-0.042421</td>\n",
       "      <td>-0.365295</td>\n",
       "      <td>-0.276980</td>\n",
       "      <td>-0.301861</td>\n",
       "      <td>-0.361958</td>\n",
       "      <td>-0.008571</td>\n",
       "      <td>-0.046442</td>\n",
       "      <td>-0.019646</td>\n",
       "      <td>-0.405988</td>\n",
       "    </tr>\n",
       "    <tr>\n",
       "      <th>authorities_contacted</th>\n",
       "      <td>0.010021</td>\n",
       "      <td>0.015417</td>\n",
       "      <td>-0.016777</td>\n",
       "      <td>-0.000760</td>\n",
       "      <td>-0.055191</td>\n",
       "      <td>0.029044</td>\n",
       "      <td>0.017914</td>\n",
       "      <td>-0.010838</td>\n",
       "      <td>-0.007811</td>\n",
       "      <td>-0.028104</td>\n",
       "      <td>-0.004070</td>\n",
       "      <td>-0.044892</td>\n",
       "      <td>0.025192</td>\n",
       "      <td>0.100450</td>\n",
       "      <td>0.222909</td>\n",
       "      <td>0.164966</td>\n",
       "      <td>1.000000</td>\n",
       "      <td>0.026542</td>\n",
       "      <td>-0.003299</td>\n",
       "      <td>-0.060955</td>\n",
       "      <td>-0.081508</td>\n",
       "      <td>0.017456</td>\n",
       "      <td>0.041692</td>\n",
       "      <td>-0.003721</td>\n",
       "      <td>0.016557</td>\n",
       "      <td>-0.169333</td>\n",
       "      <td>-0.141826</td>\n",
       "      <td>-0.118808</td>\n",
       "      <td>-0.169710</td>\n",
       "      <td>-0.030309</td>\n",
       "      <td>0.017536</td>\n",
       "      <td>0.072524</td>\n",
       "      <td>-0.045802</td>\n",
       "    </tr>\n",
       "    <tr>\n",
       "      <th>incident_state</th>\n",
       "      <td>0.005369</td>\n",
       "      <td>0.005770</td>\n",
       "      <td>0.008723</td>\n",
       "      <td>0.006517</td>\n",
       "      <td>0.046434</td>\n",
       "      <td>-0.077492</td>\n",
       "      <td>-0.022379</td>\n",
       "      <td>-0.005903</td>\n",
       "      <td>-0.022761</td>\n",
       "      <td>0.085764</td>\n",
       "      <td>-0.062331</td>\n",
       "      <td>0.013833</td>\n",
       "      <td>-0.048651</td>\n",
       "      <td>0.037083</td>\n",
       "      <td>0.068842</td>\n",
       "      <td>0.060019</td>\n",
       "      <td>0.026542</td>\n",
       "      <td>1.000000</td>\n",
       "      <td>0.014588</td>\n",
       "      <td>-0.036525</td>\n",
       "      <td>-0.037384</td>\n",
       "      <td>-0.024073</td>\n",
       "      <td>-0.000036</td>\n",
       "      <td>0.012177</td>\n",
       "      <td>0.039781</td>\n",
       "      <td>-0.043881</td>\n",
       "      <td>-0.015826</td>\n",
       "      <td>-0.026930</td>\n",
       "      <td>-0.050372</td>\n",
       "      <td>0.070178</td>\n",
       "      <td>-0.039857</td>\n",
       "      <td>-0.014658</td>\n",
       "      <td>-0.051407</td>\n",
       "    </tr>\n",
       "    <tr>\n",
       "      <th>incident_city</th>\n",
       "      <td>-0.000130</td>\n",
       "      <td>-0.002291</td>\n",
       "      <td>-0.002077</td>\n",
       "      <td>-0.045117</td>\n",
       "      <td>0.048724</td>\n",
       "      <td>0.013094</td>\n",
       "      <td>0.014470</td>\n",
       "      <td>-0.018636</td>\n",
       "      <td>0.000390</td>\n",
       "      <td>0.018542</td>\n",
       "      <td>-0.002288</td>\n",
       "      <td>-0.024989</td>\n",
       "      <td>-0.038092</td>\n",
       "      <td>0.022117</td>\n",
       "      <td>0.017670</td>\n",
       "      <td>-0.016541</td>\n",
       "      <td>-0.003299</td>\n",
       "      <td>0.014588</td>\n",
       "      <td>1.000000</td>\n",
       "      <td>0.017039</td>\n",
       "      <td>-0.009840</td>\n",
       "      <td>-0.036480</td>\n",
       "      <td>0.051782</td>\n",
       "      <td>0.009058</td>\n",
       "      <td>-0.007682</td>\n",
       "      <td>0.041231</td>\n",
       "      <td>0.045794</td>\n",
       "      <td>0.041101</td>\n",
       "      <td>0.035303</td>\n",
       "      <td>-0.002237</td>\n",
       "      <td>0.015118</td>\n",
       "      <td>0.058645</td>\n",
       "      <td>-0.040403</td>\n",
       "    </tr>\n",
       "    <tr>\n",
       "      <th>incident_hour_of_the_day</th>\n",
       "      <td>0.070639</td>\n",
       "      <td>0.087161</td>\n",
       "      <td>0.029457</td>\n",
       "      <td>0.060935</td>\n",
       "      <td>-0.001578</td>\n",
       "      <td>-0.023257</td>\n",
       "      <td>0.019290</td>\n",
       "      <td>-0.057061</td>\n",
       "      <td>-0.018435</td>\n",
       "      <td>0.019979</td>\n",
       "      <td>0.004805</td>\n",
       "      <td>-0.016406</td>\n",
       "      <td>-0.025054</td>\n",
       "      <td>-0.133387</td>\n",
       "      <td>-0.156016</td>\n",
       "      <td>-0.071946</td>\n",
       "      <td>-0.060955</td>\n",
       "      <td>-0.036525</td>\n",
       "      <td>0.017039</td>\n",
       "      <td>1.000000</td>\n",
       "      <td>0.120794</td>\n",
       "      <td>-0.030704</td>\n",
       "      <td>-0.034563</td>\n",
       "      <td>0.006527</td>\n",
       "      <td>-0.011643</td>\n",
       "      <td>0.217702</td>\n",
       "      <td>0.165768</td>\n",
       "      <td>0.179536</td>\n",
       "      <td>0.215626</td>\n",
       "      <td>-0.002556</td>\n",
       "      <td>-0.058342</td>\n",
       "      <td>0.021368</td>\n",
       "      <td>0.004316</td>\n",
       "    </tr>\n",
       "    <tr>\n",
       "      <th>number_of_vehicles_involved</th>\n",
       "      <td>0.014736</td>\n",
       "      <td>0.022102</td>\n",
       "      <td>-0.042263</td>\n",
       "      <td>0.051214</td>\n",
       "      <td>-0.045991</td>\n",
       "      <td>-0.021270</td>\n",
       "      <td>0.018793</td>\n",
       "      <td>-0.003768</td>\n",
       "      <td>-0.015368</td>\n",
       "      <td>0.012586</td>\n",
       "      <td>-0.047354</td>\n",
       "      <td>0.061643</td>\n",
       "      <td>-0.014895</td>\n",
       "      <td>-0.893274</td>\n",
       "      <td>-0.224926</td>\n",
       "      <td>-0.168719</td>\n",
       "      <td>-0.081508</td>\n",
       "      <td>-0.037384</td>\n",
       "      <td>-0.009840</td>\n",
       "      <td>0.120794</td>\n",
       "      <td>1.000000</td>\n",
       "      <td>-0.007593</td>\n",
       "      <td>0.014030</td>\n",
       "      <td>-0.014669</td>\n",
       "      <td>0.015413</td>\n",
       "      <td>0.274278</td>\n",
       "      <td>0.224650</td>\n",
       "      <td>0.219084</td>\n",
       "      <td>0.269393</td>\n",
       "      <td>0.014343</td>\n",
       "      <td>0.032219</td>\n",
       "      <td>0.034554</td>\n",
       "      <td>0.051839</td>\n",
       "    </tr>\n",
       "    <tr>\n",
       "      <th>property_damage</th>\n",
       "      <td>-0.004631</td>\n",
       "      <td>-0.002733</td>\n",
       "      <td>-0.030719</td>\n",
       "      <td>-0.006837</td>\n",
       "      <td>-0.052172</td>\n",
       "      <td>-0.015237</td>\n",
       "      <td>-0.012453</td>\n",
       "      <td>-0.031510</td>\n",
       "      <td>-0.047800</td>\n",
       "      <td>-0.005929</td>\n",
       "      <td>0.018420</td>\n",
       "      <td>-0.047505</td>\n",
       "      <td>0.017803</td>\n",
       "      <td>0.000239</td>\n",
       "      <td>-0.016350</td>\n",
       "      <td>-0.040856</td>\n",
       "      <td>0.017456</td>\n",
       "      <td>-0.024073</td>\n",
       "      <td>-0.036480</td>\n",
       "      <td>-0.030704</td>\n",
       "      <td>-0.007593</td>\n",
       "      <td>1.000000</td>\n",
       "      <td>0.010482</td>\n",
       "      <td>0.025101</td>\n",
       "      <td>0.046261</td>\n",
       "      <td>0.011512</td>\n",
       "      <td>-0.005347</td>\n",
       "      <td>0.007173</td>\n",
       "      <td>0.015642</td>\n",
       "      <td>0.018998</td>\n",
       "      <td>-0.004948</td>\n",
       "      <td>0.023445</td>\n",
       "      <td>0.087639</td>\n",
       "    </tr>\n",
       "    <tr>\n",
       "      <th>bodily_injuries</th>\n",
       "      <td>-0.010162</td>\n",
       "      <td>-0.015679</td>\n",
       "      <td>0.013384</td>\n",
       "      <td>-0.022765</td>\n",
       "      <td>0.026780</td>\n",
       "      <td>0.022743</td>\n",
       "      <td>-0.020297</td>\n",
       "      <td>-0.012072</td>\n",
       "      <td>-0.000236</td>\n",
       "      <td>0.031373</td>\n",
       "      <td>-0.001214</td>\n",
       "      <td>0.055829</td>\n",
       "      <td>-0.024418</td>\n",
       "      <td>-0.009733</td>\n",
       "      <td>-0.018590</td>\n",
       "      <td>-0.018870</td>\n",
       "      <td>0.041692</td>\n",
       "      <td>-0.000036</td>\n",
       "      <td>0.051782</td>\n",
       "      <td>-0.034563</td>\n",
       "      <td>0.014030</td>\n",
       "      <td>0.010482</td>\n",
       "      <td>1.000000</td>\n",
       "      <td>-0.005606</td>\n",
       "      <td>-0.005892</td>\n",
       "      <td>0.047093</td>\n",
       "      <td>0.047319</td>\n",
       "      <td>0.039749</td>\n",
       "      <td>0.043449</td>\n",
       "      <td>0.026731</td>\n",
       "      <td>0.020007</td>\n",
       "      <td>-0.020527</td>\n",
       "      <td>0.033877</td>\n",
       "    </tr>\n",
       "    <tr>\n",
       "      <th>witnesses</th>\n",
       "      <td>0.058383</td>\n",
       "      <td>0.052359</td>\n",
       "      <td>0.022960</td>\n",
       "      <td>0.066639</td>\n",
       "      <td>0.002332</td>\n",
       "      <td>-0.006738</td>\n",
       "      <td>0.042463</td>\n",
       "      <td>0.019211</td>\n",
       "      <td>-0.014794</td>\n",
       "      <td>-0.033971</td>\n",
       "      <td>0.002362</td>\n",
       "      <td>-0.017651</td>\n",
       "      <td>-0.041330</td>\n",
       "      <td>-0.007299</td>\n",
       "      <td>-0.026694</td>\n",
       "      <td>-0.011127</td>\n",
       "      <td>-0.003721</td>\n",
       "      <td>0.012177</td>\n",
       "      <td>0.009058</td>\n",
       "      <td>0.006527</td>\n",
       "      <td>-0.014669</td>\n",
       "      <td>0.025101</td>\n",
       "      <td>-0.005606</td>\n",
       "      <td>1.000000</td>\n",
       "      <td>-0.009783</td>\n",
       "      <td>-0.011114</td>\n",
       "      <td>-0.024843</td>\n",
       "      <td>0.052640</td>\n",
       "      <td>-0.022564</td>\n",
       "      <td>0.005603</td>\n",
       "      <td>-0.011232</td>\n",
       "      <td>0.045791</td>\n",
       "      <td>0.049497</td>\n",
       "    </tr>\n",
       "    <tr>\n",
       "      <th>police_report_available</th>\n",
       "      <td>-0.071746</td>\n",
       "      <td>-0.063040</td>\n",
       "      <td>-0.024713</td>\n",
       "      <td>0.004936</td>\n",
       "      <td>0.010332</td>\n",
       "      <td>0.034177</td>\n",
       "      <td>-0.029056</td>\n",
       "      <td>0.016119</td>\n",
       "      <td>-0.020739</td>\n",
       "      <td>0.041940</td>\n",
       "      <td>0.017965</td>\n",
       "      <td>0.002184</td>\n",
       "      <td>-0.012753</td>\n",
       "      <td>-0.020105</td>\n",
       "      <td>-0.021881</td>\n",
       "      <td>-0.042421</td>\n",
       "      <td>0.016557</td>\n",
       "      <td>0.039781</td>\n",
       "      <td>-0.007682</td>\n",
       "      <td>-0.011643</td>\n",
       "      <td>0.015413</td>\n",
       "      <td>0.046261</td>\n",
       "      <td>-0.005892</td>\n",
       "      <td>-0.009783</td>\n",
       "      <td>1.000000</td>\n",
       "      <td>0.072516</td>\n",
       "      <td>0.075362</td>\n",
       "      <td>0.039839</td>\n",
       "      <td>0.071719</td>\n",
       "      <td>0.039219</td>\n",
       "      <td>0.021803</td>\n",
       "      <td>-0.010241</td>\n",
       "      <td>0.008399</td>\n",
       "    </tr>\n",
       "    <tr>\n",
       "      <th>total_claim_amount</th>\n",
       "      <td>0.062108</td>\n",
       "      <td>0.069863</td>\n",
       "      <td>-0.006002</td>\n",
       "      <td>0.022839</td>\n",
       "      <td>0.009094</td>\n",
       "      <td>-0.040344</td>\n",
       "      <td>-0.023727</td>\n",
       "      <td>0.074226</td>\n",
       "      <td>0.003692</td>\n",
       "      <td>-0.004488</td>\n",
       "      <td>0.002229</td>\n",
       "      <td>0.015980</td>\n",
       "      <td>-0.036060</td>\n",
       "      <td>-0.276686</td>\n",
       "      <td>-0.617448</td>\n",
       "      <td>-0.365295</td>\n",
       "      <td>-0.169333</td>\n",
       "      <td>-0.043881</td>\n",
       "      <td>0.041231</td>\n",
       "      <td>0.217702</td>\n",
       "      <td>0.274278</td>\n",
       "      <td>0.011512</td>\n",
       "      <td>0.047093</td>\n",
       "      <td>-0.011114</td>\n",
       "      <td>0.072516</td>\n",
       "      <td>1.000000</td>\n",
       "      <td>0.805025</td>\n",
       "      <td>0.810686</td>\n",
       "      <td>0.982773</td>\n",
       "      <td>-0.057508</td>\n",
       "      <td>0.040762</td>\n",
       "      <td>-0.035781</td>\n",
       "      <td>0.163651</td>\n",
       "    </tr>\n",
       "    <tr>\n",
       "      <th>injury_claim</th>\n",
       "      <td>0.065329</td>\n",
       "      <td>0.075522</td>\n",
       "      <td>-0.046290</td>\n",
       "      <td>0.039107</td>\n",
       "      <td>-0.017633</td>\n",
       "      <td>-0.045412</td>\n",
       "      <td>0.000924</td>\n",
       "      <td>0.081880</td>\n",
       "      <td>0.020211</td>\n",
       "      <td>0.028393</td>\n",
       "      <td>0.029014</td>\n",
       "      <td>0.025934</td>\n",
       "      <td>-0.046060</td>\n",
       "      <td>-0.226704</td>\n",
       "      <td>-0.482057</td>\n",
       "      <td>-0.276980</td>\n",
       "      <td>-0.141826</td>\n",
       "      <td>-0.015826</td>\n",
       "      <td>0.045794</td>\n",
       "      <td>0.165768</td>\n",
       "      <td>0.224650</td>\n",
       "      <td>-0.005347</td>\n",
       "      <td>0.047319</td>\n",
       "      <td>-0.024843</td>\n",
       "      <td>0.075362</td>\n",
       "      <td>0.805025</td>\n",
       "      <td>1.000000</td>\n",
       "      <td>0.563866</td>\n",
       "      <td>0.722878</td>\n",
       "      <td>-0.039575</td>\n",
       "      <td>0.038136</td>\n",
       "      <td>-0.013718</td>\n",
       "      <td>0.090975</td>\n",
       "    </tr>\n",
       "    <tr>\n",
       "      <th>property_claim</th>\n",
       "      <td>0.034940</td>\n",
       "      <td>0.060898</td>\n",
       "      <td>0.008406</td>\n",
       "      <td>0.064792</td>\n",
       "      <td>-0.011654</td>\n",
       "      <td>-0.023790</td>\n",
       "      <td>-0.014868</td>\n",
       "      <td>0.055794</td>\n",
       "      <td>0.003004</td>\n",
       "      <td>0.012535</td>\n",
       "      <td>0.007332</td>\n",
       "      <td>-0.000779</td>\n",
       "      <td>-0.022863</td>\n",
       "      <td>-0.221409</td>\n",
       "      <td>-0.470653</td>\n",
       "      <td>-0.301861</td>\n",
       "      <td>-0.118808</td>\n",
       "      <td>-0.026930</td>\n",
       "      <td>0.041101</td>\n",
       "      <td>0.179536</td>\n",
       "      <td>0.219084</td>\n",
       "      <td>0.007173</td>\n",
       "      <td>0.039749</td>\n",
       "      <td>0.052640</td>\n",
       "      <td>0.039839</td>\n",
       "      <td>0.810686</td>\n",
       "      <td>0.563866</td>\n",
       "      <td>1.000000</td>\n",
       "      <td>0.732090</td>\n",
       "      <td>-0.042030</td>\n",
       "      <td>0.048857</td>\n",
       "      <td>-0.014508</td>\n",
       "      <td>0.137835</td>\n",
       "    </tr>\n",
       "    <tr>\n",
       "      <th>vehicle_claim</th>\n",
       "      <td>0.061013</td>\n",
       "      <td>0.062588</td>\n",
       "      <td>0.001425</td>\n",
       "      <td>0.005269</td>\n",
       "      <td>0.020246</td>\n",
       "      <td>-0.038584</td>\n",
       "      <td>-0.029609</td>\n",
       "      <td>0.068348</td>\n",
       "      <td>-0.000829</td>\n",
       "      <td>-0.016814</td>\n",
       "      <td>-0.006256</td>\n",
       "      <td>0.015836</td>\n",
       "      <td>-0.032665</td>\n",
       "      <td>-0.271635</td>\n",
       "      <td>-0.618329</td>\n",
       "      <td>-0.361958</td>\n",
       "      <td>-0.169710</td>\n",
       "      <td>-0.050372</td>\n",
       "      <td>0.035303</td>\n",
       "      <td>0.215626</td>\n",
       "      <td>0.269393</td>\n",
       "      <td>0.015642</td>\n",
       "      <td>0.043449</td>\n",
       "      <td>-0.022564</td>\n",
       "      <td>0.071719</td>\n",
       "      <td>0.982773</td>\n",
       "      <td>0.722878</td>\n",
       "      <td>0.732090</td>\n",
       "      <td>1.000000</td>\n",
       "      <td>-0.059427</td>\n",
       "      <td>0.034645</td>\n",
       "      <td>-0.042768</td>\n",
       "      <td>0.170049</td>\n",
       "    </tr>\n",
       "    <tr>\n",
       "      <th>auto_make</th>\n",
       "      <td>0.047655</td>\n",
       "      <td>0.030410</td>\n",
       "      <td>0.017124</td>\n",
       "      <td>-0.035379</td>\n",
       "      <td>0.000045</td>\n",
       "      <td>-0.004443</td>\n",
       "      <td>0.026457</td>\n",
       "      <td>0.055202</td>\n",
       "      <td>0.042621</td>\n",
       "      <td>0.001525</td>\n",
       "      <td>-0.027028</td>\n",
       "      <td>0.052014</td>\n",
       "      <td>-0.041658</td>\n",
       "      <td>-0.032784</td>\n",
       "      <td>0.014572</td>\n",
       "      <td>-0.008571</td>\n",
       "      <td>-0.030309</td>\n",
       "      <td>0.070178</td>\n",
       "      <td>-0.002237</td>\n",
       "      <td>-0.002556</td>\n",
       "      <td>0.014343</td>\n",
       "      <td>0.018998</td>\n",
       "      <td>0.026731</td>\n",
       "      <td>0.005603</td>\n",
       "      <td>0.039219</td>\n",
       "      <td>-0.057508</td>\n",
       "      <td>-0.039575</td>\n",
       "      <td>-0.042030</td>\n",
       "      <td>-0.059427</td>\n",
       "      <td>1.000000</td>\n",
       "      <td>-0.166295</td>\n",
       "      <td>0.004939</td>\n",
       "      <td>-0.027519</td>\n",
       "    </tr>\n",
       "    <tr>\n",
       "      <th>auto_model</th>\n",
       "      <td>0.004202</td>\n",
       "      <td>0.017343</td>\n",
       "      <td>-0.025253</td>\n",
       "      <td>-0.003268</td>\n",
       "      <td>-0.031849</td>\n",
       "      <td>0.040256</td>\n",
       "      <td>-0.018421</td>\n",
       "      <td>0.049445</td>\n",
       "      <td>0.020584</td>\n",
       "      <td>0.030948</td>\n",
       "      <td>0.063671</td>\n",
       "      <td>0.036569</td>\n",
       "      <td>-0.037288</td>\n",
       "      <td>-0.034302</td>\n",
       "      <td>-0.004131</td>\n",
       "      <td>-0.046442</td>\n",
       "      <td>0.017536</td>\n",
       "      <td>-0.039857</td>\n",
       "      <td>0.015118</td>\n",
       "      <td>-0.058342</td>\n",
       "      <td>0.032219</td>\n",
       "      <td>-0.004948</td>\n",
       "      <td>0.020007</td>\n",
       "      <td>-0.011232</td>\n",
       "      <td>0.021803</td>\n",
       "      <td>0.040762</td>\n",
       "      <td>0.038136</td>\n",
       "      <td>0.048857</td>\n",
       "      <td>0.034645</td>\n",
       "      <td>-0.166295</td>\n",
       "      <td>1.000000</td>\n",
       "      <td>0.032831</td>\n",
       "      <td>0.000720</td>\n",
       "    </tr>\n",
       "    <tr>\n",
       "      <th>auto_year</th>\n",
       "      <td>-0.000292</td>\n",
       "      <td>0.001354</td>\n",
       "      <td>0.002114</td>\n",
       "      <td>0.026105</td>\n",
       "      <td>-0.049226</td>\n",
       "      <td>0.009893</td>\n",
       "      <td>-0.028247</td>\n",
       "      <td>0.043509</td>\n",
       "      <td>-0.006676</td>\n",
       "      <td>-0.014495</td>\n",
       "      <td>-0.023345</td>\n",
       "      <td>0.031398</td>\n",
       "      <td>-0.056615</td>\n",
       "      <td>-0.053191</td>\n",
       "      <td>0.020316</td>\n",
       "      <td>-0.019646</td>\n",
       "      <td>0.072524</td>\n",
       "      <td>-0.014658</td>\n",
       "      <td>0.058645</td>\n",
       "      <td>0.021368</td>\n",
       "      <td>0.034554</td>\n",
       "      <td>0.023445</td>\n",
       "      <td>-0.020527</td>\n",
       "      <td>0.045791</td>\n",
       "      <td>-0.010241</td>\n",
       "      <td>-0.035781</td>\n",
       "      <td>-0.013718</td>\n",
       "      <td>-0.014508</td>\n",
       "      <td>-0.042768</td>\n",
       "      <td>0.004939</td>\n",
       "      <td>0.032831</td>\n",
       "      <td>1.000000</td>\n",
       "      <td>0.007928</td>\n",
       "    </tr>\n",
       "    <tr>\n",
       "      <th>fraud_reported</th>\n",
       "      <td>0.020544</td>\n",
       "      <td>0.012143</td>\n",
       "      <td>0.029432</td>\n",
       "      <td>0.014817</td>\n",
       "      <td>-0.014480</td>\n",
       "      <td>0.058622</td>\n",
       "      <td>0.030873</td>\n",
       "      <td>0.008808</td>\n",
       "      <td>0.001564</td>\n",
       "      <td>-0.046838</td>\n",
       "      <td>0.021043</td>\n",
       "      <td>-0.019173</td>\n",
       "      <td>-0.014863</td>\n",
       "      <td>-0.050376</td>\n",
       "      <td>-0.135725</td>\n",
       "      <td>-0.405988</td>\n",
       "      <td>-0.045802</td>\n",
       "      <td>-0.051407</td>\n",
       "      <td>-0.040403</td>\n",
       "      <td>0.004316</td>\n",
       "      <td>0.051839</td>\n",
       "      <td>0.087639</td>\n",
       "      <td>0.033877</td>\n",
       "      <td>0.049497</td>\n",
       "      <td>0.008399</td>\n",
       "      <td>0.163651</td>\n",
       "      <td>0.090975</td>\n",
       "      <td>0.137835</td>\n",
       "      <td>0.170049</td>\n",
       "      <td>-0.027519</td>\n",
       "      <td>0.000720</td>\n",
       "      <td>0.007928</td>\n",
       "      <td>1.000000</td>\n",
       "    </tr>\n",
       "  </tbody>\n",
       "</table>\n",
       "</div>"
      ],
      "text/plain": [
       "                             months_as_customer       age  policy_state  \\\n",
       "months_as_customer                     1.000000  0.922098     -0.000328   \n",
       "age                                    0.922098  1.000000     -0.014533   \n",
       "policy_state                          -0.000328 -0.014533      1.000000   \n",
       "policy_deductable                      0.026807  0.029188      0.010033   \n",
       "policy_annual_premium                  0.005018  0.014404      0.012455   \n",
       "umbrella_limit                         0.015498  0.018126     -0.029580   \n",
       "insured_sex                            0.060925  0.073337     -0.020481   \n",
       "insured_education_level               -0.000833  0.000969     -0.034327   \n",
       "insured_occupation                     0.009814  0.017220     -0.031215   \n",
       "insured_hobbies                       -0.093661 -0.081315     -0.038689   \n",
       "insured_relationship                   0.069727  0.074832     -0.018506   \n",
       "capital-gains                          0.006399 -0.007075      0.074551   \n",
       "capital-loss                           0.020209  0.007368     -0.030338   \n",
       "incident_type                         -0.017377 -0.025626      0.031848   \n",
       "collision_type                        -0.082966 -0.086068      0.037564   \n",
       "incident_severity                     -0.059581 -0.058439     -0.026377   \n",
       "authorities_contacted                  0.010021  0.015417     -0.016777   \n",
       "incident_state                         0.005369  0.005770      0.008723   \n",
       "incident_city                         -0.000130 -0.002291     -0.002077   \n",
       "incident_hour_of_the_day               0.070639  0.087161      0.029457   \n",
       "number_of_vehicles_involved            0.014736  0.022102     -0.042263   \n",
       "property_damage                       -0.004631 -0.002733     -0.030719   \n",
       "bodily_injuries                       -0.010162 -0.015679      0.013384   \n",
       "witnesses                              0.058383  0.052359      0.022960   \n",
       "police_report_available               -0.071746 -0.063040     -0.024713   \n",
       "total_claim_amount                     0.062108  0.069863     -0.006002   \n",
       "injury_claim                           0.065329  0.075522     -0.046290   \n",
       "property_claim                         0.034940  0.060898      0.008406   \n",
       "vehicle_claim                          0.061013  0.062588      0.001425   \n",
       "auto_make                              0.047655  0.030410      0.017124   \n",
       "auto_model                             0.004202  0.017343     -0.025253   \n",
       "auto_year                             -0.000292  0.001354      0.002114   \n",
       "fraud_reported                         0.020544  0.012143      0.029432   \n",
       "\n",
       "                             policy_deductable  policy_annual_premium  \\\n",
       "months_as_customer                    0.026807               0.005018   \n",
       "age                                   0.029188               0.014404   \n",
       "policy_state                          0.010033               0.012455   \n",
       "policy_deductable                     1.000000              -0.003245   \n",
       "policy_annual_premium                -0.003245               1.000000   \n",
       "umbrella_limit                        0.010870              -0.006247   \n",
       "insured_sex                          -0.009733               0.038853   \n",
       "insured_education_level               0.015217              -0.019715   \n",
       "insured_occupation                   -0.046733               0.035922   \n",
       "insured_hobbies                       0.004061              -0.018019   \n",
       "insured_relationship                 -0.022945               0.001925   \n",
       "capital-gains                         0.035212              -0.013738   \n",
       "capital-loss                         -0.023544               0.023547   \n",
       "incident_type                        -0.038411               0.053603   \n",
       "collision_type                       -0.041188               0.013508   \n",
       "incident_severity                    -0.015711              -0.011155   \n",
       "authorities_contacted                -0.000760              -0.055191   \n",
       "incident_state                        0.006517               0.046434   \n",
       "incident_city                        -0.045117               0.048724   \n",
       "incident_hour_of_the_day              0.060935              -0.001578   \n",
       "number_of_vehicles_involved           0.051214              -0.045991   \n",
       "property_damage                      -0.006837              -0.052172   \n",
       "bodily_injuries                      -0.022765               0.026780   \n",
       "witnesses                             0.066639               0.002332   \n",
       "police_report_available               0.004936               0.010332   \n",
       "total_claim_amount                    0.022839               0.009094   \n",
       "injury_claim                          0.039107              -0.017633   \n",
       "property_claim                        0.064792              -0.011654   \n",
       "vehicle_claim                         0.005269               0.020246   \n",
       "auto_make                            -0.035379               0.000045   \n",
       "auto_model                           -0.003268              -0.031849   \n",
       "auto_year                             0.026105              -0.049226   \n",
       "fraud_reported                        0.014817              -0.014480   \n",
       "\n",
       "                             umbrella_limit  insured_sex  \\\n",
       "months_as_customer                 0.015498     0.060925   \n",
       "age                                0.018126     0.073337   \n",
       "policy_state                      -0.029580    -0.020481   \n",
       "policy_deductable                  0.010870    -0.009733   \n",
       "policy_annual_premium             -0.006247     0.038853   \n",
       "umbrella_limit                     1.000000     0.010688   \n",
       "insured_sex                        0.010688     1.000000   \n",
       "insured_education_level           -0.019357     0.009002   \n",
       "insured_occupation                 0.023422    -0.006160   \n",
       "insured_hobbies                   -0.037000    -0.020317   \n",
       "insured_relationship               0.077495     0.002855   \n",
       "capital-gains                     -0.047268    -0.020494   \n",
       "capital-loss                      -0.024056    -0.021705   \n",
       "incident_type                      0.015966     0.009952   \n",
       "collision_type                     0.040219     0.003799   \n",
       "incident_severity                  0.009466    -0.028168   \n",
       "authorities_contacted              0.029044     0.017914   \n",
       "incident_state                    -0.077492    -0.022379   \n",
       "incident_city                      0.013094     0.014470   \n",
       "incident_hour_of_the_day          -0.023257     0.019290   \n",
       "number_of_vehicles_involved       -0.021270     0.018793   \n",
       "property_damage                   -0.015237    -0.012453   \n",
       "bodily_injuries                    0.022743    -0.020297   \n",
       "witnesses                         -0.006738     0.042463   \n",
       "police_report_available            0.034177    -0.029056   \n",
       "total_claim_amount                -0.040344    -0.023727   \n",
       "injury_claim                      -0.045412     0.000924   \n",
       "property_claim                    -0.023790    -0.014868   \n",
       "vehicle_claim                     -0.038584    -0.029609   \n",
       "auto_make                         -0.004443     0.026457   \n",
       "auto_model                         0.040256    -0.018421   \n",
       "auto_year                          0.009893    -0.028247   \n",
       "fraud_reported                     0.058622     0.030873   \n",
       "\n",
       "                             insured_education_level  insured_occupation  \\\n",
       "months_as_customer                         -0.000833            0.009814   \n",
       "age                                         0.000969            0.017220   \n",
       "policy_state                               -0.034327           -0.031215   \n",
       "policy_deductable                           0.015217           -0.046733   \n",
       "policy_annual_premium                      -0.019715            0.035922   \n",
       "umbrella_limit                             -0.019357            0.023422   \n",
       "insured_sex                                 0.009002           -0.006160   \n",
       "insured_education_level                     1.000000           -0.020298   \n",
       "insured_occupation                         -0.020298            1.000000   \n",
       "insured_hobbies                             0.021807           -0.011077   \n",
       "insured_relationship                       -0.023488           -0.010171   \n",
       "capital-gains                               0.039912           -0.007824   \n",
       "capital-loss                                0.041193           -0.020171   \n",
       "incident_type                               0.013704            0.003842   \n",
       "collision_type                             -0.053458            0.004076   \n",
       "incident_severity                          -0.006420            0.004731   \n",
       "authorities_contacted                      -0.010838           -0.007811   \n",
       "incident_state                             -0.005903           -0.022761   \n",
       "incident_city                              -0.018636            0.000390   \n",
       "incident_hour_of_the_day                   -0.057061           -0.018435   \n",
       "number_of_vehicles_involved                -0.003768           -0.015368   \n",
       "property_damage                            -0.031510           -0.047800   \n",
       "bodily_injuries                            -0.012072           -0.000236   \n",
       "witnesses                                   0.019211           -0.014794   \n",
       "police_report_available                     0.016119           -0.020739   \n",
       "total_claim_amount                          0.074226            0.003692   \n",
       "injury_claim                                0.081880            0.020211   \n",
       "property_claim                              0.055794            0.003004   \n",
       "vehicle_claim                               0.068348           -0.000829   \n",
       "auto_make                                   0.055202            0.042621   \n",
       "auto_model                                  0.049445            0.020584   \n",
       "auto_year                                   0.043509           -0.006676   \n",
       "fraud_reported                              0.008808            0.001564   \n",
       "\n",
       "                             insured_hobbies  insured_relationship  \\\n",
       "months_as_customer                 -0.093661              0.069727   \n",
       "age                                -0.081315              0.074832   \n",
       "policy_state                       -0.038689             -0.018506   \n",
       "policy_deductable                   0.004061             -0.022945   \n",
       "policy_annual_premium              -0.018019              0.001925   \n",
       "umbrella_limit                     -0.037000              0.077495   \n",
       "insured_sex                        -0.020317              0.002855   \n",
       "insured_education_level             0.021807             -0.023488   \n",
       "insured_occupation                 -0.011077             -0.010171   \n",
       "insured_hobbies                     1.000000             -0.096772   \n",
       "insured_relationship               -0.096772              1.000000   \n",
       "capital-gains                       0.054338             -0.019439   \n",
       "capital-loss                       -0.031811             -0.064453   \n",
       "incident_type                       0.007711              0.033834   \n",
       "collision_type                      0.030389              0.003833   \n",
       "incident_severity                  -0.024688              0.015498   \n",
       "authorities_contacted              -0.028104             -0.004070   \n",
       "incident_state                      0.085764             -0.062331   \n",
       "incident_city                       0.018542             -0.002288   \n",
       "incident_hour_of_the_day            0.019979              0.004805   \n",
       "number_of_vehicles_involved         0.012586             -0.047354   \n",
       "property_damage                    -0.005929              0.018420   \n",
       "bodily_injuries                     0.031373             -0.001214   \n",
       "witnesses                          -0.033971              0.002362   \n",
       "police_report_available             0.041940              0.017965   \n",
       "total_claim_amount                 -0.004488              0.002229   \n",
       "injury_claim                        0.028393              0.029014   \n",
       "property_claim                      0.012535              0.007332   \n",
       "vehicle_claim                      -0.016814             -0.006256   \n",
       "auto_make                           0.001525             -0.027028   \n",
       "auto_model                          0.030948              0.063671   \n",
       "auto_year                          -0.014495             -0.023345   \n",
       "fraud_reported                     -0.046838              0.021043   \n",
       "\n",
       "                             capital-gains  capital-loss  incident_type  \\\n",
       "months_as_customer                0.006399      0.020209      -0.017377   \n",
       "age                              -0.007075      0.007368      -0.025626   \n",
       "policy_state                      0.074551     -0.030338       0.031848   \n",
       "policy_deductable                 0.035212     -0.023544      -0.038411   \n",
       "policy_annual_premium            -0.013738      0.023547       0.053603   \n",
       "umbrella_limit                   -0.047268     -0.024056       0.015966   \n",
       "insured_sex                      -0.020494     -0.021705       0.009952   \n",
       "insured_education_level           0.039912      0.041193       0.013704   \n",
       "insured_occupation               -0.007824     -0.020171       0.003842   \n",
       "insured_hobbies                   0.054338     -0.031811       0.007711   \n",
       "insured_relationship             -0.019439     -0.064453       0.033834   \n",
       "capital-gains                     1.000000     -0.046904      -0.045857   \n",
       "capital-loss                     -0.046904      1.000000       0.026101   \n",
       "incident_type                    -0.045857      0.026101       1.000000   \n",
       "collision_type                   -0.028630      0.042681       0.228535   \n",
       "incident_severity                -0.013396     -0.018647       0.159915   \n",
       "authorities_contacted            -0.044892      0.025192       0.100450   \n",
       "incident_state                    0.013833     -0.048651       0.037083   \n",
       "incident_city                    -0.024989     -0.038092       0.022117   \n",
       "incident_hour_of_the_day         -0.016406     -0.025054      -0.133387   \n",
       "number_of_vehicles_involved       0.061643     -0.014895      -0.893274   \n",
       "property_damage                  -0.047505      0.017803       0.000239   \n",
       "bodily_injuries                   0.055829     -0.024418      -0.009733   \n",
       "witnesses                        -0.017651     -0.041330      -0.007299   \n",
       "police_report_available           0.002184     -0.012753      -0.020105   \n",
       "total_claim_amount                0.015980     -0.036060      -0.276686   \n",
       "injury_claim                      0.025934     -0.046060      -0.226704   \n",
       "property_claim                   -0.000779     -0.022863      -0.221409   \n",
       "vehicle_claim                     0.015836     -0.032665      -0.271635   \n",
       "auto_make                         0.052014     -0.041658      -0.032784   \n",
       "auto_model                        0.036569     -0.037288      -0.034302   \n",
       "auto_year                         0.031398     -0.056615      -0.053191   \n",
       "fraud_reported                   -0.019173     -0.014863      -0.050376   \n",
       "\n",
       "                             collision_type  incident_severity  \\\n",
       "months_as_customer                -0.082966          -0.059581   \n",
       "age                               -0.086068          -0.058439   \n",
       "policy_state                       0.037564          -0.026377   \n",
       "policy_deductable                 -0.041188          -0.015711   \n",
       "policy_annual_premium              0.013508          -0.011155   \n",
       "umbrella_limit                     0.040219           0.009466   \n",
       "insured_sex                        0.003799          -0.028168   \n",
       "insured_education_level           -0.053458          -0.006420   \n",
       "insured_occupation                 0.004076           0.004731   \n",
       "insured_hobbies                    0.030389          -0.024688   \n",
       "insured_relationship               0.003833           0.015498   \n",
       "capital-gains                     -0.028630          -0.013396   \n",
       "capital-loss                       0.042681          -0.018647   \n",
       "incident_type                      0.228535           0.159915   \n",
       "collision_type                     1.000000           0.288876   \n",
       "incident_severity                  0.288876           1.000000   \n",
       "authorities_contacted              0.222909           0.164966   \n",
       "incident_state                     0.068842           0.060019   \n",
       "incident_city                      0.017670          -0.016541   \n",
       "incident_hour_of_the_day          -0.156016          -0.071946   \n",
       "number_of_vehicles_involved       -0.224926          -0.168719   \n",
       "property_damage                   -0.016350          -0.040856   \n",
       "bodily_injuries                   -0.018590          -0.018870   \n",
       "witnesses                         -0.026694          -0.011127   \n",
       "police_report_available           -0.021881          -0.042421   \n",
       "total_claim_amount                -0.617448          -0.365295   \n",
       "injury_claim                      -0.482057          -0.276980   \n",
       "property_claim                    -0.470653          -0.301861   \n",
       "vehicle_claim                     -0.618329          -0.361958   \n",
       "auto_make                          0.014572          -0.008571   \n",
       "auto_model                        -0.004131          -0.046442   \n",
       "auto_year                          0.020316          -0.019646   \n",
       "fraud_reported                    -0.135725          -0.405988   \n",
       "\n",
       "                             authorities_contacted  incident_state  \\\n",
       "months_as_customer                        0.010021        0.005369   \n",
       "age                                       0.015417        0.005770   \n",
       "policy_state                             -0.016777        0.008723   \n",
       "policy_deductable                        -0.000760        0.006517   \n",
       "policy_annual_premium                    -0.055191        0.046434   \n",
       "umbrella_limit                            0.029044       -0.077492   \n",
       "insured_sex                               0.017914       -0.022379   \n",
       "insured_education_level                  -0.010838       -0.005903   \n",
       "insured_occupation                       -0.007811       -0.022761   \n",
       "insured_hobbies                          -0.028104        0.085764   \n",
       "insured_relationship                     -0.004070       -0.062331   \n",
       "capital-gains                            -0.044892        0.013833   \n",
       "capital-loss                              0.025192       -0.048651   \n",
       "incident_type                             0.100450        0.037083   \n",
       "collision_type                            0.222909        0.068842   \n",
       "incident_severity                         0.164966        0.060019   \n",
       "authorities_contacted                     1.000000        0.026542   \n",
       "incident_state                            0.026542        1.000000   \n",
       "incident_city                            -0.003299        0.014588   \n",
       "incident_hour_of_the_day                 -0.060955       -0.036525   \n",
       "number_of_vehicles_involved              -0.081508       -0.037384   \n",
       "property_damage                           0.017456       -0.024073   \n",
       "bodily_injuries                           0.041692       -0.000036   \n",
       "witnesses                                -0.003721        0.012177   \n",
       "police_report_available                   0.016557        0.039781   \n",
       "total_claim_amount                       -0.169333       -0.043881   \n",
       "injury_claim                             -0.141826       -0.015826   \n",
       "property_claim                           -0.118808       -0.026930   \n",
       "vehicle_claim                            -0.169710       -0.050372   \n",
       "auto_make                                -0.030309        0.070178   \n",
       "auto_model                                0.017536       -0.039857   \n",
       "auto_year                                 0.072524       -0.014658   \n",
       "fraud_reported                           -0.045802       -0.051407   \n",
       "\n",
       "                             incident_city  incident_hour_of_the_day  \\\n",
       "months_as_customer               -0.000130                  0.070639   \n",
       "age                              -0.002291                  0.087161   \n",
       "policy_state                     -0.002077                  0.029457   \n",
       "policy_deductable                -0.045117                  0.060935   \n",
       "policy_annual_premium             0.048724                 -0.001578   \n",
       "umbrella_limit                    0.013094                 -0.023257   \n",
       "insured_sex                       0.014470                  0.019290   \n",
       "insured_education_level          -0.018636                 -0.057061   \n",
       "insured_occupation                0.000390                 -0.018435   \n",
       "insured_hobbies                   0.018542                  0.019979   \n",
       "insured_relationship             -0.002288                  0.004805   \n",
       "capital-gains                    -0.024989                 -0.016406   \n",
       "capital-loss                     -0.038092                 -0.025054   \n",
       "incident_type                     0.022117                 -0.133387   \n",
       "collision_type                    0.017670                 -0.156016   \n",
       "incident_severity                -0.016541                 -0.071946   \n",
       "authorities_contacted            -0.003299                 -0.060955   \n",
       "incident_state                    0.014588                 -0.036525   \n",
       "incident_city                     1.000000                  0.017039   \n",
       "incident_hour_of_the_day          0.017039                  1.000000   \n",
       "number_of_vehicles_involved      -0.009840                  0.120794   \n",
       "property_damage                  -0.036480                 -0.030704   \n",
       "bodily_injuries                   0.051782                 -0.034563   \n",
       "witnesses                         0.009058                  0.006527   \n",
       "police_report_available          -0.007682                 -0.011643   \n",
       "total_claim_amount                0.041231                  0.217702   \n",
       "injury_claim                      0.045794                  0.165768   \n",
       "property_claim                    0.041101                  0.179536   \n",
       "vehicle_claim                     0.035303                  0.215626   \n",
       "auto_make                        -0.002237                 -0.002556   \n",
       "auto_model                        0.015118                 -0.058342   \n",
       "auto_year                         0.058645                  0.021368   \n",
       "fraud_reported                   -0.040403                  0.004316   \n",
       "\n",
       "                             number_of_vehicles_involved  property_damage  \\\n",
       "months_as_customer                              0.014736        -0.004631   \n",
       "age                                             0.022102        -0.002733   \n",
       "policy_state                                   -0.042263        -0.030719   \n",
       "policy_deductable                               0.051214        -0.006837   \n",
       "policy_annual_premium                          -0.045991        -0.052172   \n",
       "umbrella_limit                                 -0.021270        -0.015237   \n",
       "insured_sex                                     0.018793        -0.012453   \n",
       "insured_education_level                        -0.003768        -0.031510   \n",
       "insured_occupation                             -0.015368        -0.047800   \n",
       "insured_hobbies                                 0.012586        -0.005929   \n",
       "insured_relationship                           -0.047354         0.018420   \n",
       "capital-gains                                   0.061643        -0.047505   \n",
       "capital-loss                                   -0.014895         0.017803   \n",
       "incident_type                                  -0.893274         0.000239   \n",
       "collision_type                                 -0.224926        -0.016350   \n",
       "incident_severity                              -0.168719        -0.040856   \n",
       "authorities_contacted                          -0.081508         0.017456   \n",
       "incident_state                                 -0.037384        -0.024073   \n",
       "incident_city                                  -0.009840        -0.036480   \n",
       "incident_hour_of_the_day                        0.120794        -0.030704   \n",
       "number_of_vehicles_involved                     1.000000        -0.007593   \n",
       "property_damage                                -0.007593         1.000000   \n",
       "bodily_injuries                                 0.014030         0.010482   \n",
       "witnesses                                      -0.014669         0.025101   \n",
       "police_report_available                         0.015413         0.046261   \n",
       "total_claim_amount                              0.274278         0.011512   \n",
       "injury_claim                                    0.224650        -0.005347   \n",
       "property_claim                                  0.219084         0.007173   \n",
       "vehicle_claim                                   0.269393         0.015642   \n",
       "auto_make                                       0.014343         0.018998   \n",
       "auto_model                                      0.032219        -0.004948   \n",
       "auto_year                                       0.034554         0.023445   \n",
       "fraud_reported                                  0.051839         0.087639   \n",
       "\n",
       "                             bodily_injuries  witnesses  \\\n",
       "months_as_customer                 -0.010162   0.058383   \n",
       "age                                -0.015679   0.052359   \n",
       "policy_state                        0.013384   0.022960   \n",
       "policy_deductable                  -0.022765   0.066639   \n",
       "policy_annual_premium               0.026780   0.002332   \n",
       "umbrella_limit                      0.022743  -0.006738   \n",
       "insured_sex                        -0.020297   0.042463   \n",
       "insured_education_level            -0.012072   0.019211   \n",
       "insured_occupation                 -0.000236  -0.014794   \n",
       "insured_hobbies                     0.031373  -0.033971   \n",
       "insured_relationship               -0.001214   0.002362   \n",
       "capital-gains                       0.055829  -0.017651   \n",
       "capital-loss                       -0.024418  -0.041330   \n",
       "incident_type                      -0.009733  -0.007299   \n",
       "collision_type                     -0.018590  -0.026694   \n",
       "incident_severity                  -0.018870  -0.011127   \n",
       "authorities_contacted               0.041692  -0.003721   \n",
       "incident_state                     -0.000036   0.012177   \n",
       "incident_city                       0.051782   0.009058   \n",
       "incident_hour_of_the_day           -0.034563   0.006527   \n",
       "number_of_vehicles_involved         0.014030  -0.014669   \n",
       "property_damage                     0.010482   0.025101   \n",
       "bodily_injuries                     1.000000  -0.005606   \n",
       "witnesses                          -0.005606   1.000000   \n",
       "police_report_available            -0.005892  -0.009783   \n",
       "total_claim_amount                  0.047093  -0.011114   \n",
       "injury_claim                        0.047319  -0.024843   \n",
       "property_claim                      0.039749   0.052640   \n",
       "vehicle_claim                       0.043449  -0.022564   \n",
       "auto_make                           0.026731   0.005603   \n",
       "auto_model                          0.020007  -0.011232   \n",
       "auto_year                          -0.020527   0.045791   \n",
       "fraud_reported                      0.033877   0.049497   \n",
       "\n",
       "                             police_report_available  total_claim_amount  \\\n",
       "months_as_customer                         -0.071746            0.062108   \n",
       "age                                        -0.063040            0.069863   \n",
       "policy_state                               -0.024713           -0.006002   \n",
       "policy_deductable                           0.004936            0.022839   \n",
       "policy_annual_premium                       0.010332            0.009094   \n",
       "umbrella_limit                              0.034177           -0.040344   \n",
       "insured_sex                                -0.029056           -0.023727   \n",
       "insured_education_level                     0.016119            0.074226   \n",
       "insured_occupation                         -0.020739            0.003692   \n",
       "insured_hobbies                             0.041940           -0.004488   \n",
       "insured_relationship                        0.017965            0.002229   \n",
       "capital-gains                               0.002184            0.015980   \n",
       "capital-loss                               -0.012753           -0.036060   \n",
       "incident_type                              -0.020105           -0.276686   \n",
       "collision_type                             -0.021881           -0.617448   \n",
       "incident_severity                          -0.042421           -0.365295   \n",
       "authorities_contacted                       0.016557           -0.169333   \n",
       "incident_state                              0.039781           -0.043881   \n",
       "incident_city                              -0.007682            0.041231   \n",
       "incident_hour_of_the_day                   -0.011643            0.217702   \n",
       "number_of_vehicles_involved                 0.015413            0.274278   \n",
       "property_damage                             0.046261            0.011512   \n",
       "bodily_injuries                            -0.005892            0.047093   \n",
       "witnesses                                  -0.009783           -0.011114   \n",
       "police_report_available                     1.000000            0.072516   \n",
       "total_claim_amount                          0.072516            1.000000   \n",
       "injury_claim                                0.075362            0.805025   \n",
       "property_claim                              0.039839            0.810686   \n",
       "vehicle_claim                               0.071719            0.982773   \n",
       "auto_make                                   0.039219           -0.057508   \n",
       "auto_model                                  0.021803            0.040762   \n",
       "auto_year                                  -0.010241           -0.035781   \n",
       "fraud_reported                              0.008399            0.163651   \n",
       "\n",
       "                             injury_claim  property_claim  vehicle_claim  \\\n",
       "months_as_customer               0.065329        0.034940       0.061013   \n",
       "age                              0.075522        0.060898       0.062588   \n",
       "policy_state                    -0.046290        0.008406       0.001425   \n",
       "policy_deductable                0.039107        0.064792       0.005269   \n",
       "policy_annual_premium           -0.017633       -0.011654       0.020246   \n",
       "umbrella_limit                  -0.045412       -0.023790      -0.038584   \n",
       "insured_sex                      0.000924       -0.014868      -0.029609   \n",
       "insured_education_level          0.081880        0.055794       0.068348   \n",
       "insured_occupation               0.020211        0.003004      -0.000829   \n",
       "insured_hobbies                  0.028393        0.012535      -0.016814   \n",
       "insured_relationship             0.029014        0.007332      -0.006256   \n",
       "capital-gains                    0.025934       -0.000779       0.015836   \n",
       "capital-loss                    -0.046060       -0.022863      -0.032665   \n",
       "incident_type                   -0.226704       -0.221409      -0.271635   \n",
       "collision_type                  -0.482057       -0.470653      -0.618329   \n",
       "incident_severity               -0.276980       -0.301861      -0.361958   \n",
       "authorities_contacted           -0.141826       -0.118808      -0.169710   \n",
       "incident_state                  -0.015826       -0.026930      -0.050372   \n",
       "incident_city                    0.045794        0.041101       0.035303   \n",
       "incident_hour_of_the_day         0.165768        0.179536       0.215626   \n",
       "number_of_vehicles_involved      0.224650        0.219084       0.269393   \n",
       "property_damage                 -0.005347        0.007173       0.015642   \n",
       "bodily_injuries                  0.047319        0.039749       0.043449   \n",
       "witnesses                       -0.024843        0.052640      -0.022564   \n",
       "police_report_available          0.075362        0.039839       0.071719   \n",
       "total_claim_amount               0.805025        0.810686       0.982773   \n",
       "injury_claim                     1.000000        0.563866       0.722878   \n",
       "property_claim                   0.563866        1.000000       0.732090   \n",
       "vehicle_claim                    0.722878        0.732090       1.000000   \n",
       "auto_make                       -0.039575       -0.042030      -0.059427   \n",
       "auto_model                       0.038136        0.048857       0.034645   \n",
       "auto_year                       -0.013718       -0.014508      -0.042768   \n",
       "fraud_reported                   0.090975        0.137835       0.170049   \n",
       "\n",
       "                             auto_make  auto_model  auto_year  fraud_reported  \n",
       "months_as_customer            0.047655    0.004202  -0.000292        0.020544  \n",
       "age                           0.030410    0.017343   0.001354        0.012143  \n",
       "policy_state                  0.017124   -0.025253   0.002114        0.029432  \n",
       "policy_deductable            -0.035379   -0.003268   0.026105        0.014817  \n",
       "policy_annual_premium         0.000045   -0.031849  -0.049226       -0.014480  \n",
       "umbrella_limit               -0.004443    0.040256   0.009893        0.058622  \n",
       "insured_sex                   0.026457   -0.018421  -0.028247        0.030873  \n",
       "insured_education_level       0.055202    0.049445   0.043509        0.008808  \n",
       "insured_occupation            0.042621    0.020584  -0.006676        0.001564  \n",
       "insured_hobbies               0.001525    0.030948  -0.014495       -0.046838  \n",
       "insured_relationship         -0.027028    0.063671  -0.023345        0.021043  \n",
       "capital-gains                 0.052014    0.036569   0.031398       -0.019173  \n",
       "capital-loss                 -0.041658   -0.037288  -0.056615       -0.014863  \n",
       "incident_type                -0.032784   -0.034302  -0.053191       -0.050376  \n",
       "collision_type                0.014572   -0.004131   0.020316       -0.135725  \n",
       "incident_severity            -0.008571   -0.046442  -0.019646       -0.405988  \n",
       "authorities_contacted        -0.030309    0.017536   0.072524       -0.045802  \n",
       "incident_state                0.070178   -0.039857  -0.014658       -0.051407  \n",
       "incident_city                -0.002237    0.015118   0.058645       -0.040403  \n",
       "incident_hour_of_the_day     -0.002556   -0.058342   0.021368        0.004316  \n",
       "number_of_vehicles_involved   0.014343    0.032219   0.034554        0.051839  \n",
       "property_damage               0.018998   -0.004948   0.023445        0.087639  \n",
       "bodily_injuries               0.026731    0.020007  -0.020527        0.033877  \n",
       "witnesses                     0.005603   -0.011232   0.045791        0.049497  \n",
       "police_report_available       0.039219    0.021803  -0.010241        0.008399  \n",
       "total_claim_amount           -0.057508    0.040762  -0.035781        0.163651  \n",
       "injury_claim                 -0.039575    0.038136  -0.013718        0.090975  \n",
       "property_claim               -0.042030    0.048857  -0.014508        0.137835  \n",
       "vehicle_claim                -0.059427    0.034645  -0.042768        0.170049  \n",
       "auto_make                     1.000000   -0.166295   0.004939       -0.027519  \n",
       "auto_model                   -0.166295    1.000000   0.032831        0.000720  \n",
       "auto_year                     0.004939    0.032831   1.000000        0.007928  \n",
       "fraud_reported               -0.027519    0.000720   0.007928        1.000000  "
      ]
     },
     "execution_count": 38,
     "metadata": {},
     "output_type": "execute_result"
    }
   ],
   "source": [
    "df.corr()"
   ]
  },
  {
   "cell_type": "code",
   "execution_count": 39,
   "id": "0fffa2ce",
   "metadata": {},
   "outputs": [
    {
     "data": {
      "text/plain": [
       "0    0.753\n",
       "1    0.247\n",
       "Name: fraud_reported, dtype: float64"
      ]
     },
     "execution_count": 39,
     "metadata": {},
     "output_type": "execute_result"
    }
   ],
   "source": [
    "df['fraud_reported'].value_counts(normalize=True)"
   ]
  },
  {
   "cell_type": "code",
   "execution_count": 40,
   "id": "9595ae71",
   "metadata": {},
   "outputs": [],
   "source": [
    "x = df.drop(\"fraud_reported\", axis=1)\n",
    "\n",
    "y = df[\"fraud_reported\"]"
   ]
  },
  {
   "cell_type": "code",
   "execution_count": 41,
   "id": "0964b839",
   "metadata": {},
   "outputs": [
    {
     "data": {
      "text/html": [
       "<div>\n",
       "<style scoped>\n",
       "    .dataframe tbody tr th:only-of-type {\n",
       "        vertical-align: middle;\n",
       "    }\n",
       "\n",
       "    .dataframe tbody tr th {\n",
       "        vertical-align: top;\n",
       "    }\n",
       "\n",
       "    .dataframe thead th {\n",
       "        text-align: right;\n",
       "    }\n",
       "</style>\n",
       "<table border=\"1\" class=\"dataframe\">\n",
       "  <thead>\n",
       "    <tr style=\"text-align: right;\">\n",
       "      <th></th>\n",
       "      <th>months_as_customer</th>\n",
       "      <th>age</th>\n",
       "      <th>policy_state</th>\n",
       "      <th>policy_deductable</th>\n",
       "      <th>policy_annual_premium</th>\n",
       "      <th>umbrella_limit</th>\n",
       "      <th>insured_sex</th>\n",
       "      <th>insured_education_level</th>\n",
       "      <th>insured_occupation</th>\n",
       "      <th>insured_hobbies</th>\n",
       "      <th>insured_relationship</th>\n",
       "      <th>capital-gains</th>\n",
       "      <th>capital-loss</th>\n",
       "      <th>incident_type</th>\n",
       "      <th>collision_type</th>\n",
       "      <th>incident_severity</th>\n",
       "      <th>authorities_contacted</th>\n",
       "      <th>incident_state</th>\n",
       "      <th>incident_city</th>\n",
       "      <th>incident_hour_of_the_day</th>\n",
       "      <th>number_of_vehicles_involved</th>\n",
       "      <th>property_damage</th>\n",
       "      <th>bodily_injuries</th>\n",
       "      <th>witnesses</th>\n",
       "      <th>police_report_available</th>\n",
       "      <th>total_claim_amount</th>\n",
       "      <th>injury_claim</th>\n",
       "      <th>property_claim</th>\n",
       "      <th>vehicle_claim</th>\n",
       "      <th>auto_make</th>\n",
       "      <th>auto_model</th>\n",
       "      <th>auto_year</th>\n",
       "    </tr>\n",
       "  </thead>\n",
       "  <tbody>\n",
       "    <tr>\n",
       "      <th>0</th>\n",
       "      <td>328</td>\n",
       "      <td>48</td>\n",
       "      <td>2</td>\n",
       "      <td>1000</td>\n",
       "      <td>1406.91</td>\n",
       "      <td>0</td>\n",
       "      <td>1</td>\n",
       "      <td>4</td>\n",
       "      <td>2</td>\n",
       "      <td>17</td>\n",
       "      <td>0</td>\n",
       "      <td>53300</td>\n",
       "      <td>0</td>\n",
       "      <td>2</td>\n",
       "      <td>2</td>\n",
       "      <td>0</td>\n",
       "      <td>4</td>\n",
       "      <td>4</td>\n",
       "      <td>1</td>\n",
       "      <td>5</td>\n",
       "      <td>1</td>\n",
       "      <td>1</td>\n",
       "      <td>1</td>\n",
       "      <td>2</td>\n",
       "      <td>1</td>\n",
       "      <td>71610</td>\n",
       "      <td>6510</td>\n",
       "      <td>13020</td>\n",
       "      <td>52080</td>\n",
       "      <td>10</td>\n",
       "      <td>1</td>\n",
       "      <td>2004</td>\n",
       "    </tr>\n",
       "    <tr>\n",
       "      <th>1</th>\n",
       "      <td>228</td>\n",
       "      <td>42</td>\n",
       "      <td>1</td>\n",
       "      <td>2000</td>\n",
       "      <td>1197.22</td>\n",
       "      <td>5000000</td>\n",
       "      <td>1</td>\n",
       "      <td>4</td>\n",
       "      <td>6</td>\n",
       "      <td>15</td>\n",
       "      <td>2</td>\n",
       "      <td>0</td>\n",
       "      <td>0</td>\n",
       "      <td>3</td>\n",
       "      <td>3</td>\n",
       "      <td>1</td>\n",
       "      <td>4</td>\n",
       "      <td>5</td>\n",
       "      <td>5</td>\n",
       "      <td>8</td>\n",
       "      <td>1</td>\n",
       "      <td>2</td>\n",
       "      <td>0</td>\n",
       "      <td>0</td>\n",
       "      <td>2</td>\n",
       "      <td>5070</td>\n",
       "      <td>780</td>\n",
       "      <td>780</td>\n",
       "      <td>3510</td>\n",
       "      <td>8</td>\n",
       "      <td>12</td>\n",
       "      <td>2007</td>\n",
       "    </tr>\n",
       "    <tr>\n",
       "      <th>2</th>\n",
       "      <td>134</td>\n",
       "      <td>29</td>\n",
       "      <td>2</td>\n",
       "      <td>2000</td>\n",
       "      <td>1413.14</td>\n",
       "      <td>5000000</td>\n",
       "      <td>0</td>\n",
       "      <td>6</td>\n",
       "      <td>11</td>\n",
       "      <td>2</td>\n",
       "      <td>3</td>\n",
       "      <td>35100</td>\n",
       "      <td>0</td>\n",
       "      <td>0</td>\n",
       "      <td>1</td>\n",
       "      <td>1</td>\n",
       "      <td>4</td>\n",
       "      <td>1</td>\n",
       "      <td>1</td>\n",
       "      <td>7</td>\n",
       "      <td>3</td>\n",
       "      <td>0</td>\n",
       "      <td>2</td>\n",
       "      <td>3</td>\n",
       "      <td>0</td>\n",
       "      <td>34650</td>\n",
       "      <td>7700</td>\n",
       "      <td>3850</td>\n",
       "      <td>23100</td>\n",
       "      <td>4</td>\n",
       "      <td>30</td>\n",
       "      <td>2007</td>\n",
       "    </tr>\n",
       "  </tbody>\n",
       "</table>\n",
       "</div>"
      ],
      "text/plain": [
       "   months_as_customer  age  policy_state  policy_deductable  \\\n",
       "0                 328   48             2               1000   \n",
       "1                 228   42             1               2000   \n",
       "2                 134   29             2               2000   \n",
       "\n",
       "   policy_annual_premium  umbrella_limit  insured_sex  \\\n",
       "0                1406.91               0            1   \n",
       "1                1197.22         5000000            1   \n",
       "2                1413.14         5000000            0   \n",
       "\n",
       "   insured_education_level  insured_occupation  insured_hobbies  \\\n",
       "0                        4                   2               17   \n",
       "1                        4                   6               15   \n",
       "2                        6                  11                2   \n",
       "\n",
       "   insured_relationship  capital-gains  capital-loss  incident_type  \\\n",
       "0                     0          53300             0              2   \n",
       "1                     2              0             0              3   \n",
       "2                     3          35100             0              0   \n",
       "\n",
       "   collision_type  incident_severity  authorities_contacted  incident_state  \\\n",
       "0               2                  0                      4               4   \n",
       "1               3                  1                      4               5   \n",
       "2               1                  1                      4               1   \n",
       "\n",
       "   incident_city  incident_hour_of_the_day  number_of_vehicles_involved  \\\n",
       "0              1                         5                            1   \n",
       "1              5                         8                            1   \n",
       "2              1                         7                            3   \n",
       "\n",
       "   property_damage  bodily_injuries  witnesses  police_report_available  \\\n",
       "0                1                1          2                        1   \n",
       "1                2                0          0                        2   \n",
       "2                0                2          3                        0   \n",
       "\n",
       "   total_claim_amount  injury_claim  property_claim  vehicle_claim  auto_make  \\\n",
       "0               71610          6510           13020          52080         10   \n",
       "1                5070           780             780           3510          8   \n",
       "2               34650          7700            3850          23100          4   \n",
       "\n",
       "   auto_model  auto_year  \n",
       "0           1       2004  \n",
       "1          12       2007  \n",
       "2          30       2007  "
      ]
     },
     "execution_count": 41,
     "metadata": {},
     "output_type": "execute_result"
    }
   ],
   "source": [
    "x.head(3)"
   ]
  },
  {
   "cell_type": "code",
   "execution_count": 42,
   "id": "2930d1dc",
   "metadata": {},
   "outputs": [
    {
     "data": {
      "text/plain": [
       "0    1\n",
       "1    1\n",
       "2    0\n",
       "Name: fraud_reported, dtype: int32"
      ]
     },
     "execution_count": 42,
     "metadata": {},
     "output_type": "execute_result"
    }
   ],
   "source": [
    "y.head(3)"
   ]
  },
  {
   "cell_type": "code",
   "execution_count": 43,
   "id": "9a664d4f",
   "metadata": {},
   "outputs": [
    {
     "data": {
      "text/html": [
       "<div>\n",
       "<style scoped>\n",
       "    .dataframe tbody tr th:only-of-type {\n",
       "        vertical-align: middle;\n",
       "    }\n",
       "\n",
       "    .dataframe tbody tr th {\n",
       "        vertical-align: top;\n",
       "    }\n",
       "\n",
       "    .dataframe thead th {\n",
       "        text-align: right;\n",
       "    }\n",
       "</style>\n",
       "<table border=\"1\" class=\"dataframe\">\n",
       "  <thead>\n",
       "    <tr style=\"text-align: right;\">\n",
       "      <th></th>\n",
       "      <th>months_as_customer</th>\n",
       "      <th>age</th>\n",
       "      <th>policy_state</th>\n",
       "      <th>policy_deductable</th>\n",
       "      <th>policy_annual_premium</th>\n",
       "      <th>umbrella_limit</th>\n",
       "      <th>insured_sex</th>\n",
       "      <th>insured_education_level</th>\n",
       "      <th>insured_occupation</th>\n",
       "      <th>insured_hobbies</th>\n",
       "      <th>insured_relationship</th>\n",
       "      <th>capital-gains</th>\n",
       "      <th>capital-loss</th>\n",
       "      <th>incident_type</th>\n",
       "      <th>collision_type</th>\n",
       "      <th>incident_severity</th>\n",
       "      <th>authorities_contacted</th>\n",
       "      <th>incident_state</th>\n",
       "      <th>incident_city</th>\n",
       "      <th>incident_hour_of_the_day</th>\n",
       "      <th>number_of_vehicles_involved</th>\n",
       "      <th>property_damage</th>\n",
       "      <th>bodily_injuries</th>\n",
       "      <th>witnesses</th>\n",
       "      <th>police_report_available</th>\n",
       "      <th>total_claim_amount</th>\n",
       "      <th>injury_claim</th>\n",
       "      <th>property_claim</th>\n",
       "      <th>vehicle_claim</th>\n",
       "      <th>auto_make</th>\n",
       "      <th>auto_model</th>\n",
       "      <th>auto_year</th>\n",
       "    </tr>\n",
       "  </thead>\n",
       "  <tbody>\n",
       "    <tr>\n",
       "      <th>0</th>\n",
       "      <td>1.078140</td>\n",
       "      <td>0.990836</td>\n",
       "      <td>1.187173</td>\n",
       "      <td>-0.222383</td>\n",
       "      <td>0.616705</td>\n",
       "      <td>-0.479476</td>\n",
       "      <td>1.076953</td>\n",
       "      <td>0.530931</td>\n",
       "      <td>-1.158316</td>\n",
       "      <td>1.281737</td>\n",
       "      <td>-1.437957</td>\n",
       "      <td>1.011331</td>\n",
       "      <td>0.953851</td>\n",
       "      <td>0.766005</td>\n",
       "      <td>0.593292</td>\n",
       "      <td>-1.260614</td>\n",
       "      <td>1.196963</td>\n",
       "      <td>0.351762</td>\n",
       "      <td>-0.962196</td>\n",
       "      <td>-0.956261</td>\n",
       "      <td>-0.823865</td>\n",
       "      <td>-0.026342</td>\n",
       "      <td>0.009759</td>\n",
       "      <td>0.461838</td>\n",
       "      <td>0.000000</td>\n",
       "      <td>0.714257</td>\n",
       "      <td>-0.189283</td>\n",
       "      <td>1.165505</td>\n",
       "      <td>0.749653</td>\n",
       "      <td>0.856466</td>\n",
       "      <td>-1.645743</td>\n",
       "      <td>-0.183440</td>\n",
       "    </tr>\n",
       "    <tr>\n",
       "      <th>1</th>\n",
       "      <td>0.208995</td>\n",
       "      <td>0.334073</td>\n",
       "      <td>-0.016856</td>\n",
       "      <td>1.412784</td>\n",
       "      <td>-0.242521</td>\n",
       "      <td>1.697980</td>\n",
       "      <td>1.076953</td>\n",
       "      <td>0.530931</td>\n",
       "      <td>-0.162558</td>\n",
       "      <td>0.929078</td>\n",
       "      <td>-0.247595</td>\n",
       "      <td>-0.901927</td>\n",
       "      <td>0.953851</td>\n",
       "      <td>1.691132</td>\n",
       "      <td>1.547138</td>\n",
       "      <td>-0.195906</td>\n",
       "      <td>1.196963</td>\n",
       "      <td>0.815829</td>\n",
       "      <td>0.995476</td>\n",
       "      <td>-0.524475</td>\n",
       "      <td>-0.823865</td>\n",
       "      <td>1.171013</td>\n",
       "      <td>-1.210174</td>\n",
       "      <td>-1.338700</td>\n",
       "      <td>1.207363</td>\n",
       "      <td>-1.807312</td>\n",
       "      <td>-1.363822</td>\n",
       "      <td>-1.372696</td>\n",
       "      <td>-1.823346</td>\n",
       "      <td>0.360539</td>\n",
       "      <td>-0.657470</td>\n",
       "      <td>0.315491</td>\n",
       "    </tr>\n",
       "    <tr>\n",
       "      <th>2</th>\n",
       "      <td>-0.608002</td>\n",
       "      <td>-1.088913</td>\n",
       "      <td>1.187173</td>\n",
       "      <td>1.412784</td>\n",
       "      <td>0.642233</td>\n",
       "      <td>1.697980</td>\n",
       "      <td>-0.928546</td>\n",
       "      <td>1.557877</td>\n",
       "      <td>1.082141</td>\n",
       "      <td>-1.363201</td>\n",
       "      <td>0.347586</td>\n",
       "      <td>0.358023</td>\n",
       "      <td>0.953851</td>\n",
       "      <td>-1.084249</td>\n",
       "      <td>-0.360554</td>\n",
       "      <td>-0.195906</td>\n",
       "      <td>1.196963</td>\n",
       "      <td>-1.040437</td>\n",
       "      <td>-0.962196</td>\n",
       "      <td>-0.668404</td>\n",
       "      <td>1.140056</td>\n",
       "      <td>-1.223697</td>\n",
       "      <td>1.229693</td>\n",
       "      <td>1.362107</td>\n",
       "      <td>-1.207363</td>\n",
       "      <td>-0.686362</td>\n",
       "      <td>0.054644</td>\n",
       "      <td>-0.736072</td>\n",
       "      <td>-0.785565</td>\n",
       "      <td>-0.631315</td>\n",
       "      <td>0.959702</td>\n",
       "      <td>0.315491</td>\n",
       "    </tr>\n",
       "  </tbody>\n",
       "</table>\n",
       "</div>"
      ],
      "text/plain": [
       "   months_as_customer       age  policy_state  policy_deductable  \\\n",
       "0            1.078140  0.990836      1.187173          -0.222383   \n",
       "1            0.208995  0.334073     -0.016856           1.412784   \n",
       "2           -0.608002 -1.088913      1.187173           1.412784   \n",
       "\n",
       "   policy_annual_premium  umbrella_limit  insured_sex  \\\n",
       "0               0.616705       -0.479476     1.076953   \n",
       "1              -0.242521        1.697980     1.076953   \n",
       "2               0.642233        1.697980    -0.928546   \n",
       "\n",
       "   insured_education_level  insured_occupation  insured_hobbies  \\\n",
       "0                 0.530931           -1.158316         1.281737   \n",
       "1                 0.530931           -0.162558         0.929078   \n",
       "2                 1.557877            1.082141        -1.363201   \n",
       "\n",
       "   insured_relationship  capital-gains  capital-loss  incident_type  \\\n",
       "0             -1.437957       1.011331      0.953851       0.766005   \n",
       "1             -0.247595      -0.901927      0.953851       1.691132   \n",
       "2              0.347586       0.358023      0.953851      -1.084249   \n",
       "\n",
       "   collision_type  incident_severity  authorities_contacted  incident_state  \\\n",
       "0        0.593292          -1.260614               1.196963        0.351762   \n",
       "1        1.547138          -0.195906               1.196963        0.815829   \n",
       "2       -0.360554          -0.195906               1.196963       -1.040437   \n",
       "\n",
       "   incident_city  incident_hour_of_the_day  number_of_vehicles_involved  \\\n",
       "0      -0.962196                 -0.956261                    -0.823865   \n",
       "1       0.995476                 -0.524475                    -0.823865   \n",
       "2      -0.962196                 -0.668404                     1.140056   \n",
       "\n",
       "   property_damage  bodily_injuries  witnesses  police_report_available  \\\n",
       "0        -0.026342         0.009759   0.461838                 0.000000   \n",
       "1         1.171013        -1.210174  -1.338700                 1.207363   \n",
       "2        -1.223697         1.229693   1.362107                -1.207363   \n",
       "\n",
       "   total_claim_amount  injury_claim  property_claim  vehicle_claim  auto_make  \\\n",
       "0            0.714257     -0.189283        1.165505       0.749653   0.856466   \n",
       "1           -1.807312     -1.363822       -1.372696      -1.823346   0.360539   \n",
       "2           -0.686362      0.054644       -0.736072      -0.785565  -0.631315   \n",
       "\n",
       "   auto_model  auto_year  \n",
       "0   -1.645743  -0.183440  \n",
       "1   -0.657470   0.315491  \n",
       "2    0.959702   0.315491  "
      ]
     },
     "execution_count": 43,
     "metadata": {},
     "output_type": "execute_result"
    }
   ],
   "source": [
    "from sklearn.preprocessing import StandardScaler\n",
    "scaler = StandardScaler()\n",
    "\n",
    "x1 = scaler.fit_transform(x)\n",
    "x2 = pd.DataFrame(x1, columns = x.columns)\n",
    "x2.head(3)"
   ]
  },
  {
   "cell_type": "code",
   "execution_count": 44,
   "id": "18245200",
   "metadata": {},
   "outputs": [],
   "source": [
    "# Dataset is imbalanced, making the dataset as balanced using Imblearn.SMOTE-Synthetic Minority Over-sampling Technique\n",
    "\n",
    "# SMOTE (synthetic minority oversampling technique) is one of the most commonly used oversampling methods to solve the imbalance problem. \n",
    "    # It aims to balance class distribution by randomly increasing minority class examples by replicating them."
   ]
  },
  {
   "cell_type": "code",
   "execution_count": 45,
   "id": "769e912f",
   "metadata": {},
   "outputs": [],
   "source": [
    "from imblearn.over_sampling import SMOTE\n",
    "\n",
    "smote = SMOTE(sampling_strategy = 'minority')\n",
    "x_sm, y_sm = smote.fit_resample(x2,y)"
   ]
  },
  {
   "cell_type": "code",
   "execution_count": 46,
   "id": "19070a78",
   "metadata": {},
   "outputs": [
    {
     "data": {
      "text/plain": [
       "1    753\n",
       "0    753\n",
       "Name: fraud_reported, dtype: int64"
      ]
     },
     "execution_count": 46,
     "metadata": {},
     "output_type": "execute_result"
    }
   ],
   "source": [
    "y_sm.value_counts()"
   ]
  },
  {
   "cell_type": "code",
   "execution_count": 47,
   "id": "9cf8478a",
   "metadata": {},
   "outputs": [],
   "source": [
    "x_train, x_test, y_train, y_test = train_test_split(x_sm, y_sm, test_size = 0.2, random_state = 101)"
   ]
  },
  {
   "cell_type": "code",
   "execution_count": 48,
   "id": "0c0023de",
   "metadata": {},
   "outputs": [
    {
     "data": {
      "text/plain": [
       "(1204, 32)"
      ]
     },
     "execution_count": 48,
     "metadata": {},
     "output_type": "execute_result"
    }
   ],
   "source": [
    "x_train.shape"
   ]
  },
  {
   "cell_type": "code",
   "execution_count": 49,
   "id": "d5637478",
   "metadata": {},
   "outputs": [
    {
     "data": {
      "text/plain": [
       "(302, 32)"
      ]
     },
     "execution_count": 49,
     "metadata": {},
     "output_type": "execute_result"
    }
   ],
   "source": [
    "x_test.shape"
   ]
  },
  {
   "cell_type": "code",
   "execution_count": 50,
   "id": "a45e316b",
   "metadata": {},
   "outputs": [],
   "source": [
    "# Evaluate the model on the training set\n",
    "\n",
    "models = {\n",
    "    'Logistic Regression' : LogisticRegression(),\n",
    "    'KNN' : KNeighborsClassifier(),\n",
    "    \"Random Forest\": RandomForestClassifier(),\n",
    "    'DecissionTreeClassifier' : DecisionTreeClassifier(),\n",
    "    'SVM' : SVC(),\n",
    "    'GaussianNB' : GaussianNB()\n",
    "}\n",
    "\n",
    "def fit_and_score(models):\n",
    "    model_scores = {}\n",
    "     \n",
    "    for name, model in models.items():\n",
    "            model.fit(x_train, y_train)\n",
    "            y_pred=model.predict(x_test)\n",
    "            model_scores[name] = model.score(y_test.reshape(1,-1), y_pred)\n",
    "    return model_scores"
   ]
  },
  {
   "cell_type": "code",
   "execution_count": 51,
   "id": "768ace8d",
   "metadata": {},
   "outputs": [
    {
     "data": {
      "text/html": [
       "<style>#sk-container-id-1 {color: black;background-color: white;}#sk-container-id-1 pre{padding: 0;}#sk-container-id-1 div.sk-toggleable {background-color: white;}#sk-container-id-1 label.sk-toggleable__label {cursor: pointer;display: block;width: 100%;margin-bottom: 0;padding: 0.3em;box-sizing: border-box;text-align: center;}#sk-container-id-1 label.sk-toggleable__label-arrow:before {content: \"▸\";float: left;margin-right: 0.25em;color: #696969;}#sk-container-id-1 label.sk-toggleable__label-arrow:hover:before {color: black;}#sk-container-id-1 div.sk-estimator:hover label.sk-toggleable__label-arrow:before {color: black;}#sk-container-id-1 div.sk-toggleable__content {max-height: 0;max-width: 0;overflow: hidden;text-align: left;background-color: #f0f8ff;}#sk-container-id-1 div.sk-toggleable__content pre {margin: 0.2em;color: black;border-radius: 0.25em;background-color: #f0f8ff;}#sk-container-id-1 input.sk-toggleable__control:checked~div.sk-toggleable__content {max-height: 200px;max-width: 100%;overflow: auto;}#sk-container-id-1 input.sk-toggleable__control:checked~label.sk-toggleable__label-arrow:before {content: \"▾\";}#sk-container-id-1 div.sk-estimator input.sk-toggleable__control:checked~label.sk-toggleable__label {background-color: #d4ebff;}#sk-container-id-1 div.sk-label input.sk-toggleable__control:checked~label.sk-toggleable__label {background-color: #d4ebff;}#sk-container-id-1 input.sk-hidden--visually {border: 0;clip: rect(1px 1px 1px 1px);clip: rect(1px, 1px, 1px, 1px);height: 1px;margin: -1px;overflow: hidden;padding: 0;position: absolute;width: 1px;}#sk-container-id-1 div.sk-estimator {font-family: monospace;background-color: #f0f8ff;border: 1px dotted black;border-radius: 0.25em;box-sizing: border-box;margin-bottom: 0.5em;}#sk-container-id-1 div.sk-estimator:hover {background-color: #d4ebff;}#sk-container-id-1 div.sk-parallel-item::after {content: \"\";width: 100%;border-bottom: 1px solid gray;flex-grow: 1;}#sk-container-id-1 div.sk-label:hover label.sk-toggleable__label {background-color: #d4ebff;}#sk-container-id-1 div.sk-serial::before {content: \"\";position: absolute;border-left: 1px solid gray;box-sizing: border-box;top: 0;bottom: 0;left: 50%;z-index: 0;}#sk-container-id-1 div.sk-serial {display: flex;flex-direction: column;align-items: center;background-color: white;padding-right: 0.2em;padding-left: 0.2em;position: relative;}#sk-container-id-1 div.sk-item {position: relative;z-index: 1;}#sk-container-id-1 div.sk-parallel {display: flex;align-items: stretch;justify-content: center;background-color: white;position: relative;}#sk-container-id-1 div.sk-item::before, #sk-container-id-1 div.sk-parallel-item::before {content: \"\";position: absolute;border-left: 1px solid gray;box-sizing: border-box;top: 0;bottom: 0;left: 50%;z-index: -1;}#sk-container-id-1 div.sk-parallel-item {display: flex;flex-direction: column;z-index: 1;position: relative;background-color: white;}#sk-container-id-1 div.sk-parallel-item:first-child::after {align-self: flex-end;width: 50%;}#sk-container-id-1 div.sk-parallel-item:last-child::after {align-self: flex-start;width: 50%;}#sk-container-id-1 div.sk-parallel-item:only-child::after {width: 0;}#sk-container-id-1 div.sk-dashed-wrapped {border: 1px dashed gray;margin: 0 0.4em 0.5em 0.4em;box-sizing: border-box;padding-bottom: 0.4em;background-color: white;}#sk-container-id-1 div.sk-label label {font-family: monospace;font-weight: bold;display: inline-block;line-height: 1.2em;}#sk-container-id-1 div.sk-label-container {text-align: center;}#sk-container-id-1 div.sk-container {/* jupyter's `normalize.less` sets `[hidden] { display: none; }` but bootstrap.min.css set `[hidden] { display: none !important; }` so we also need the `!important` here to be able to override the default hidden behavior on the sphinx rendered scikit-learn.org. See: https://github.com/scikit-learn/scikit-learn/issues/21755 */display: inline-block !important;position: relative;}#sk-container-id-1 div.sk-text-repr-fallback {display: none;}</style><div id=\"sk-container-id-1\" class=\"sk-top-container\"><div class=\"sk-text-repr-fallback\"><pre>LogisticRegression()</pre><b>In a Jupyter environment, please rerun this cell to show the HTML representation or trust the notebook. <br />On GitHub, the HTML representation is unable to render, please try loading this page with nbviewer.org.</b></div><div class=\"sk-container\" hidden><div class=\"sk-item\"><div class=\"sk-estimator sk-toggleable\"><input class=\"sk-toggleable__control sk-hidden--visually\" id=\"sk-estimator-id-1\" type=\"checkbox\" checked><label for=\"sk-estimator-id-1\" class=\"sk-toggleable__label sk-toggleable__label-arrow\">LogisticRegression</label><div class=\"sk-toggleable__content\"><pre>LogisticRegression()</pre></div></div></div></div></div>"
      ],
      "text/plain": [
       "LogisticRegression()"
      ]
     },
     "execution_count": 51,
     "metadata": {},
     "output_type": "execute_result"
    }
   ],
   "source": [
    "# LogisticRegression\n",
    "\n",
    "model = LogisticRegression()\n",
    "model.fit(x_train, y_train)"
   ]
  },
  {
   "cell_type": "code",
   "execution_count": 52,
   "id": "f7cc8d6f",
   "metadata": {},
   "outputs": [],
   "source": [
    "y_pred=model.predict(x_test)"
   ]
  },
  {
   "cell_type": "code",
   "execution_count": 53,
   "id": "98591531",
   "metadata": {},
   "outputs": [
    {
     "data": {
      "text/plain": [
       "0.7715231788079471"
      ]
     },
     "execution_count": 53,
     "metadata": {},
     "output_type": "execute_result"
    }
   ],
   "source": [
    "log_score = model.score(x_test, y_test)\n",
    "log_score"
   ]
  },
  {
   "cell_type": "code",
   "execution_count": 54,
   "id": "2610726a",
   "metadata": {},
   "outputs": [
    {
     "name": "stdout",
     "output_type": "stream",
     "text": [
      "              precision    recall  f1-score   support\n",
      "\n",
      "           0       0.70      0.85      0.77       133\n",
      "           1       0.86      0.71      0.78       169\n",
      "\n",
      "    accuracy                           0.77       302\n",
      "   macro avg       0.78      0.78      0.77       302\n",
      "weighted avg       0.79      0.77      0.77       302\n",
      "\n"
     ]
    }
   ],
   "source": [
    "print(classification_report(y_pred, y_test))"
   ]
  },
  {
   "cell_type": "code",
   "execution_count": 55,
   "id": "4081a9a8",
   "metadata": {},
   "outputs": [
    {
     "data": {
      "text/html": [
       "<style>#sk-container-id-2 {color: black;background-color: white;}#sk-container-id-2 pre{padding: 0;}#sk-container-id-2 div.sk-toggleable {background-color: white;}#sk-container-id-2 label.sk-toggleable__label {cursor: pointer;display: block;width: 100%;margin-bottom: 0;padding: 0.3em;box-sizing: border-box;text-align: center;}#sk-container-id-2 label.sk-toggleable__label-arrow:before {content: \"▸\";float: left;margin-right: 0.25em;color: #696969;}#sk-container-id-2 label.sk-toggleable__label-arrow:hover:before {color: black;}#sk-container-id-2 div.sk-estimator:hover label.sk-toggleable__label-arrow:before {color: black;}#sk-container-id-2 div.sk-toggleable__content {max-height: 0;max-width: 0;overflow: hidden;text-align: left;background-color: #f0f8ff;}#sk-container-id-2 div.sk-toggleable__content pre {margin: 0.2em;color: black;border-radius: 0.25em;background-color: #f0f8ff;}#sk-container-id-2 input.sk-toggleable__control:checked~div.sk-toggleable__content {max-height: 200px;max-width: 100%;overflow: auto;}#sk-container-id-2 input.sk-toggleable__control:checked~label.sk-toggleable__label-arrow:before {content: \"▾\";}#sk-container-id-2 div.sk-estimator input.sk-toggleable__control:checked~label.sk-toggleable__label {background-color: #d4ebff;}#sk-container-id-2 div.sk-label input.sk-toggleable__control:checked~label.sk-toggleable__label {background-color: #d4ebff;}#sk-container-id-2 input.sk-hidden--visually {border: 0;clip: rect(1px 1px 1px 1px);clip: rect(1px, 1px, 1px, 1px);height: 1px;margin: -1px;overflow: hidden;padding: 0;position: absolute;width: 1px;}#sk-container-id-2 div.sk-estimator {font-family: monospace;background-color: #f0f8ff;border: 1px dotted black;border-radius: 0.25em;box-sizing: border-box;margin-bottom: 0.5em;}#sk-container-id-2 div.sk-estimator:hover {background-color: #d4ebff;}#sk-container-id-2 div.sk-parallel-item::after {content: \"\";width: 100%;border-bottom: 1px solid gray;flex-grow: 1;}#sk-container-id-2 div.sk-label:hover label.sk-toggleable__label {background-color: #d4ebff;}#sk-container-id-2 div.sk-serial::before {content: \"\";position: absolute;border-left: 1px solid gray;box-sizing: border-box;top: 0;bottom: 0;left: 50%;z-index: 0;}#sk-container-id-2 div.sk-serial {display: flex;flex-direction: column;align-items: center;background-color: white;padding-right: 0.2em;padding-left: 0.2em;position: relative;}#sk-container-id-2 div.sk-item {position: relative;z-index: 1;}#sk-container-id-2 div.sk-parallel {display: flex;align-items: stretch;justify-content: center;background-color: white;position: relative;}#sk-container-id-2 div.sk-item::before, #sk-container-id-2 div.sk-parallel-item::before {content: \"\";position: absolute;border-left: 1px solid gray;box-sizing: border-box;top: 0;bottom: 0;left: 50%;z-index: -1;}#sk-container-id-2 div.sk-parallel-item {display: flex;flex-direction: column;z-index: 1;position: relative;background-color: white;}#sk-container-id-2 div.sk-parallel-item:first-child::after {align-self: flex-end;width: 50%;}#sk-container-id-2 div.sk-parallel-item:last-child::after {align-self: flex-start;width: 50%;}#sk-container-id-2 div.sk-parallel-item:only-child::after {width: 0;}#sk-container-id-2 div.sk-dashed-wrapped {border: 1px dashed gray;margin: 0 0.4em 0.5em 0.4em;box-sizing: border-box;padding-bottom: 0.4em;background-color: white;}#sk-container-id-2 div.sk-label label {font-family: monospace;font-weight: bold;display: inline-block;line-height: 1.2em;}#sk-container-id-2 div.sk-label-container {text-align: center;}#sk-container-id-2 div.sk-container {/* jupyter's `normalize.less` sets `[hidden] { display: none; }` but bootstrap.min.css set `[hidden] { display: none !important; }` so we also need the `!important` here to be able to override the default hidden behavior on the sphinx rendered scikit-learn.org. See: https://github.com/scikit-learn/scikit-learn/issues/21755 */display: inline-block !important;position: relative;}#sk-container-id-2 div.sk-text-repr-fallback {display: none;}</style><div id=\"sk-container-id-2\" class=\"sk-top-container\"><div class=\"sk-text-repr-fallback\"><pre>RandomForestClassifier()</pre><b>In a Jupyter environment, please rerun this cell to show the HTML representation or trust the notebook. <br />On GitHub, the HTML representation is unable to render, please try loading this page with nbviewer.org.</b></div><div class=\"sk-container\" hidden><div class=\"sk-item\"><div class=\"sk-estimator sk-toggleable\"><input class=\"sk-toggleable__control sk-hidden--visually\" id=\"sk-estimator-id-2\" type=\"checkbox\" checked><label for=\"sk-estimator-id-2\" class=\"sk-toggleable__label sk-toggleable__label-arrow\">RandomForestClassifier</label><div class=\"sk-toggleable__content\"><pre>RandomForestClassifier()</pre></div></div></div></div></div>"
      ],
      "text/plain": [
       "RandomForestClassifier()"
      ]
     },
     "execution_count": 55,
     "metadata": {},
     "output_type": "execute_result"
    }
   ],
   "source": [
    "# RandomForestClassifier\n",
    "\n",
    "random_model = RandomForestClassifier()\n",
    "random_model.fit(x_train, y_train)"
   ]
  },
  {
   "cell_type": "code",
   "execution_count": 56,
   "id": "14504318",
   "metadata": {},
   "outputs": [],
   "source": [
    "y_pred=random_model.predict(x_test)"
   ]
  },
  {
   "cell_type": "code",
   "execution_count": 57,
   "id": "5dcdd373",
   "metadata": {},
   "outputs": [
    {
     "data": {
      "text/plain": [
       "0.9105960264900662"
      ]
     },
     "execution_count": 57,
     "metadata": {},
     "output_type": "execute_result"
    }
   ],
   "source": [
    "random_score = random_model.score(x_test, y_test)\n",
    "random_score"
   ]
  },
  {
   "cell_type": "code",
   "execution_count": 58,
   "id": "d6c42916",
   "metadata": {},
   "outputs": [
    {
     "name": "stdout",
     "output_type": "stream",
     "text": [
      "              precision    recall  f1-score   support\n",
      "\n",
      "           0       0.90      0.93      0.92       157\n",
      "           1       0.92      0.89      0.91       145\n",
      "\n",
      "    accuracy                           0.91       302\n",
      "   macro avg       0.91      0.91      0.91       302\n",
      "weighted avg       0.91      0.91      0.91       302\n",
      "\n"
     ]
    }
   ],
   "source": [
    "print(classification_report(y_pred, y_test))"
   ]
  },
  {
   "cell_type": "code",
   "execution_count": 59,
   "id": "2bd26cbf",
   "metadata": {},
   "outputs": [
    {
     "data": {
      "text/html": [
       "<style>#sk-container-id-3 {color: black;background-color: white;}#sk-container-id-3 pre{padding: 0;}#sk-container-id-3 div.sk-toggleable {background-color: white;}#sk-container-id-3 label.sk-toggleable__label {cursor: pointer;display: block;width: 100%;margin-bottom: 0;padding: 0.3em;box-sizing: border-box;text-align: center;}#sk-container-id-3 label.sk-toggleable__label-arrow:before {content: \"▸\";float: left;margin-right: 0.25em;color: #696969;}#sk-container-id-3 label.sk-toggleable__label-arrow:hover:before {color: black;}#sk-container-id-3 div.sk-estimator:hover label.sk-toggleable__label-arrow:before {color: black;}#sk-container-id-3 div.sk-toggleable__content {max-height: 0;max-width: 0;overflow: hidden;text-align: left;background-color: #f0f8ff;}#sk-container-id-3 div.sk-toggleable__content pre {margin: 0.2em;color: black;border-radius: 0.25em;background-color: #f0f8ff;}#sk-container-id-3 input.sk-toggleable__control:checked~div.sk-toggleable__content {max-height: 200px;max-width: 100%;overflow: auto;}#sk-container-id-3 input.sk-toggleable__control:checked~label.sk-toggleable__label-arrow:before {content: \"▾\";}#sk-container-id-3 div.sk-estimator input.sk-toggleable__control:checked~label.sk-toggleable__label {background-color: #d4ebff;}#sk-container-id-3 div.sk-label input.sk-toggleable__control:checked~label.sk-toggleable__label {background-color: #d4ebff;}#sk-container-id-3 input.sk-hidden--visually {border: 0;clip: rect(1px 1px 1px 1px);clip: rect(1px, 1px, 1px, 1px);height: 1px;margin: -1px;overflow: hidden;padding: 0;position: absolute;width: 1px;}#sk-container-id-3 div.sk-estimator {font-family: monospace;background-color: #f0f8ff;border: 1px dotted black;border-radius: 0.25em;box-sizing: border-box;margin-bottom: 0.5em;}#sk-container-id-3 div.sk-estimator:hover {background-color: #d4ebff;}#sk-container-id-3 div.sk-parallel-item::after {content: \"\";width: 100%;border-bottom: 1px solid gray;flex-grow: 1;}#sk-container-id-3 div.sk-label:hover label.sk-toggleable__label {background-color: #d4ebff;}#sk-container-id-3 div.sk-serial::before {content: \"\";position: absolute;border-left: 1px solid gray;box-sizing: border-box;top: 0;bottom: 0;left: 50%;z-index: 0;}#sk-container-id-3 div.sk-serial {display: flex;flex-direction: column;align-items: center;background-color: white;padding-right: 0.2em;padding-left: 0.2em;position: relative;}#sk-container-id-3 div.sk-item {position: relative;z-index: 1;}#sk-container-id-3 div.sk-parallel {display: flex;align-items: stretch;justify-content: center;background-color: white;position: relative;}#sk-container-id-3 div.sk-item::before, #sk-container-id-3 div.sk-parallel-item::before {content: \"\";position: absolute;border-left: 1px solid gray;box-sizing: border-box;top: 0;bottom: 0;left: 50%;z-index: -1;}#sk-container-id-3 div.sk-parallel-item {display: flex;flex-direction: column;z-index: 1;position: relative;background-color: white;}#sk-container-id-3 div.sk-parallel-item:first-child::after {align-self: flex-end;width: 50%;}#sk-container-id-3 div.sk-parallel-item:last-child::after {align-self: flex-start;width: 50%;}#sk-container-id-3 div.sk-parallel-item:only-child::after {width: 0;}#sk-container-id-3 div.sk-dashed-wrapped {border: 1px dashed gray;margin: 0 0.4em 0.5em 0.4em;box-sizing: border-box;padding-bottom: 0.4em;background-color: white;}#sk-container-id-3 div.sk-label label {font-family: monospace;font-weight: bold;display: inline-block;line-height: 1.2em;}#sk-container-id-3 div.sk-label-container {text-align: center;}#sk-container-id-3 div.sk-container {/* jupyter's `normalize.less` sets `[hidden] { display: none; }` but bootstrap.min.css set `[hidden] { display: none !important; }` so we also need the `!important` here to be able to override the default hidden behavior on the sphinx rendered scikit-learn.org. See: https://github.com/scikit-learn/scikit-learn/issues/21755 */display: inline-block !important;position: relative;}#sk-container-id-3 div.sk-text-repr-fallback {display: none;}</style><div id=\"sk-container-id-3\" class=\"sk-top-container\"><div class=\"sk-text-repr-fallback\"><pre>DecisionTreeClassifier()</pre><b>In a Jupyter environment, please rerun this cell to show the HTML representation or trust the notebook. <br />On GitHub, the HTML representation is unable to render, please try loading this page with nbviewer.org.</b></div><div class=\"sk-container\" hidden><div class=\"sk-item\"><div class=\"sk-estimator sk-toggleable\"><input class=\"sk-toggleable__control sk-hidden--visually\" id=\"sk-estimator-id-3\" type=\"checkbox\" checked><label for=\"sk-estimator-id-3\" class=\"sk-toggleable__label sk-toggleable__label-arrow\">DecisionTreeClassifier</label><div class=\"sk-toggleable__content\"><pre>DecisionTreeClassifier()</pre></div></div></div></div></div>"
      ],
      "text/plain": [
       "DecisionTreeClassifier()"
      ]
     },
     "execution_count": 59,
     "metadata": {},
     "output_type": "execute_result"
    }
   ],
   "source": [
    "# DecisionTreeClassifier\n",
    "\n",
    "model = DecisionTreeClassifier()\n",
    "model.fit(x_train, y_train)"
   ]
  },
  {
   "cell_type": "code",
   "execution_count": 60,
   "id": "e33a5e20",
   "metadata": {},
   "outputs": [],
   "source": [
    "y_pred=model.predict(x_test)"
   ]
  },
  {
   "cell_type": "code",
   "execution_count": 61,
   "id": "14b12771",
   "metadata": {},
   "outputs": [
    {
     "data": {
      "text/plain": [
       "0.8609271523178808"
      ]
     },
     "execution_count": 61,
     "metadata": {},
     "output_type": "execute_result"
    }
   ],
   "source": [
    "dec_score = model.score(x_test, y_test)\n",
    "dec_score"
   ]
  },
  {
   "cell_type": "code",
   "execution_count": 62,
   "id": "396cb767",
   "metadata": {},
   "outputs": [
    {
     "name": "stdout",
     "output_type": "stream",
     "text": [
      "              precision    recall  f1-score   support\n",
      "\n",
      "           0       0.89      0.86      0.87       168\n",
      "           1       0.83      0.87      0.85       134\n",
      "\n",
      "    accuracy                           0.86       302\n",
      "   macro avg       0.86      0.86      0.86       302\n",
      "weighted avg       0.86      0.86      0.86       302\n",
      "\n"
     ]
    }
   ],
   "source": [
    "print(classification_report(y_pred, y_test))"
   ]
  },
  {
   "cell_type": "code",
   "execution_count": 63,
   "id": "01acec5a",
   "metadata": {},
   "outputs": [
    {
     "data": {
      "text/html": [
       "<style>#sk-container-id-4 {color: black;background-color: white;}#sk-container-id-4 pre{padding: 0;}#sk-container-id-4 div.sk-toggleable {background-color: white;}#sk-container-id-4 label.sk-toggleable__label {cursor: pointer;display: block;width: 100%;margin-bottom: 0;padding: 0.3em;box-sizing: border-box;text-align: center;}#sk-container-id-4 label.sk-toggleable__label-arrow:before {content: \"▸\";float: left;margin-right: 0.25em;color: #696969;}#sk-container-id-4 label.sk-toggleable__label-arrow:hover:before {color: black;}#sk-container-id-4 div.sk-estimator:hover label.sk-toggleable__label-arrow:before {color: black;}#sk-container-id-4 div.sk-toggleable__content {max-height: 0;max-width: 0;overflow: hidden;text-align: left;background-color: #f0f8ff;}#sk-container-id-4 div.sk-toggleable__content pre {margin: 0.2em;color: black;border-radius: 0.25em;background-color: #f0f8ff;}#sk-container-id-4 input.sk-toggleable__control:checked~div.sk-toggleable__content {max-height: 200px;max-width: 100%;overflow: auto;}#sk-container-id-4 input.sk-toggleable__control:checked~label.sk-toggleable__label-arrow:before {content: \"▾\";}#sk-container-id-4 div.sk-estimator input.sk-toggleable__control:checked~label.sk-toggleable__label {background-color: #d4ebff;}#sk-container-id-4 div.sk-label input.sk-toggleable__control:checked~label.sk-toggleable__label {background-color: #d4ebff;}#sk-container-id-4 input.sk-hidden--visually {border: 0;clip: rect(1px 1px 1px 1px);clip: rect(1px, 1px, 1px, 1px);height: 1px;margin: -1px;overflow: hidden;padding: 0;position: absolute;width: 1px;}#sk-container-id-4 div.sk-estimator {font-family: monospace;background-color: #f0f8ff;border: 1px dotted black;border-radius: 0.25em;box-sizing: border-box;margin-bottom: 0.5em;}#sk-container-id-4 div.sk-estimator:hover {background-color: #d4ebff;}#sk-container-id-4 div.sk-parallel-item::after {content: \"\";width: 100%;border-bottom: 1px solid gray;flex-grow: 1;}#sk-container-id-4 div.sk-label:hover label.sk-toggleable__label {background-color: #d4ebff;}#sk-container-id-4 div.sk-serial::before {content: \"\";position: absolute;border-left: 1px solid gray;box-sizing: border-box;top: 0;bottom: 0;left: 50%;z-index: 0;}#sk-container-id-4 div.sk-serial {display: flex;flex-direction: column;align-items: center;background-color: white;padding-right: 0.2em;padding-left: 0.2em;position: relative;}#sk-container-id-4 div.sk-item {position: relative;z-index: 1;}#sk-container-id-4 div.sk-parallel {display: flex;align-items: stretch;justify-content: center;background-color: white;position: relative;}#sk-container-id-4 div.sk-item::before, #sk-container-id-4 div.sk-parallel-item::before {content: \"\";position: absolute;border-left: 1px solid gray;box-sizing: border-box;top: 0;bottom: 0;left: 50%;z-index: -1;}#sk-container-id-4 div.sk-parallel-item {display: flex;flex-direction: column;z-index: 1;position: relative;background-color: white;}#sk-container-id-4 div.sk-parallel-item:first-child::after {align-self: flex-end;width: 50%;}#sk-container-id-4 div.sk-parallel-item:last-child::after {align-self: flex-start;width: 50%;}#sk-container-id-4 div.sk-parallel-item:only-child::after {width: 0;}#sk-container-id-4 div.sk-dashed-wrapped {border: 1px dashed gray;margin: 0 0.4em 0.5em 0.4em;box-sizing: border-box;padding-bottom: 0.4em;background-color: white;}#sk-container-id-4 div.sk-label label {font-family: monospace;font-weight: bold;display: inline-block;line-height: 1.2em;}#sk-container-id-4 div.sk-label-container {text-align: center;}#sk-container-id-4 div.sk-container {/* jupyter's `normalize.less` sets `[hidden] { display: none; }` but bootstrap.min.css set `[hidden] { display: none !important; }` so we also need the `!important` here to be able to override the default hidden behavior on the sphinx rendered scikit-learn.org. See: https://github.com/scikit-learn/scikit-learn/issues/21755 */display: inline-block !important;position: relative;}#sk-container-id-4 div.sk-text-repr-fallback {display: none;}</style><div id=\"sk-container-id-4\" class=\"sk-top-container\"><div class=\"sk-text-repr-fallback\"><pre>SVC()</pre><b>In a Jupyter environment, please rerun this cell to show the HTML representation or trust the notebook. <br />On GitHub, the HTML representation is unable to render, please try loading this page with nbviewer.org.</b></div><div class=\"sk-container\" hidden><div class=\"sk-item\"><div class=\"sk-estimator sk-toggleable\"><input class=\"sk-toggleable__control sk-hidden--visually\" id=\"sk-estimator-id-4\" type=\"checkbox\" checked><label for=\"sk-estimator-id-4\" class=\"sk-toggleable__label sk-toggleable__label-arrow\">SVC</label><div class=\"sk-toggleable__content\"><pre>SVC()</pre></div></div></div></div></div>"
      ],
      "text/plain": [
       "SVC()"
      ]
     },
     "execution_count": 63,
     "metadata": {},
     "output_type": "execute_result"
    }
   ],
   "source": [
    "# SVC\n",
    "\n",
    "model = SVC()\n",
    "model.fit(x_train, y_train)"
   ]
  },
  {
   "cell_type": "code",
   "execution_count": 64,
   "id": "889dc9ae",
   "metadata": {},
   "outputs": [],
   "source": [
    "y_pred=model.predict(x_test)"
   ]
  },
  {
   "cell_type": "code",
   "execution_count": 65,
   "id": "cfcd26b5",
   "metadata": {},
   "outputs": [
    {
     "data": {
      "text/plain": [
       "0.8708609271523179"
      ]
     },
     "execution_count": 65,
     "metadata": {},
     "output_type": "execute_result"
    }
   ],
   "source": [
    "svc_score = model.score(x_test, y_test)\n",
    "svc_score"
   ]
  },
  {
   "cell_type": "code",
   "execution_count": 66,
   "id": "4fe9db14",
   "metadata": {
    "scrolled": true
   },
   "outputs": [
    {
     "name": "stdout",
     "output_type": "stream",
     "text": [
      "              precision    recall  f1-score   support\n",
      "\n",
      "           0       0.82      0.93      0.87       143\n",
      "           1       0.93      0.82      0.87       159\n",
      "\n",
      "    accuracy                           0.87       302\n",
      "   macro avg       0.87      0.87      0.87       302\n",
      "weighted avg       0.88      0.87      0.87       302\n",
      "\n"
     ]
    }
   ],
   "source": [
    "print(classification_report(y_pred, y_test))"
   ]
  },
  {
   "cell_type": "code",
   "execution_count": 67,
   "id": "c73269a7",
   "metadata": {},
   "outputs": [
    {
     "data": {
      "text/html": [
       "<style>#sk-container-id-5 {color: black;background-color: white;}#sk-container-id-5 pre{padding: 0;}#sk-container-id-5 div.sk-toggleable {background-color: white;}#sk-container-id-5 label.sk-toggleable__label {cursor: pointer;display: block;width: 100%;margin-bottom: 0;padding: 0.3em;box-sizing: border-box;text-align: center;}#sk-container-id-5 label.sk-toggleable__label-arrow:before {content: \"▸\";float: left;margin-right: 0.25em;color: #696969;}#sk-container-id-5 label.sk-toggleable__label-arrow:hover:before {color: black;}#sk-container-id-5 div.sk-estimator:hover label.sk-toggleable__label-arrow:before {color: black;}#sk-container-id-5 div.sk-toggleable__content {max-height: 0;max-width: 0;overflow: hidden;text-align: left;background-color: #f0f8ff;}#sk-container-id-5 div.sk-toggleable__content pre {margin: 0.2em;color: black;border-radius: 0.25em;background-color: #f0f8ff;}#sk-container-id-5 input.sk-toggleable__control:checked~div.sk-toggleable__content {max-height: 200px;max-width: 100%;overflow: auto;}#sk-container-id-5 input.sk-toggleable__control:checked~label.sk-toggleable__label-arrow:before {content: \"▾\";}#sk-container-id-5 div.sk-estimator input.sk-toggleable__control:checked~label.sk-toggleable__label {background-color: #d4ebff;}#sk-container-id-5 div.sk-label input.sk-toggleable__control:checked~label.sk-toggleable__label {background-color: #d4ebff;}#sk-container-id-5 input.sk-hidden--visually {border: 0;clip: rect(1px 1px 1px 1px);clip: rect(1px, 1px, 1px, 1px);height: 1px;margin: -1px;overflow: hidden;padding: 0;position: absolute;width: 1px;}#sk-container-id-5 div.sk-estimator {font-family: monospace;background-color: #f0f8ff;border: 1px dotted black;border-radius: 0.25em;box-sizing: border-box;margin-bottom: 0.5em;}#sk-container-id-5 div.sk-estimator:hover {background-color: #d4ebff;}#sk-container-id-5 div.sk-parallel-item::after {content: \"\";width: 100%;border-bottom: 1px solid gray;flex-grow: 1;}#sk-container-id-5 div.sk-label:hover label.sk-toggleable__label {background-color: #d4ebff;}#sk-container-id-5 div.sk-serial::before {content: \"\";position: absolute;border-left: 1px solid gray;box-sizing: border-box;top: 0;bottom: 0;left: 50%;z-index: 0;}#sk-container-id-5 div.sk-serial {display: flex;flex-direction: column;align-items: center;background-color: white;padding-right: 0.2em;padding-left: 0.2em;position: relative;}#sk-container-id-5 div.sk-item {position: relative;z-index: 1;}#sk-container-id-5 div.sk-parallel {display: flex;align-items: stretch;justify-content: center;background-color: white;position: relative;}#sk-container-id-5 div.sk-item::before, #sk-container-id-5 div.sk-parallel-item::before {content: \"\";position: absolute;border-left: 1px solid gray;box-sizing: border-box;top: 0;bottom: 0;left: 50%;z-index: -1;}#sk-container-id-5 div.sk-parallel-item {display: flex;flex-direction: column;z-index: 1;position: relative;background-color: white;}#sk-container-id-5 div.sk-parallel-item:first-child::after {align-self: flex-end;width: 50%;}#sk-container-id-5 div.sk-parallel-item:last-child::after {align-self: flex-start;width: 50%;}#sk-container-id-5 div.sk-parallel-item:only-child::after {width: 0;}#sk-container-id-5 div.sk-dashed-wrapped {border: 1px dashed gray;margin: 0 0.4em 0.5em 0.4em;box-sizing: border-box;padding-bottom: 0.4em;background-color: white;}#sk-container-id-5 div.sk-label label {font-family: monospace;font-weight: bold;display: inline-block;line-height: 1.2em;}#sk-container-id-5 div.sk-label-container {text-align: center;}#sk-container-id-5 div.sk-container {/* jupyter's `normalize.less` sets `[hidden] { display: none; }` but bootstrap.min.css set `[hidden] { display: none !important; }` so we also need the `!important` here to be able to override the default hidden behavior on the sphinx rendered scikit-learn.org. See: https://github.com/scikit-learn/scikit-learn/issues/21755 */display: inline-block !important;position: relative;}#sk-container-id-5 div.sk-text-repr-fallback {display: none;}</style><div id=\"sk-container-id-5\" class=\"sk-top-container\"><div class=\"sk-text-repr-fallback\"><pre>GaussianNB()</pre><b>In a Jupyter environment, please rerun this cell to show the HTML representation or trust the notebook. <br />On GitHub, the HTML representation is unable to render, please try loading this page with nbviewer.org.</b></div><div class=\"sk-container\" hidden><div class=\"sk-item\"><div class=\"sk-estimator sk-toggleable\"><input class=\"sk-toggleable__control sk-hidden--visually\" id=\"sk-estimator-id-5\" type=\"checkbox\" checked><label for=\"sk-estimator-id-5\" class=\"sk-toggleable__label sk-toggleable__label-arrow\">GaussianNB</label><div class=\"sk-toggleable__content\"><pre>GaussianNB()</pre></div></div></div></div></div>"
      ],
      "text/plain": [
       "GaussianNB()"
      ]
     },
     "execution_count": 67,
     "metadata": {},
     "output_type": "execute_result"
    }
   ],
   "source": [
    "# Naive Baye's\n",
    "\n",
    "naive_model = GaussianNB()\n",
    "naive_model.fit(x_train, y_train)"
   ]
  },
  {
   "cell_type": "code",
   "execution_count": 68,
   "id": "3bdccc77",
   "metadata": {},
   "outputs": [],
   "source": [
    "y_pred=naive_model.predict(x_test)"
   ]
  },
  {
   "cell_type": "code",
   "execution_count": 69,
   "id": "9ffa6fdb",
   "metadata": {},
   "outputs": [
    {
     "data": {
      "text/plain": [
       "0.7284768211920529"
      ]
     },
     "execution_count": 69,
     "metadata": {},
     "output_type": "execute_result"
    }
   ],
   "source": [
    "naive_score = naive_model.score(x_test, y_test)\n",
    "naive_score"
   ]
  },
  {
   "cell_type": "code",
   "execution_count": 70,
   "id": "aade0e73",
   "metadata": {},
   "outputs": [
    {
     "name": "stdout",
     "output_type": "stream",
     "text": [
      "              precision    recall  f1-score   support\n",
      "\n",
      "           0       0.57      0.88      0.69       104\n",
      "           1       0.91      0.65      0.76       198\n",
      "\n",
      "    accuracy                           0.73       302\n",
      "   macro avg       0.74      0.77      0.72       302\n",
      "weighted avg       0.80      0.73      0.73       302\n",
      "\n"
     ]
    }
   ],
   "source": [
    "print(classification_report(y_pred, y_test))"
   ]
  },
  {
   "cell_type": "code",
   "execution_count": null,
   "id": "e649f404",
   "metadata": {},
   "outputs": [],
   "source": []
  },
  {
   "cell_type": "code",
   "execution_count": 71,
   "id": "f9811c7b",
   "metadata": {},
   "outputs": [],
   "source": [
    "model_scores = {}\n",
    "\n",
    "model_scores['logistic_score'] = log_score"
   ]
  },
  {
   "cell_type": "code",
   "execution_count": 72,
   "id": "3e3b703c",
   "metadata": {},
   "outputs": [
    {
     "data": {
      "text/plain": [
       "{'logistic_score': 0.7715231788079471}"
      ]
     },
     "execution_count": 72,
     "metadata": {},
     "output_type": "execute_result"
    }
   ],
   "source": [
    "model_scores"
   ]
  },
  {
   "cell_type": "code",
   "execution_count": 73,
   "id": "0814726d",
   "metadata": {},
   "outputs": [],
   "source": [
    "scores = {\n",
    "    'RandomForestClassifier' : random_score,\n",
    "    'DecisionTreeClassifier' : dec_score,\n",
    "    'SVC' : svc_score,\n",
    "    'Naive Bayes' : naive_score\n",
    "}"
   ]
  },
  {
   "cell_type": "code",
   "execution_count": 74,
   "id": "910aa4de",
   "metadata": {},
   "outputs": [],
   "source": [
    "model_scores.update(scores)"
   ]
  },
  {
   "cell_type": "code",
   "execution_count": 75,
   "id": "d0b4e4ea",
   "metadata": {
    "scrolled": true
   },
   "outputs": [
    {
     "data": {
      "text/plain": [
       "{'logistic_score': 0.7715231788079471,\n",
       " 'RandomForestClassifier': 0.9105960264900662,\n",
       " 'DecisionTreeClassifier': 0.8609271523178808,\n",
       " 'SVC': 0.8708609271523179,\n",
       " 'Naive Bayes': 0.7284768211920529}"
      ]
     },
     "execution_count": 75,
     "metadata": {},
     "output_type": "execute_result"
    }
   ],
   "source": [
    "model_scores"
   ]
  },
  {
   "cell_type": "code",
   "execution_count": 76,
   "id": "2c082419",
   "metadata": {
    "scrolled": true
   },
   "outputs": [
    {
     "data": {
      "text/html": [
       "<div>\n",
       "<style scoped>\n",
       "    .dataframe tbody tr th:only-of-type {\n",
       "        vertical-align: middle;\n",
       "    }\n",
       "\n",
       "    .dataframe tbody tr th {\n",
       "        vertical-align: top;\n",
       "    }\n",
       "\n",
       "    .dataframe thead th {\n",
       "        text-align: right;\n",
       "    }\n",
       "</style>\n",
       "<table border=\"1\" class=\"dataframe\">\n",
       "  <thead>\n",
       "    <tr style=\"text-align: right;\">\n",
       "      <th></th>\n",
       "      <th>Model</th>\n",
       "      <th>Score</th>\n",
       "    </tr>\n",
       "  </thead>\n",
       "  <tbody>\n",
       "    <tr>\n",
       "      <th>0</th>\n",
       "      <td>logistic_score</td>\n",
       "      <td>0.771523</td>\n",
       "    </tr>\n",
       "    <tr>\n",
       "      <th>1</th>\n",
       "      <td>RandomForestClassifier</td>\n",
       "      <td>0.910596</td>\n",
       "    </tr>\n",
       "    <tr>\n",
       "      <th>2</th>\n",
       "      <td>DecisionTreeClassifier</td>\n",
       "      <td>0.860927</td>\n",
       "    </tr>\n",
       "    <tr>\n",
       "      <th>3</th>\n",
       "      <td>SVC</td>\n",
       "      <td>0.870861</td>\n",
       "    </tr>\n",
       "    <tr>\n",
       "      <th>4</th>\n",
       "      <td>Naive Bayes</td>\n",
       "      <td>0.728477</td>\n",
       "    </tr>\n",
       "  </tbody>\n",
       "</table>\n",
       "</div>"
      ],
      "text/plain": [
       "                    Model     Score\n",
       "0          logistic_score  0.771523\n",
       "1  RandomForestClassifier  0.910596\n",
       "2  DecisionTreeClassifier  0.860927\n",
       "3                     SVC  0.870861\n",
       "4             Naive Bayes  0.728477"
      ]
     },
     "execution_count": 76,
     "metadata": {},
     "output_type": "execute_result"
    }
   ],
   "source": [
    "new_df = pd.DataFrame(list(model_scores.items()), columns= ['Model', 'Score'])\n",
    "new_df"
   ]
  },
  {
   "cell_type": "code",
   "execution_count": 77,
   "id": "9bf7237e",
   "metadata": {},
   "outputs": [],
   "source": [
    "new_df1 = new_df.set_index('Model', inplace=True)\n",
    "new_df1"
   ]
  },
  {
   "cell_type": "code",
   "execution_count": 78,
   "id": "6cb55258",
   "metadata": {},
   "outputs": [
    {
     "data": {
      "text/html": [
       "<div>\n",
       "<style scoped>\n",
       "    .dataframe tbody tr th:only-of-type {\n",
       "        vertical-align: middle;\n",
       "    }\n",
       "\n",
       "    .dataframe tbody tr th {\n",
       "        vertical-align: top;\n",
       "    }\n",
       "\n",
       "    .dataframe thead th {\n",
       "        text-align: right;\n",
       "    }\n",
       "</style>\n",
       "<table border=\"1\" class=\"dataframe\">\n",
       "  <thead>\n",
       "    <tr style=\"text-align: right;\">\n",
       "      <th></th>\n",
       "      <th>Score</th>\n",
       "    </tr>\n",
       "    <tr>\n",
       "      <th>Model</th>\n",
       "      <th></th>\n",
       "    </tr>\n",
       "  </thead>\n",
       "  <tbody>\n",
       "    <tr>\n",
       "      <th>logistic_score</th>\n",
       "      <td>0.771523</td>\n",
       "    </tr>\n",
       "    <tr>\n",
       "      <th>RandomForestClassifier</th>\n",
       "      <td>0.910596</td>\n",
       "    </tr>\n",
       "    <tr>\n",
       "      <th>DecisionTreeClassifier</th>\n",
       "      <td>0.860927</td>\n",
       "    </tr>\n",
       "    <tr>\n",
       "      <th>SVC</th>\n",
       "      <td>0.870861</td>\n",
       "    </tr>\n",
       "    <tr>\n",
       "      <th>Naive Bayes</th>\n",
       "      <td>0.728477</td>\n",
       "    </tr>\n",
       "  </tbody>\n",
       "</table>\n",
       "</div>"
      ],
      "text/plain": [
       "                           Score\n",
       "Model                           \n",
       "logistic_score          0.771523\n",
       "RandomForestClassifier  0.910596\n",
       "DecisionTreeClassifier  0.860927\n",
       "SVC                     0.870861\n",
       "Naive Bayes             0.728477"
      ]
     },
     "execution_count": 78,
     "metadata": {},
     "output_type": "execute_result"
    }
   ],
   "source": [
    "new_df"
   ]
  },
  {
   "cell_type": "code",
   "execution_count": 79,
   "id": "10b27da7",
   "metadata": {
    "scrolled": true
   },
   "outputs": [
    {
     "data": {
      "text/plain": [
       "<AxesSubplot:xlabel='Model'>"
      ]
     },
     "execution_count": 79,
     "metadata": {},
     "output_type": "execute_result"
    },
    {
     "data": {
      "image/png": "[encoded data removed]",
      "text/plain": [
       "<Figure size 432x288 with 1 Axes>"
      ]
     },
     "metadata": {
      "needs_background": "light"
     },
     "output_type": "display_data"
    }
   ],
   "source": [
    "new_df.plot.bar()   #Random Forest model score is best"
   ]
  },
  {
   "cell_type": "code",
   "execution_count": 80,
   "id": "883eae7e",
   "metadata": {},
   "outputs": [],
   "source": [
    "# Cross_val_score"
   ]
  },
  {
   "cell_type": "code",
   "execution_count": 81,
   "id": "b322bc9b",
   "metadata": {},
   "outputs": [
    {
     "data": {
      "text/plain": [
       "0.8637932226832643"
      ]
     },
     "execution_count": 81,
     "metadata": {},
     "output_type": "execute_result"
    }
   ],
   "source": [
    "ds_score = cross_val_score(DecisionTreeClassifier(),x_train, y_train)\n",
    "np.mean(ds_score)"
   ]
  },
  {
   "cell_type": "code",
   "execution_count": 82,
   "id": "ce4540b9",
   "metadata": {},
   "outputs": [
    {
     "data": {
      "text/plain": [
       "0.8604495159059475"
      ]
     },
     "execution_count": 82,
     "metadata": {},
     "output_type": "execute_result"
    }
   ],
   "source": [
    "rf_score = cross_val_score(RandomForestClassifier(n_estimators=150),x_train, y_train)\n",
    "np.mean(rf_score)"
   ]
  },
  {
   "cell_type": "code",
   "execution_count": 83,
   "id": "db5db2af",
   "metadata": {},
   "outputs": [
    {
     "data": {
      "text/plain": [
       "0.7233921161825727"
      ]
     },
     "execution_count": 83,
     "metadata": {},
     "output_type": "execute_result"
    }
   ],
   "source": [
    "lr_score = cross_val_score(LogisticRegression(),x_train, y_train)\n",
    "np.mean(lr_score)"
   ]
  },
  {
   "cell_type": "code",
   "execution_count": 84,
   "id": "13e95c6f",
   "metadata": {},
   "outputs": [
    {
     "data": {
      "text/plain": [
       "0.8388520055325035"
      ]
     },
     "execution_count": 84,
     "metadata": {},
     "output_type": "execute_result"
    }
   ],
   "source": [
    "svm_score = cross_val_score(SVC(),x_train, y_train)\n",
    "np.mean(svm_score)"
   ]
  },
  {
   "cell_type": "code",
   "execution_count": null,
   "id": "835e478e",
   "metadata": {},
   "outputs": [],
   "source": []
  },
  {
   "cell_type": "code",
   "execution_count": 85,
   "id": "e1ccc60d",
   "metadata": {},
   "outputs": [],
   "source": [
    "# save model in pickle format\n",
    "\n",
    "import pickle\n",
    "\n",
    "with open('Automobile_fraud_model_pickle', 'wb') as f:\n",
    "    pickle.dump(random_model, f)"
   ]
  },
  {
   "cell_type": "code",
   "execution_count": null,
   "id": "0b84efc1",
   "metadata": {},
   "outputs": [],
   "source": []
  },
  {
   "cell_type": "code",
   "execution_count": null,
   "id": "cb0bee2b",
   "metadata": {},
   "outputs": [],
   "source": []
  },
  {
   "cell_type": "code",
   "execution_count": null,
   "id": "f293f454",
   "metadata": {},
   "outputs": [],
   "source": []
  },
  {
   "cell_type": "code",
   "execution_count": null,
   "id": "9aa0ba57",
   "metadata": {},
   "outputs": [],
   "source": []
  },
  {
   "cell_type": "code",
   "execution_count": null,
   "id": "a8da870c",
   "metadata": {},
   "outputs": [],
   "source": []
  },
  {
   "cell_type": "code",
   "execution_count": null,
   "id": "93b89ca7",
   "metadata": {},
   "outputs": [],
   "source": []
  },
  {
   "cell_type": "code",
   "execution_count": null,
   "id": "31b104c6",
   "metadata": {},
   "outputs": [],
   "source": []
  },
  {
   "cell_type": "code",
   "execution_count": null,
   "id": "79ab5c1c",
   "metadata": {},
   "outputs": [],
   "source": []
  },
  {
   "cell_type": "code",
   "execution_count": null,
   "id": "3330d788",
   "metadata": {},
   "outputs": [],
   "source": []
  }
 ],
 "metadata": {
  "kernelspec": {
   "display_name": "Python 3 (ipykernel)",
   "language": "python",
   "name": "python3"
  },
  "language_info": {
   "codemirror_mode": {
    "name": "ipython",
    "version": 3
   },
   "file_extension": ".py",
   "mimetype": "text/x-python",
   "name": "python",
   "nbconvert_exporter": "python",
   "pygments_lexer": "ipython3",
   "version": "3.9.7"
  }
 },
 "nbformat": 4,
 "nbformat_minor": 5
}
